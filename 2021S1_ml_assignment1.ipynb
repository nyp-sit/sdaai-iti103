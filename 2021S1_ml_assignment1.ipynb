
 "cells": [
  {
   "cell_type": "markdown",
   "metadata": {
    "colab_type": "text",
    "id": "view-in-github"
   },
   "source": [
    "<a href=\"https://colab.research.google.com/github/nyp-sit/sdaai-iti103/blob/master/2021S1_ml_assignment1.ipynb\" target=\"_parent\"><img src=\"https://colab.research.google.com/assets/colab-badge.svg\" alt=\"Open In Colab\"/></a>"
   ]
  },
  {
   "cell_type": "markdown",
   "metadata": {
    "id": "exxTxlIdTB3L",
    "run_control": {
     "marked": true
    }
   },
   "source": [
    "# ITI103: Essentials of Machine Learning - Assignment 1"
   ]
  },
  {
   "cell_type": "markdown",
   "metadata": {
    "id": "qS7fHzUeTB3M",
    "run_control": {
     "marked": true
    }
   },
   "source": [
    "## Introduction\n",
    "\n",
    "In this assignment, you will work a data set based on [housing prices in Ames, Iowa](https://www.kaggle.com/c/house-prices-advanced-regression-techniques). It is a modernized alternative to the well-known Boston Housing dataset. \n",
    "\n",
    "You may access the dataset from [https://raw.githubusercontent.com/nyp-sit/sdaai-iti103/master/assignments/data/ames_house_prices_simple.csv) For a detailed description of each field (feature), you can refer to the following [file](https://raw.githubusercontent.com/nyp-sit/sdaai-iti103/master/assignments/data/data_description.txt)\n"
   ]
  },
  {
   "cell_type": "code",
   "execution_count": null,
   "metadata": {
    "id": "PSXulFb9U0ck"
   },
   "outputs": [],
   "source": [
    "import pandas as pd\n",
    "import numpy as np\n",
    "\n",
    "pd.set_option('display.max_columns', 200) \n",
    "pd.set_option('display.max_rows',200)"
   ]
  },
  {
   "cell_type": "markdown",
   "metadata": {
    "id": "Y9CGm2OgTB3N",
    "run_control": {
     "marked": true
    }
   },
   "source": [
    "### Question 1 (2 marks)\n",
    "\n",
    "Complete the code below and answer the following: \n",
    "- How many rows and columns are there?\n",
    "- What are the different data types of the columns? \n",
    "\n",
    "_Type your answer here_"
   ]
  },
  {
   "cell_type": "code",
   "execution_count": null,
   "metadata": {
    "id": "O71PVNVLTB3O",
    "run_control": {
     "marked": true
    }
   },
   "outputs": [],
   "source": [
    "## START YOUR CODE\n",
    "\n",
    "# Import the data \n",
    "\n",
    "\n",
    "# Display value counts of each data type\n",
    "\n",
    "\n",
    "## END YOUR CODE"
   ]
  },
  {
   "cell_type": "markdown",
   "metadata": {
    "id": "V6TH2a6mTB3T",
    "run_control": {
     "marked": true
    }
   },
   "source": [
    "### Question 2 (5 marks)\n",
    "\n",
    "Examine the column dtype and read the column description in data_description.txt.  Determine which columns are categorical. Create a list that contains the column names that are categorical. "
   ]
  },
  {
   "cell_type": "code",
   "execution_count": null,
   "metadata": {
    "id": "xOFa41z3TB3U",
    "run_control": {
     "marked": true
    }
   },
   "outputs": [],
   "source": [
    "## START YOUR CODE\n",
    "\n",
    "# Get the list of column names that are object type\n",
    "categorical_cols = []\n",
    "\n",
    "\n",
    "# add additional column name that you think should be categorical\n",
    "\n",
    "\n",
    "## END YOUR CODE"
   ]
  },
  {
   "cell_type": "markdown",
   "metadata": {
    "id": "W195EUbxU0cp"
   },
   "source": [
    "### Question 3 (8 marks)\n",
    "\n",
    "Think about the 'YearBuilt' and 'MoSold' columns (which represent the year the house is built and the month it was sold). They are of numeric (integer) type. Should you transform it?  Give your reason for the answer.\n",
    "\n",
    "If your answer is 'Yes', write the code to transform it.\n",
    "\n",
    "_Type your answer here_"
   ]
  },
  {
   "cell_type": "code",
   "execution_count": null,
   "metadata": {
    "id": "fT_wWnvsU0cq"
   },
   "outputs": [],
   "source": [
    "# Make a copy of the original dataframe and do all the processing on the copy \n",
    "# use the data for subsequent cells\n",
    "\n",
    "data = df.copy()"
   ]
  },
  {
   "cell_type": "code",
   "execution_count": null,
   "metadata": {
    "id": "xj3K9pgIU0cr"
   },
   "outputs": [],
   "source": [
    "## START YOUR CODE HERE ## \n",
    "\n",
    "# find how many different years are there to decide if need to bin it\n",
    "\n",
    "\n",
    "# we can either bin the years into pre-1900, 1901-1920, 1921-1930, etc. or simple create 10 bins\n",
    "\n",
    "# find how many different years are there to decide if need to bin it\n",
    "\n",
    "\n",
    "# One way to bin the months is to divide the months into different seasons, if we think there is some seasonal pattern \n",
    "print(\"unique months = \", data['MoSold'].nunique())\n",
    "\n",
    "spring = [3,4,5]\n",
    "summer = [6,7,8]\n",
    "autumn = [9,10,11]\n",
    "winter = [12,1,2]\n",
    "\n",
    "def month_to_season(month):\n",
    "    if month in spring: \n",
    "        return 'spring'\n",
    "    if month in summer:\n",
    "        return 'summer'\n",
    "    if month in autumn:\n",
    "        return 'autumn'\n",
    "    if month in winter:\n",
    "        return 'winter'\n",
    "    \n",
    "data['BinnedMoSold'] = data['MoSold'].map(month_to_season)\n",
    "\n",
    "# drop all the transformed columns\n",
    "\n",
    "## END YOUR CODE HERE ## "
   ]
  },
  {
   "cell_type": "code",
   "execution_count": null,
   "metadata": {
    "id": "YD_lVEr9U0cs"
   },
   "outputs": [],
   "source": [
    "data.head()"
   ]
  },
  {
   "cell_type": "markdown",
   "metadata": {
    "id": "RT2vnRP-TB3c",
    "run_control": {
     "marked": true
    }
   },
   "source": [
    "### Question 4 (5 marks)\n",
    "\n",
    "Use appropriate encoding for the categorical columns. \n"
   ]
  },
  {
   "cell_type": "code",
   "execution_count": null,
   "metadata": {
    "id": "g2TkRE8bU0ct"
   },
   "outputs": [],
   "source": [
    "## START YOUR CODE HERE ## \n",
    "\n",
    "\n",
    "\n",
    "## START YOUR CODE HERE ## "
   ]
  },
  {
   "cell_type": "markdown",
   "metadata": {
    "id": "48z7AaTtTB3g",
    "run_control": {
     "marked": true
    }
   },
   "source": [
    "### Question 5 (5 marks)\n",
    "- Separate your data into features and target label ('SalePrice') columns. \n",
    "- Create train/test splits. Decide on the most appropriate splitting strategy.\n"
   ]
  },
  {
   "cell_type": "code",
   "execution_count": null,
   "metadata": {
    "id": "1DhyLUwlTB3h",
    "run_control": {
     "marked": true
    }
   },
   "outputs": [],
   "source": [
    "## START YOUR CODE HERE ## \n",
    "\n",
    "\n",
    "\n",
    "## END YOUR CODE HERE ##"
   ]
  },
  {
   "cell_type": "markdown",
   "metadata": {
    "id": "dBHECC6NTB3k",
    "run_control": {
     "marked": true
    }
   },
   "source": [
    "### Question 6 (7 marks)\n",
    "\n",
    "* Scale the all the numerical (non categorical) features using one of the following: `StandardScaler`, `MinMaxScaler`\n",
    "* Be sure to fit the scaler on *ONLY* the training data, but then apply it to both the train and test data identically.\n",
    "* Optional: You may also want to calculate the skewness of your numeric features and decide if you need to do log transform. "
   ]
  },
  {
   "cell_type": "code",
   "execution_count": null,
   "metadata": {
    "id": "df6zIjVMU0cw"
   },
   "outputs": [],
   "source": [
    "numeric_cols = []\n",
    "\n",
    "for col in X_train.columns:\n",
    "    if X_train[col].dtype == np.float64:\n",
    "        numeric_cols.append(col)\n",
    "print(numeric_cols)"
   ]
  },
  {
   "cell_type": "code",
   "execution_count": null,
   "metadata": {
    "id": "giZnzvCYU0cx"
   },
   "outputs": [],
   "source": [
    "from sklearn.preprocessing import StandardScaler\n",
    "\n",
    "# StandardScalar\n"
   ]
  },
  {
   "cell_type": "code",
   "execution_count": null,
   "metadata": {
    "id": "JxkzAdLIU0cy"
   },
   "outputs": [],
   "source": []
  },
  {
   "cell_type": "markdown",
   "metadata": {
    "id": "DVnd4iNPTB3p"
   },
   "source": [
    "### Question 7 (5 marks)\n",
    "\n",
    "* Fit a Linear Regression model on the training data. Apply regularization if necessary. \n",
    "* Calculate the mean squared error on both the train and test set\n",
    "* Calculate the R-square error on both train and test set \n",
    "\n",
    "What can you conclude from the result? \n",
    "\n",
    "_Type your answer here_"
   ]
  },
  {
   "cell_type": "code",
   "execution_count": null,
   "metadata": {
    "id": "wFD0lAnOTB3q"
   },
   "outputs": [],
   "source": [
    "## START YOUR CODE HERE\n",
    "\n",
    "from sklearn.metrics import mean_squared_error\n",
    "from sklearn.linear_model import LinearRegression, Ridge, Lasso\n",
    "from sklearn.ensemble import RandomForestRegressor\n",
    "\n",
    "\n",
    "\n",
    "## END YOUR CODE"
   ]
  },
  {
   "cell_type": "markdown",
   "metadata": {
    "id": "0x_-ito9U0c0"
   },
   "source": [
    "### Question 8 (5 marks)\n",
    "\n",
    "* Now train a RandomForestRegressor by using `RandomForestRegressor(n_estimators=30)`\n",
    "* Find the MSE and R-sqaure score on both train and test set."
   ]
  },
  {
   "cell_type": "code",
   "execution_count": null,
   "metadata": {
    "id": "0-5fCYaqU0c1"
   },
   "outputs": [],
   "source": [
    "## START YOUR CODE HERE ##\n",
    "\n",
    "\n",
    "\n",
    "## END YOUR CODE HERE ## "
   ]
  },
  {
   "cell_type": "markdown",
   "metadata": {
    "id": "_4Xl4cCnTB3t",
    "run_control": {
     "marked": true
    }
   },
   "source": [
    "### Question 9 (4 marks)\n",
    "\n",
    "Plot predicted prices vs actual prices for the RandomForestRegressor model. "
   ]
  },
  {
   "cell_type": "code",
   "execution_count": null,
   "metadata": {
    "id": "Tda-WcgeU0c2"
   },
   "outputs": [],
   "source": [
    "## START YOUR CODE HERE ## \n",
    "import matplotlib.pyplot as plt\n",
    "import seaborn as sns\n",
    "\n",
    "\n",
    "## END YOUR CODE HERE ## "
   ]
  },
  {
   "cell_type": "markdown",
   "metadata": {
    "id": "7P0amO1xTB3w"
   },
   "source": [
    "### Question 10 (2 marks)\n",
    "\n",
    "What can you conclude from the plot?\n",
    "\n",
    "_Type your answer here_"
   ]
  },
  {
   "cell_type": "markdown",
   "metadata": {
    "id": "xa_s7NSlU0c3"
   },
   "source": [
    "### Question 11 (2 marks)\n",
    "\n",
    "Noticed that we did not ask you to evaluate the result on the validation set, as our train set is pretty small (less than 1000 samples). We can however, use K-fold cross-validation to evaluate our model. \n",
    "\n",
    "- Use 5-fold cross-validation to train and evaluate our model (use RandomForestRegressor)\n",
    "- Compute the average MSEs across all folds. "
   ]
  },
  {
   "cell_type": "code",
   "execution_count": null,
   "metadata": {
    "id": "KqC456ORU0c4"
   },
   "outputs": [],
   "source": [
    "from sklearn.model_selection import KFold\n",
    "\n",
    "\n",
    "# We use enumerate() to return also the index position of the list so that we can print out the fold number\n",
    "\n"
   ]
  },
  {
   "cell_type": "code",
   "execution_count": null,
   "metadata": {
    "id": "b4WKIc9xU0c4"
   },
   "outputs": [],
   "source": []
  }
 ],
 "metadata": {
  "anaconda-cloud": {},
  "colab": {
   "include_colab_link": true,
   "name": "2021S1 ml_assignment1.ipynb",
   "provenance": []
  },
  "kernelspec": {
   "display_name": "Python 3",
   "language": "python",
   "name": "python3"
  },
  "language_info": {
   "codemirror_mode": {
    "name": "ipython",
    "version": 3
   },
   "file_extension": ".py",
   "mimetype": "text/x-python",
   "name": "python",
   "nbconvert_exporter": "python",
   "pygments_lexer": "ipython3",
   "version": "3.7.6"
  },
  "name": "Train_Test_Splits_Regularization_Exercises-ANSWERS",
  "notebookId": 2125319687183944
 },
 "nbformat": 4,
 "nbformat_minor": 4
}
