{
  "nbformat": 4,
  "nbformat_minor": 0,
  "metadata": {
    "colab": {
      "name": "AutoML_v1.ipynb",
      "provenance": [],
      "collapsed_sections": [],
      "authorship_tag": "ABX9TyOKGPXImwgiAILbfEqOTAeZ",
      "include_colab_link": true
    },
    "kernelspec": {
      "name": "python3",
      "display_name": "Python 3"
    },
    "language_info": {
      "name": "python"
    }
  },
  "cells": [
    {
      "cell_type": "markdown",
      "metadata": {
        "id": "view-in-github",
        "colab_type": "text"
      },
      "source": [
        "<a href=\"https://colab.research.google.com/github/veronicalimpooikhoon/ITI103/blob/main/AutoML_v3.ipynb\" target=\"_parent\"><img src=\"https://colab.research.google.com/assets/colab-badge.svg\" alt=\"Open In Colab\"/></a>"
      ]
    },
    {
      "cell_type": "markdown",
      "source": [
        "# **Automated machine learning (AutoML)**"
      ],
      "metadata": {
        "id": "5JobbWBO6eXy"
      }
    },
    {
      "cell_type": "markdown",
      "source": [
        "Automated machine learning algorithms can be a huge time saver especially if the data is huge or the algorithm to be used is a simple classification or regression type problem. One such open-source automation in AutoML was the development of AutoSklearn. We know that the popular sklearn library is very rampantly used for building machine learning models. But with sklearn, it is up to the user to decide the algorithm that has to be used and do the hyperparameter tuning. With autosklearn, all the processes are automated for the benefit of the user. The benefit of this is that along with data preparation and model building, it also learns from models that have been used on similar datasets and can create automatic ensemble models for better accuracy. In this *session*, we will see how to make use of autosklearn for classification and regression problems. "
      ],
      "metadata": {
        "id": "FpZ_UXdd6Z8E"
      }
    },
    {
      "cell_type": "markdown",
      "source": [
        "**Install libraries- Auto-Sklearn and Pipeline Profiler**"
      ],
      "metadata": {
        "id": "zqCLxBFNhYG5"
      }
    },
    {
      "cell_type": "code",
      "source": [
        "!pip install auto-sklearn\n",
        "!pip install PipelineProfiler\n",
        "!pip install --upgrade scipy\n",
        "#import scipy\n",
        "#print(scipy.__version__)\n",
        "\n",
        "# You may start to restart runtime after the installation"
      ],
      "metadata": {
        "id": "fT-fA_qgZAfQ"
      },
      "execution_count": null,
      "outputs": []
    },
    {
      "cell_type": "markdown",
      "source": [
        "# **Import all the libraries**"
      ],
      "metadata": {
        "id": "fQtsV1kh7cap"
      }
    },
    {
      "cell_type": "markdown",
      "source": [
        "Note: You may need to click on the \"restart runtime\" if the following error occurs.\n",
        "- IncorrectPackageVersionError: found 'scipy' version 1.4.1 but requires scipy version >=1.7.0\n",
        "- Auto-sklearn not found"
      ],
      "metadata": {
        "id": "39Fe8bXp7GoG"
      }
    },
    {
      "cell_type": "code",
      "execution_count": 1,
      "metadata": {
        "id": "1w6QgNrRY6UA"
      },
      "outputs": [],
      "source": [
        "import sklearn\n",
        "from pprint import pprint\n",
        "\n",
        "import sklearn.datasets\n",
        "import sklearn.metrics\n",
        "\n",
        "import autosklearn.classification"
      ]
    },
    {
      "cell_type": "markdown",
      "source": [
        "# **AutoML- Classifier**"
      ],
      "metadata": {
        "id": "QDxdO87LiJHt"
      }
    },
    {
      "cell_type": "markdown",
      "source": [
        "1. Split the dataset into train, test set, features and label. Breast Cancer dataset will be used. "
      ],
      "metadata": {
        "id": "WwuL-fEd7hMw"
      }
    },
    {
      "cell_type": "code",
      "source": [
        "X, y = sklearn.datasets.load_breast_cancer(return_X_y=True)\n",
        "X_train, X_test, y_train, y_test = sklearn.model_selection.train_test_split(X, y, random_state=1)"
      ],
      "metadata": {
        "id": "1U7Nu2lFY_85"
      },
      "execution_count": 2,
      "outputs": []
    },
    {
      "cell_type": "markdown",
      "source": [
        "2. Building the classification model\n",
        "\n",
        "Time_left_for_this_task is the amount of time the user specifies for searching all the right models. I have allowed the search to take place for two minutes but you can choose any amount of time as you wish. \n",
        "\n",
        "Notes: Since we are using auto-sklearn, we need not specify the name of the algorithm or the parameters."
      ],
      "metadata": {
        "id": "OaKHheLg8Cih"
      }
    },
    {
      "cell_type": "code",
      "source": [
        "automl = autosklearn.classification.AutoSklearnClassifier(\n",
        "    time_left_for_this_task=120,\n",
        "    per_run_time_limit=30)\n",
        "    #tmp_folder='/tmp/autosklearn_classification_example_tmp',\n",
        "\n",
        "automl.fit(X_train, y_train, dataset_name='breast_cancer')"
      ],
      "metadata": {
        "id": "II5Jct01ZK67"
      },
      "execution_count": null,
      "outputs": []
    },
    {
      "cell_type": "markdown",
      "source": [
        "3. View the models found by auto-sklearn (Classifier)"
      ],
      "metadata": {
        "id": "6433c5byipeH"
      }
    },
    {
      "cell_type": "code",
      "source": [
        "print(automl.leaderboard())"
      ],
      "metadata": {
        "id": "C_9GUmvYZbjF"
      },
      "execution_count": null,
      "outputs": []
    },
    {
      "cell_type": "markdown",
      "source": [
        "Print the final ensemble constructed by auto-sklearn (Classifier)"
      ],
      "metadata": {
        "id": "KjS6mW0nikU5"
      }
    },
    {
      "cell_type": "code",
      "source": [
        "pprint(automl.show_models(), indent=4)"
      ],
      "metadata": {
        "id": "NyZWHWmWZeS2"
      },
      "execution_count": null,
      "outputs": []
    },
    {
      "cell_type": "markdown",
      "source": [
        "Now we have the statistics of the model and the algorithms that were checked were 7. Let us now see the accuracy of the model. "
      ],
      "metadata": {
        "id": "FrIHjBXajEjk"
      }
    },
    {
      "cell_type": "code",
      "source": [
        "predictions = automl.predict(X_test)\n",
        "print(\"Accuracy score:\", sklearn.metrics.accuracy_score(y_test, predictions))"
      ],
      "metadata": {
        "id": "GcLEykKtZhKE"
      },
      "execution_count": null,
      "outputs": []
    },
    {
      "cell_type": "markdown",
      "source": [
        "This is a good score since we have not scaled or pre-processed the data and we have allowed the model to run only for 2 minutes. Thus, we have built a classification model using autosklearn. "
      ],
      "metadata": {
        "id": "FswZjKHG9O_A"
      }
    },
    {
      "cell_type": "markdown",
      "source": [
        "Check all the best outperforming pipelines with PipelineProfiler"
      ],
      "metadata": {
        "id": "5RUilupfjGmT"
      }
    },
    {
      "cell_type": "code",
      "source": [
        "import PipelineProfiler\n",
        "profiler_data= PipelineProfiler.import_autosklearn(automl)\n",
        "PipelineProfiler.plot_pipeline_matrix(profiler_data)"
      ],
      "metadata": {
        "id": "g_sc5Sa4aKOt"
      },
      "execution_count": null,
      "outputs": []
    },
    {
      "cell_type": "markdown",
      "source": [
        "# **AutoML- Regression**"
      ],
      "metadata": {
        "id": "V0kZZsekjp87"
      }
    },
    {
      "cell_type": "markdown",
      "source": [
        "1. Import the boston dataset and Split the dataset into train, test set, features and label. "
      ],
      "metadata": {
        "id": "lNG3ok5rzeX-"
      }
    },
    {
      "cell_type": "code",
      "source": [
        "from sklearn.datasets import load_boston\n",
        "import pandas as pd\n",
        "boston_data=load_boston()\n",
        "features=pd.DataFrame(boston_data.data,columns=boston_data.feature_names)\n",
        "target=pd.DataFrame(boston_data.target,columns=['TARGET'])\n",
        "dataset=pd.concat([features,target],axis=1)\n",
        "\n",
        "#from sklearn.model_selection import train_test_split\n",
        "#xtrain,xtest,ytrain,ytest=train_test_split(features,target,test_size=0.2)\n"
      ],
      "metadata": {
        "id": "-GQiew8dkWjn"
      },
      "execution_count": 8,
      "outputs": []
    },
    {
      "cell_type": "markdown",
      "source": [
        "**Exercise**\n",
        "\n",
        "Import the train_test_split and seperate the data into 80:20.\n",
        "\n",
        "<details><summary>Click here for answer</summary>\n",
        "<br/>\n",
        "    \n",
        "```python\n",
        "from sklearn.model_selection import train_test_split\n",
        "xtrain,xtest,ytrain,ytest=train_test_split(features,target,test_size=0.2)\n",
        "    \n",
        "```\n",
        "</details>"
      ],
      "metadata": {
        "id": "v-2KgufT3gdh"
      }
    },
    {
      "cell_type": "code",
      "source": [
        "###complete the code below###"
      ],
      "metadata": {
        "id": "Frbfcaca8E5X"
      },
      "execution_count": 9,
      "outputs": []
    },
    {
      "cell_type": "markdown",
      "source": [
        "2.Building the Regressor model"
      ],
      "metadata": {
        "id": "uXQ0ZCNF4yx-"
      }
    },
    {
      "cell_type": "markdown",
      "source": [
        "**Exercise**\n",
        "\n",
        "Build your autosklearn regressor model with max of 2 mins, max time per model is 30s and mean absoulte error as your performance matrix. \n",
        "\n",
        "Next, fit your model with the train and testing data.\n",
        "\n",
        "<details><summary>Click here for answer</summary>\n",
        "<br/>\n",
        "    \n",
        "```python\n",
        "from autosklearn.regression import AutoSklearnRegressor\n",
        "regressor=autosklearn.regression.AutoSklearnRegressor(time_left_for_this_task=120,per_run_time_limit=30,metric=autosklearn.metrics.mean_absolute_error)\n",
        "\n",
        "regressor.fit(xtrain, ytrain)\n",
        "```\n",
        "</details>"
      ],
      "metadata": {
        "id": "1akHcdwrzsLg"
      }
    },
    {
      "cell_type": "code",
      "source": [
        "###complete the code below###\n"
      ],
      "metadata": {
        "id": "quZqK6NO5UWj"
      },
      "execution_count": null,
      "outputs": []
    },
    {
      "cell_type": "markdown",
      "source": [
        "3. View the models found by auto-sklearn (Regression)"
      ],
      "metadata": {
        "id": "Y-6R-Ov2jyO5"
      }
    },
    {
      "cell_type": "markdown",
      "source": [
        "**Exercise**\n",
        "\n",
        "Print the leaderscore board for regressor.\n",
        "\n",
        "Hint: You may refer to leaderboard under AutoML-Classifier.\n",
        "\n",
        "<details><summary>Click here for answer</summary>\n",
        "<br/>\n",
        "    \n",
        "```python\n",
        "print(regressor.leaderboard())\n",
        "    \n",
        "```\n",
        "</details>"
      ],
      "metadata": {
        "id": "l-VXzSvCyhfR"
      }
    },
    {
      "cell_type": "code",
      "source": [
        "###complete the code below###"
      ],
      "metadata": {
        "id": "W500iEYv5dkN"
      },
      "execution_count": null,
      "outputs": []
    },
    {
      "cell_type": "markdown",
      "source": [
        "4. Print the final ensemble constructed by auto-sklearn (Regression)"
      ],
      "metadata": {
        "id": "iUjKDjUzj6AK"
      }
    },
    {
      "cell_type": "markdown",
      "source": [
        "**Exercise**\n",
        "\n",
        "Show the model constructed by auto-sklearn (Regression)\n",
        "<details><summary>Click here for answer</summary>\n",
        "<br/>\n",
        "    \n",
        "```python\n",
        "pprint(regressor.show_models(), indent=4)\n",
        "    \n",
        "```\n",
        "</details>"
      ],
      "metadata": {
        "id": "iZ6aJiMD6NZS"
      }
    },
    {
      "cell_type": "code",
      "source": [
        "###complete the code below###\n"
      ],
      "metadata": {
        "id": "CAtUHqofk3YQ"
      },
      "execution_count": null,
      "outputs": []
    },
    {
      "cell_type": "markdown",
      "source": [
        "Get the Score of the final ensemble"
      ],
      "metadata": {
        "id": "ppaE9hf8j1LF"
      }
    },
    {
      "cell_type": "markdown",
      "source": [
        "**Exercise**\n",
        "\n",
        "Calculate the mean absolute error for the testing set.\n",
        "<details><summary>Click here for answer</summary>\n",
        "<br/>\n",
        "    \n",
        "```python\n",
        "from sklearn.metrics import mean_absolute_error\n",
        "\n",
        "print(regressor.sprint_statistics())\n",
        "pred= regressor.predict(xtest)\n",
        "mae = mean_absolute_error(ytest, pred)\n",
        "print(\"MAE:\" ,mae)\n",
        "    \n",
        "```\n",
        "</details>"
      ],
      "metadata": {
        "id": "IgC9EbcJ5ld5"
      }
    },
    {
      "cell_type": "code",
      "source": [
        "###complete the code below###\n"
      ],
      "metadata": {
        "id": "P9qeb_-MyPOC"
      },
      "execution_count": null,
      "outputs": []
    },
    {
      "cell_type": "markdown",
      "source": [
        "Check all the best outperforming pipelines with PipelineProfiler"
      ],
      "metadata": {
        "id": "4Mfzrbweju-4"
      }
    },
    {
      "cell_type": "markdown",
      "source": [
        "**Exercise**\n",
        "\n",
        "Plot out the PipelineProfiler matrix for regrssor.\n",
        "\n",
        "Hint: You may refer to PipelineProfiler matrix under classifier.\n",
        "\n",
        "<details><summary>Click here for answer</summary>\n",
        "<br/>\n",
        "    \n",
        "```python\n",
        "import PipelineProfiler\n",
        "profiler_data= PipelineProfiler.import_autosklearn(regressor)\n",
        "PipelineProfiler.plot_pipeline_matrix(profiler_data)\n",
        "    \n",
        "```\n",
        "</details>"
      ],
      "metadata": {
        "id": "I3XOtGEmvG6-"
      }
    },
    {
      "cell_type": "code",
      "source": [
        "###complete the code below###\n"
      ],
      "metadata": {
        "id": "rMAJp9dGxXqQ"
      },
      "execution_count": null,
      "outputs": []
    }
  ]
}