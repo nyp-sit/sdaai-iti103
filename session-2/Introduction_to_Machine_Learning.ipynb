{
  "nbformat": 4,
  "nbformat_minor": 0,
  "metadata": {
    "colab": {
      "name": "Introduction to Machine Learning.ipynb",
      "provenance": [],
      "collapsed_sections": [],
      "include_colab_link": true
    },
    "kernelspec": {
      "name": "python3",
      "display_name": "Python 3"
    }
  },
  "cells": [
    {
      "cell_type": "markdown",
      "metadata": {
        "id": "view-in-github",
        "colab_type": "text"
      },
      "source": [
        "<a href=\"https://colab.research.google.com/github/nyp-sit/sdaai-iti103/blob/master/session-2/Introduction_to_Machine_Learning.ipynb\" target=\"_parent\"><img src=\"https://colab.research.google.com/assets/colab-badge.svg\" alt=\"Open In Colab\"/></a>"
      ]
    },
    {
      "cell_type": "markdown",
      "metadata": {
        "id": "mlcN8ctTgVbP",
        "colab_type": "text"
      },
      "source": [
        "# Introduction to Machine Learning\n",
        "## Classification\n",
        "One of the very famous classification problems in Machine Learning is the IRIS Flower classification problem.  We want to predict the class of Iris given the Sepal, Petal lengths and widths.  The data we will use are in a file called Iris_Data.csv found in \n",
        "\n",
        "https://raw.githubusercontent.com/nyp-sit/data/master/Iris_Data.csv"
      ]
    },
    {
      "cell_type": "markdown",
      "metadata": {
        "id": "GzNmjWJsib_P",
        "colab_type": "text"
      },
      "source": [
        "## Basic Data Analysis\n",
        "Q1. Let's load the data from the url and perform basic data analysis.\n",
        "\n",
        "\n",
        "*   Check the sample size\n",
        "*   Check for the features\n",
        "*   Check if there is any missing values\n",
        "\n"
      ]
    },
    {
      "cell_type": "code",
      "metadata": {
        "id": "J8iwY8Jxg9Rj",
        "colab_type": "code",
        "cellView": "both",
        "colab": {}
      },
      "source": [
        "import pandas as pd\n",
        "url = 'https://raw.githubusercontent.com/nyp-sit/data/master/Iris_Data.csv'\n",
        "df = pd.read_csv(url)\n",
        "print(df.head())\n",
        "\n",
        "# Check the sample size\n",
        "\n",
        "# Check the features\n",
        "\n",
        "# Check for missing values\n"
      ],
      "execution_count": 0,
      "outputs": []
    },
    {
      "cell_type": "code",
      "metadata": {
        "id": "uv7Vy3S9eHQh",
        "colab_type": "code",
        "cellView": "form",
        "colab": {}
      },
      "source": [
        "#@title\n",
        "import pandas as pd\n",
        "url = 'https://raw.githubusercontent.com/nyp-sit/data/master/Iris_Data.csv'\n",
        "df = pd.read_csv(url)\n",
        "print(df.head())\n",
        "print('>>> Check the sample size:')\n",
        "print(df.shape)\n",
        "print('>>> Check for the features: ')\n",
        "print(df.describe())\n",
        "print('>>> Check for missing values')\n",
        "print(df.info())"
      ],
      "execution_count": 0,
      "outputs": []
    },
    {
      "cell_type": "markdown",
      "metadata": {
        "id": "pqr_VDvSpo-f",
        "colab_type": "text"
      },
      "source": [
        "\n",
        "Let us first understand the datasets.  It consists of:\n",
        "*   150 rows of data\n",
        "*   The 3 **labels** are Iris-virginica, Iris-setosa and Iris-versicolor\n",
        "*   The 4 **features** are Sepal length, Sepal width, Petal length, Petal width in cm\n",
        "*   There is no missing values\n",
        "\n",
        "This is a **multi-class classification** problem, as there are more than 2 classes to be predicted.  \n",
        "\n"
      ]
    },
    {
      "cell_type": "markdown",
      "metadata": {
        "id": "uQDmiV0HQUsu",
        "colab_type": "text"
      },
      "source": [
        "## Exploratory Data Analysis\n",
        "\n",
        "Q2. Let's perform a univariate analysis on the data with\n",
        "\n",
        "*   a count plot to show the counts of each category of Iris species.  \n",
        "*   histograms to show the distribution of the 4 features, petal_width, petal_length, sepal_,length, sepal_width\n",
        "\n"
      ]
    },
    {
      "cell_type": "code",
      "metadata": {
        "id": "U0VHGUGLlQEH",
        "colab_type": "code",
        "colab": {}
      },
      "source": [
        "# count plot using matplotlib\n",
        "\n"
      ],
      "execution_count": 0,
      "outputs": []
    },
    {
      "cell_type": "code",
      "metadata": {
        "id": "MGb-mIkIdvpW",
        "colab_type": "code",
        "cellView": "form",
        "colab": {}
      },
      "source": [
        "#@title\n",
        "# count plot using matplotlib\n",
        "\n",
        "import matplotlib.pyplot as plt\n",
        "\n",
        "df['species'].value_counts().plot(kind='bar')\n",
        "plt.show()"
      ],
      "execution_count": 0,
      "outputs": []
    },
    {
      "cell_type": "code",
      "metadata": {
        "id": "t6GSyOcmb7Ro",
        "colab_type": "code",
        "colab": {}
      },
      "source": [
        "# count plot using seaborn\n",
        "\n"
      ],
      "execution_count": 0,
      "outputs": []
    },
    {
      "cell_type": "code",
      "metadata": {
        "id": "XT3nWE5Wd93s",
        "colab_type": "code",
        "cellView": "form",
        "colab": {}
      },
      "source": [
        "#@title\n",
        "# count plot using seaborn\n",
        "\n",
        "import seaborn as sns\n",
        "ax = sns.countplot(x='species', data=df)"
      ],
      "execution_count": 0,
      "outputs": []
    },
    {
      "cell_type": "code",
      "metadata": {
        "id": "nZmfOvnqZlu8",
        "colab_type": "code",
        "colab": {}
      },
      "source": [
        "# Historgram to show distribution of features"
      ],
      "execution_count": 0,
      "outputs": []
    },
    {
      "cell_type": "code",
      "metadata": {
        "id": "T_85yFmdf53-",
        "colab_type": "code",
        "cellView": "form",
        "colab": {}
      },
      "source": [
        "#@title\n",
        "# Histogram to show distribution of features\n",
        "df.hist()\n",
        "plt.show()"
      ],
      "execution_count": 0,
      "outputs": []
    },
    {
      "cell_type": "code",
      "metadata": {
        "id": "iCMYARvoh45F",
        "colab_type": "code",
        "colab": {}
      },
      "source": [
        "# Histrogram with density plot (kde) using seaborn"
      ],
      "execution_count": 0,
      "outputs": []
    },
    {
      "cell_type": "code",
      "metadata": {
        "id": "C5uVM5_Oh5ad",
        "colab_type": "code",
        "cellView": "form",
        "colab": {}
      },
      "source": [
        "#@title\n",
        "# Histrogram with density plot (kde) using seaborn\n",
        "\n",
        "sns.distplot(df['sepal_length'], kde=True)\n",
        "plt.show()\n",
        "sns.distplot(df['sepal_width'], kde=True)\n",
        "plt.show()\n",
        "sns.distplot(df['petal_length'], kde=True)\n",
        "plt.show()\n",
        "sns.distplot(df['petal_width'], kde=True)\n",
        "plt.show()"
      ],
      "execution_count": 0,
      "outputs": []
    },
    {
      "cell_type": "markdown",
      "metadata": {
        "id": "Qj9lIQt3hg6I",
        "colab_type": "text"
      },
      "source": [
        "Q3. Let's perform multivariate analysis on the data with\n",
        "\n",
        "*  Scatter matrix \n",
        "*  Box plot"
      ]
    },
    {
      "cell_type": "code",
      "metadata": {
        "id": "1_SEsECAODAq",
        "colab_type": "code",
        "colab": {}
      },
      "source": [
        "# Scatter matrix / pair plots"
      ],
      "execution_count": 0,
      "outputs": []
    },
    {
      "cell_type": "code",
      "metadata": {
        "id": "dBY-UPYhdW24",
        "colab_type": "code",
        "cellView": "form",
        "colab": {}
      },
      "source": [
        "#@title\n",
        "from pandas.plotting import scatter_matrix\n",
        "scatter_matrix(df)\n",
        "plt.show()"
      ],
      "execution_count": 0,
      "outputs": []
    },
    {
      "cell_type": "code",
      "metadata": {
        "id": "ojvutjOQuq_b",
        "colab_type": "code",
        "colab": {}
      },
      "source": [
        "# pairplots using sns"
      ],
      "execution_count": 0,
      "outputs": []
    },
    {
      "cell_type": "code",
      "metadata": {
        "id": "BttxFDTPTta7",
        "colab_type": "code",
        "cellView": "form",
        "colab": {}
      },
      "source": [
        "#@title\n",
        "sns.pairplot(df, hue='species')\n",
        "plt.show()"
      ],
      "execution_count": 0,
      "outputs": []
    },
    {
      "cell_type": "code",
      "metadata": {
        "id": "tMvcmdYgOJXh",
        "colab_type": "code",
        "colab": {}
      },
      "source": [
        "# box plot using sns"
      ],
      "execution_count": 0,
      "outputs": []
    },
    {
      "cell_type": "code",
      "metadata": {
        "id": "eV5vCSQfOgua",
        "colab_type": "code",
        "cellView": "form",
        "colab": {}
      },
      "source": [
        "#@title\n",
        "\n",
        "sns.boxplot(x='species', y='sepal_length', data=df)\n",
        "plt.show()\n",
        "sns.boxplot(x='species', y='sepal_width', data=df)\n",
        "plt.show()\n",
        "sns.boxplot(x='species', y='petal_length', data=df)\n",
        "plt.show()\n",
        "sns.boxplot(x='species', y='petal_width', data=df)\n",
        "plt.show()\n"
      ],
      "execution_count": 0,
      "outputs": []
    },
    {
      "cell_type": "markdown",
      "metadata": {
        "id": "wjScFWUD6bk2",
        "colab_type": "text"
      },
      "source": [
        "## Data Modelling"
      ]
    },
    {
      "cell_type": "markdown",
      "metadata": {
        "id": "o1beHksTEggj",
        "colab_type": "text"
      },
      "source": [
        "Q4. IRIS class prediction is a multiclass classification problem where target variable has three classes.  The goal is to construct a function which will correctly predict the class to which the new point belongs.\n",
        "\n",
        "We are going to need some data validate the accurary of our model.  We will split the loaded dataset into two, 80% of which we will use to train our models and 20% that we will use to validate our model.\n",
        "\n",
        "*  Create a validation test set using the [train_test_split](https://scikit-learn.org/stable/modules/generated/sklearn.model_selection.train_test_split.html) function\n"
      ]
    },
    {
      "cell_type": "code",
      "metadata": {
        "id": "9P8-CpMnE58V",
        "colab_type": "code",
        "colab": {}
      },
      "source": [
        "# Create a validation test set by splitting the data into 80/20 \n",
        "from sklearn.model_selection import train_test_split\n",
        "\n"
      ],
      "execution_count": 0,
      "outputs": []
    },
    {
      "cell_type": "code",
      "metadata": {
        "id": "5utLovVDGzCW",
        "colab_type": "code",
        "cellView": "form",
        "colab": {}
      },
      "source": [
        "#@title\n",
        "# Create a validation test set by splitting the data into 80/20 \n",
        "from sklearn.model_selection import train_test_split\n",
        "train, test = train_test_split(df, test_size = 0.2, random_state=7)\n",
        "\n",
        "X = train.values[:,0:4]\n",
        "Y = train.values[:,4]\n",
        "x_test = test.values[:,0:4]\n",
        "y_test = test.values[:,4]\n"
      ],
      "execution_count": 0,
      "outputs": []
    },
    {
      "cell_type": "markdown",
      "metadata": {
        "id": "-CfZhuTIxNMv",
        "colab_type": "text"
      },
      "source": [
        "Q5.  Proceed to train the data using Logistic Regression and K Nearest Neighbours.  Compute the accuracy score for both algorithm.\n",
        "\n",
        "[Accuracy Score](https://scikit-learn.org/stable/modules/generated/sklearn.metrics.accuracy_score.html)\n",
        "\n",
        "[Logistic Regression](https://scikit-learn.org/stable/modules/generated/sklearn.linear_model.LogisticRegression.html)\n",
        "\n",
        "[Nearest Neighbours](https://scikit-learn.org/stable/modules/neighbors.html)"
      ]
    },
    {
      "cell_type": "code",
      "metadata": {
        "id": "oYaVLMYC-WOZ",
        "colab_type": "code",
        "colab": {}
      },
      "source": [
        ""
      ],
      "execution_count": 0,
      "outputs": []
    },
    {
      "cell_type": "code",
      "metadata": {
        "id": "_sZt8gZh2TaD",
        "colab_type": "code",
        "cellView": "form",
        "colab": {}
      },
      "source": [
        "#@title\n",
        "from sklearn import linear_model, neighbors\n",
        "from sklearn.metrics import accuracy_score\n",
        "\n",
        "classifier = linear_model.LogisticRegression(solver='liblinear', multi_class='ovr')\n",
        "classifier.fit(X,Y)\n",
        "predictions=classifier.predict(x_test)\n",
        "print(accuracy_score(y_test, predictions))\n",
        "\n",
        "classifier = neighbors.KNeighborsClassifier()\n",
        "classifier.fit(X,Y)\n",
        "predictions=classifier.predict(x_test)\n",
        "print(accuracy_score(y_test, predictions))\n",
        "\n",
        "\n"
      ],
      "execution_count": 0,
      "outputs": []
    },
    {
      "cell_type": "markdown",
      "metadata": {
        "id": "QY0fRyk6TOXv",
        "colab_type": "text"
      },
      "source": [
        "Q6. Use K-fold cross-validation technique to randomly splits the training set into 10 distinct subsets to train and evaluate the Logistic Regression and KNN models 10 times and compare their results.  \n",
        "[Cross Validation](https://scikit-learn.org/stable/modules/cross_validation.html)"
      ]
    },
    {
      "cell_type": "code",
      "metadata": {
        "id": "aXqfQPMO-bVR",
        "colab_type": "code",
        "colab": {}
      },
      "source": [
        ""
      ],
      "execution_count": 0,
      "outputs": []
    },
    {
      "cell_type": "code",
      "metadata": {
        "id": "-Nb8-1kX43Wd",
        "colab_type": "code",
        "cellView": "form",
        "colab": {}
      },
      "source": [
        "#@title\n",
        "from sklearn import model_selection\n",
        "\n",
        "models = {}\n",
        "models['LR'] = linear_model.LogisticRegression(solver='liblinear', multi_class='ovr')\n",
        "models['KNN'] = neighbors.KNeighborsClassifier()\n",
        "\n",
        "results = []\n",
        "names = []\n",
        "score = 'accuracy'\n",
        "\n",
        "for name in models:\n",
        "  model = models.get(name)\n",
        "  kfold = model_selection.KFold(n_splits=10)\n",
        "  cv_results = model_selection.cross_val_score(model, X, Y, cv=kfold, scoring=score)\n",
        "  results.append(cv_results)\n",
        "  names.append(name)\n",
        "\n",
        "  print('{}: {} ({})'.format(name, cv_results.mean(), cv_results.std()))"
      ],
      "execution_count": 0,
      "outputs": []
    },
    {
      "cell_type": "markdown",
      "metadata": {
        "id": "E1pp8yjr6o6w",
        "colab_type": "text"
      },
      "source": [
        "## Regression"
      ]
    },
    {
      "cell_type": "markdown",
      "metadata": {
        "id": "M9xLZvYb8zb1",
        "colab_type": "text"
      },
      "source": [
        "In machine learning, regression is used to predict the outcome of an event based on the relationship between variables obtained from the data-set.  Suppose we want to know if money makes people happy.  \n",
        "\n",
        "Q7. Let's load the [Better Life Index data](https://raw.githubusercontent.com/nyp-sit/data/master/Better_Life.csv) provided by OECD.  Examine and transform the data accordingly.\n",
        "\n"
      ]
    },
    {
      "cell_type": "code",
      "metadata": {
        "id": "C7iWqS5z_Fgm",
        "colab_type": "code",
        "colab": {}
      },
      "source": [
        "import pandas as pd\n",
        "import numpy as np\n",
        "import matplotlib.pyplot as plt\n",
        "import sklearn.linear_model\n",
        "\n",
        "url = 'https://raw.githubusercontent.com/nyp-sit/data/master/Better_Life.csv'\n",
        "# load the data set"
      ],
      "execution_count": 0,
      "outputs": []
    },
    {
      "cell_type": "code",
      "metadata": {
        "id": "gA3M-PwR6wHU",
        "colab_type": "code",
        "cellView": "form",
        "colab": {}
      },
      "source": [
        "#@title\n",
        "import pandas as pd\n",
        "import numpy as np\n",
        "import matplotlib.pyplot as plt\n",
        "import sklearn.linear_model\n",
        "\n",
        "url = 'https://raw.githubusercontent.com/nyp-sit/data/master/Better_Life.csv'\n",
        "df = pd.read_csv(url)\n",
        "life_df = df.loc[(df['Indicator'] == 'Life satisfaction') & (df['Inequality'] == 'Total')]\n",
        "life_df"
      ],
      "execution_count": 0,
      "outputs": []
    },
    {
      "cell_type": "markdown",
      "metadata": {
        "id": "m4Vu8-ze9BMV",
        "colab_type": "text"
      },
      "source": [
        "Q8. Load the[ GDP per capita](https://raw.githubusercontent.com/nyp-sit/data/master/WEO_Data.csv) data provided by IMF."
      ]
    },
    {
      "cell_type": "code",
      "metadata": {
        "id": "pEzwvOXo_eQA",
        "colab_type": "code",
        "colab": {}
      },
      "source": [
        "url1 = 'https://raw.githubusercontent.com/nyp-sit/data/master/WEO_Data.csv'\n",
        "# load the data set"
      ],
      "execution_count": 0,
      "outputs": []
    },
    {
      "cell_type": "code",
      "metadata": {
        "id": "KIKtgzu3Hw8G",
        "colab_type": "code",
        "cellView": "form",
        "colab": {}
      },
      "source": [
        "#@title\n",
        "url1 = 'https://raw.githubusercontent.com/nyp-sit/data/master/WEO_Data.csv'\n",
        "gdp_df = pd.read_csv(url1, encoding='latin-1', thousands=',')\n",
        "gdp_df.head()"
      ],
      "execution_count": 0,
      "outputs": []
    },
    {
      "cell_type": "markdown",
      "metadata": {
        "id": "dhyL_bkc9D0x",
        "colab_type": "text"
      },
      "source": [
        "Q9. Prepare the data by merging the OECD's life satisfaction data and IMF's GDP per capita data.  \n",
        "\n",
        "*   Rename the colums to Country, Life satisfaction and GDP per capita\n",
        "*   Set the index to 'Country'\n"
      ]
    },
    {
      "cell_type": "code",
      "metadata": {
        "id": "4j6JHGb0_pb9",
        "colab_type": "code",
        "colab": {}
      },
      "source": [
        ""
      ],
      "execution_count": 0,
      "outputs": []
    },
    {
      "cell_type": "code",
      "metadata": {
        "id": "ncpCy4tY9tqp",
        "colab_type": "code",
        "cellView": "form",
        "colab": {}
      },
      "source": [
        "#@title\n",
        "pdf = pd.merge(gdp_df[['Country', '2015']], life_df[['Country', 'Value']] , on='Country', how='inner') \n",
        "pdf.rename(columns={'Value':'Life satisfaction','2015':'GDP per capita'}, inplace=True)"
      ],
      "execution_count": 0,
      "outputs": []
    },
    {
      "cell_type": "markdown",
      "metadata": {
        "id": "iwOni4vb9JAm",
        "colab_type": "text"
      },
      "source": [
        "Q10. Plot the scatter plot to show the relationship between Life satisfaction and GDP per capita"
      ]
    },
    {
      "cell_type": "code",
      "metadata": {
        "id": "OMiKJ4_R_ySe",
        "colab_type": "code",
        "colab": {}
      },
      "source": [
        ""
      ],
      "execution_count": 0,
      "outputs": []
    },
    {
      "cell_type": "code",
      "metadata": {
        "id": "izlo5xviH2ux",
        "colab_type": "code",
        "cellView": "form",
        "colab": {}
      },
      "source": [
        "#@title\n",
        "ax1=pdf.plot.scatter(x = 'GDP per capita', y = 'Life satisfaction', c='blue', ylim=[0,10])\n",
        "plt.show()"
      ],
      "execution_count": 0,
      "outputs": []
    },
    {
      "cell_type": "markdown",
      "metadata": {
        "id": "wQ014uOs9Y1Z",
        "colab_type": "text"
      },
      "source": [
        "Q11.  Train the model and make a prediction for Cyprus with a GDP per capita of 22587"
      ]
    },
    {
      "cell_type": "code",
      "metadata": {
        "id": "XyWEQ4Nd_1Aw",
        "colab_type": "code",
        "colab": {}
      },
      "source": [
        ""
      ],
      "execution_count": 0,
      "outputs": []
    },
    {
      "cell_type": "code",
      "metadata": {
        "id": "iW_Xn16-H9AL",
        "colab_type": "code",
        "cellView": "form",
        "colab": {}
      },
      "source": [
        "#@title\n",
        "X = np.c_[pdf['GDP per capita']]\n",
        "y = np.c_[pdf['Life satisfaction']]\n",
        "\n",
        "lin_reg_model = sklearn.linear_model.LinearRegression()\n",
        "lin_reg_model.fit(X, y)\n",
        "X_new = [[22587]]\n",
        "lin_reg_model.predict(X_new)"
      ],
      "execution_count": 0,
      "outputs": []
    }
  ]
}
