{
  "nbformat": 4,
  "nbformat_minor": 0,
  "metadata": {
    "kernelspec": {
      "display_name": "Python 3",
      "language": "python",
      "name": "python3"
    },
    "language_info": {
      "codemirror_mode": {
        "name": "ipython",
        "version": 3
      },
      "file_extension": ".py",
      "mimetype": "text/x-python",
      "name": "python",
      "nbconvert_exporter": "python",
      "pygments_lexer": "ipython3",
      "version": "3.7.6"
    },
    "colab": {
      "name": "classification_winequality.ipynb",
      "provenance": [],
      "include_colab_link": true
    }
  },
  "cells": [
    {
      "cell_type": "markdown",
      "metadata": {
        "id": "view-in-github",
        "colab_type": "text"
      },
      "source": [
        "<a href=\"https://colab.research.google.com/github/nyp-sit/sdaai-iti103/blob/master/session-4/classification_winequality.ipynb\" target=\"_parent\"><img src=\"https://colab.research.google.com/assets/colab-badge.svg\" alt=\"Open In Colab\"/></a>"
      ]
    },
    {
      "cell_type": "markdown",
      "metadata": {
        "id": "n3N61d4MIGAY"
      },
      "source": [
        "# Multi-class Classification (Extra Exercise)"
      ]
    },
    {
      "cell_type": "markdown",
      "metadata": {
        "id": "ipgr7wvmIGAa"
      },
      "source": [
        "## Introduction\n",
        "\n",
        "We will be using the wine quality data set for this exercise. This data set contains various chemical properties of wine, such as acidity, sugar, pH, alcohol, as well as color. It also contains a quality metric (3-9, with highest being better). \n",
        "\n",
        "Using what you have learnt in the previous exercises, you will now build a classification model to predict the quality of the wine, given the various chemical properties and color."
      ]
    },
    {
      "cell_type": "markdown",
      "metadata": {
        "id": "c_ajTTSFIGAa"
      },
      "source": [
        "## Getting the Data\n",
        "\n",
        "You can download the data from the following link:\n",
        "\n",
        "https://nyp-aicourse.s3-ap-southeast-1.amazonaws.com/datasets/Wine_Quality_Data.csv\n"
      ]
    },
    {
      "cell_type": "code",
      "metadata": {
        "id": "6CAeeWs5IGAa"
      },
      "source": [
        "## Write your code here"
      ],
      "execution_count": null,
      "outputs": []
    },
    {
      "cell_type": "markdown",
      "metadata": {
        "id": "LP6SR2gUMeB6"
      },
      "source": [
        "## Data Exploration\n",
        "\n",
        "Find out the following: \n",
        "- how many samples we have? \n",
        "- are there any missing values? \n",
        "- are there any categorical data? \n",
        "- how many different grades (qualities) of wine. "
      ]
    },
    {
      "cell_type": "code",
      "metadata": {
        "id": "vFPBGhhJMtIL"
      },
      "source": [
        "## Write your code here"
      ],
      "execution_count": null,
      "outputs": []
    },
    {
      "cell_type": "markdown",
      "metadata": {
        "id": "r9JOBe6HM52_"
      },
      "source": [
        "## Data Preparation\n",
        "\n",
        "As part of data prep, you will need some of the following:\n",
        "- Encode any categorical columns if necessary\n",
        "- Handle any missing values\n",
        "- Scaling if necessary\n",
        "- Split the datasets into train/val/test\n",
        "\n",
        "Decide if you want to do K-fold cross-validation or set aside a dedicated validation set. Explain your choice.\n",
        "\n",
        "Think about the splitting strategy, do you need stratified split?"
      ]
    },
    {
      "cell_type": "code",
      "metadata": {
        "id": "CupNg0y7NTGE"
      },
      "source": [
        "## Write your code here"
      ],
      "execution_count": null,
      "outputs": []
    },
    {
      "cell_type": "markdown",
      "metadata": {
        "id": "WY1NIZCINXvL"
      },
      "source": [
        "## Build and validate your model\n",
        "\n",
        "For this exercise, use RandomForestClassifier with the following parameters: n_estimators = 30, max_depth=3.  You do not neeed to understand what the parameters mean at this point, as you will learn more during the ML Algorithms module.  (We are not using LogisticRegression because it does perform as well for this dataset)\n",
        "\n",
        "What do you notice about the validation accuracy/recall/precision? You can just use classification report to get more info about the performance of each class. Analyse the report and explain your result. "
      ]
    },
    {
      "cell_type": "code",
      "metadata": {
        "id": "k9J0Yu2WOimX"
      },
      "source": [
        "## Write your code here"
      ],
      "execution_count": null,
      "outputs": []
    },
    {
      "cell_type": "markdown",
      "metadata": {
        "id": "3CBAC7NIOjlC"
      },
      "source": [
        "## Improve your model\n",
        "\n",
        "Based on your analysis above, what do you think you can do to improve the model? \n",
        "\n",
        "Try to implement ONE possible change to improve your model.  Has the model improved in validation performance? \n",
        "\n",
        "Test it now on your test set. Do you get similar result as your validation result?"
      ]
    },
    {
      "cell_type": "code",
      "metadata": {
        "id": "TeJmYReERFe0"
      },
      "source": [
        "## Write your code here"
      ],
      "execution_count": null,
      "outputs": []
    }
  ]
}