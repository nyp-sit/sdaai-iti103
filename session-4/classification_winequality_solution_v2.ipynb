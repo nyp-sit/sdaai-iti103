{
 "cells": [
  {
   "cell_type": "markdown",
   "metadata": {
    "colab_type": "text",
    "id": "view-in-github"
   },
   "source": [
    "<a href=\"https://colab.research.google.com/github/nyp-sit/sdaai-iti103/blob/master/session-4/classification_winequality_solution_v2.ipynb\" target=\"_parent\"><img src=\"https://colab.research.google.com/assets/colab-badge.svg\" alt=\"Open In Colab\"/></a>"
   ]
  },
  {
   "cell_type": "markdown",
   "metadata": {
    "id": "n3N61d4MIGAY"
   },
   "source": [
    "# Multi-class Classification (Extra Exercise)"
   ]
  },
  {
   "cell_type": "markdown",
   "metadata": {
    "id": "ipgr7wvmIGAa"
   },
   "source": [
    "## Introduction\n",
    "\n",
    "We will be using the wine quality data set for this exercise. This data set contains various chemical properties of wine, such as acidity, sugar, pH, alcohol, as well as color. It also contains a quality metric (3-9, with highest being better). \n",
    "\n",
    "Using what you have learnt in the previous exercises, you will now build a classification model to predict the quality of the wine, given the various chemical properties and color."
   ]
  },
  {
   "cell_type": "markdown",
   "metadata": {
    "id": "c_ajTTSFIGAa"
   },
   "source": [
    "## Getting the Data\n",
    "\n",
    "You can download the data from the following link:\n",
    "\n",
    "https://nyp-aicourse.s3-ap-southeast-1.amazonaws.com/datasets/Wine_Quality_Data.csv\n"
   ]
  },
  {
   "cell_type": "code",
   "execution_count": 2,
   "metadata": {
    "id": "6CAeeWs5IGAa"
   },
   "outputs": [],
   "source": [
    "## Write your code here\n",
    "import pandas as pd \n",
    "\n",
    "data_url = 'https://nyp-aicourse.s3-ap-southeast-1.amazonaws.com/datasets/Wine_Quality_Data.csv'\n",
    "data = pd.read_csv(data_url)"
   ]
  },
  {
   "cell_type": "markdown",
   "metadata": {
    "id": "LP6SR2gUMeB6"
   },
   "source": [
    "## Data Exploration\n",
    "\n",
    "Find out the following: \n",
    "- how many samples we have? \n",
    "- are there any missing values? \n",
    "- are there any categorical data? \n",
    "- how many different grades (qualities) of wine. "
   ]
  },
  {
   "cell_type": "code",
   "execution_count": 7,
   "metadata": {
    "colab": {
     "base_uri": "https://localhost:8080/"
    },
    "id": "vYDro8OjW9lY",
    "outputId": "342deb3c-1dc9-4a94-c17e-4cca2171e27a"
   },
   "outputs": [
    {
     "data": {
      "text/plain": [
       "6    2836\n",
       "5    2138\n",
       "7    1079\n",
       "4     216\n",
       "8     193\n",
       "3      30\n",
       "9       5\n",
       "Name: quality, dtype: int64"
      ]
     },
     "execution_count": 7,
     "metadata": {
      "tags": []
     },
     "output_type": "execute_result"
    }
   ],
   "source": [
    "# different grades of wine \n",
    "data.quality.value_counts()"
   ]
  },
  {
   "cell_type": "code",
   "execution_count": 5,
   "metadata": {
    "colab": {
     "base_uri": "https://localhost:8080/"
    },
    "id": "2vErLsTVW58V",
    "outputId": "07759864-bb05-4d87-ffae-847184fadec8"
   },
   "outputs": [
    {
     "name": "stdout",
     "output_type": "stream",
     "text": [
      "<class 'pandas.core.frame.DataFrame'>\n",
      "RangeIndex: 6497 entries, 0 to 6496\n",
      "Data columns (total 13 columns):\n",
      " #   Column                Non-Null Count  Dtype  \n",
      "---  ------                --------------  -----  \n",
      " 0   fixed_acidity         6497 non-null   float64\n",
      " 1   volatile_acidity      6497 non-null   float64\n",
      " 2   citric_acid           6497 non-null   float64\n",
      " 3   residual_sugar        6497 non-null   float64\n",
      " 4   chlorides             6497 non-null   float64\n",
      " 5   free_sulfur_dioxide   6497 non-null   float64\n",
      " 6   total_sulfur_dioxide  6497 non-null   float64\n",
      " 7   density               6497 non-null   float64\n",
      " 8   pH                    6497 non-null   float64\n",
      " 9   sulphates             6497 non-null   float64\n",
      " 10  alcohol               6497 non-null   float64\n",
      " 11  quality               6497 non-null   int64  \n",
      " 12  color                 6497 non-null   object \n",
      "dtypes: float64(11), int64(1), object(1)\n",
      "memory usage: 660.0+ KB\n"
     ]
    }
   ],
   "source": [
    "data.info()"
   ]
  },
  {
   "cell_type": "code",
   "execution_count": 4,
   "metadata": {
    "colab": {
     "base_uri": "https://localhost:8080/"
    },
    "id": "vFPBGhhJMtIL",
    "outputId": "3a85bfac-6fb2-46a2-f242-22b2026a7ff8"
   },
   "outputs": [
    {
     "data": {
      "text/plain": [
       "fixed_acidity           0\n",
       "volatile_acidity        0\n",
       "citric_acid             0\n",
       "residual_sugar          0\n",
       "chlorides               0\n",
       "free_sulfur_dioxide     0\n",
       "total_sulfur_dioxide    0\n",
       "density                 0\n",
       "pH                      0\n",
       "sulphates               0\n",
       "alcohol                 0\n",
       "quality                 0\n",
       "color                   0\n",
       "dtype: int64"
      ]
     },
     "execution_count": 4,
     "metadata": {
      "tags": []
     },
     "output_type": "execute_result"
    }
   ],
   "source": [
    "## Write your code here\n",
    "data.isnull().sum()"
   ]
  },
  {
   "cell_type": "markdown",
   "metadata": {
    "id": "r9JOBe6HM52_"
   },
   "source": [
    "## Data Preparation\n",
    "\n",
    "As part of data prep, you will need some of the following:\n",
    "- Encode any categorical columns if necessary\n",
    "- Handle any missing values\n",
    "- Scaling if necessary\n",
    "- Split the datasets into train/val/test\n",
    "\n",
    "Decide if you want to do K-fold cross-validation or set aside a dedicated validation set. Explain your choice.\n",
    "\n",
    "Think about the splitting strategy, do you need stratified split?"
   ]
  },
  {
   "cell_type": "code",
   "execution_count": 17,
   "metadata": {
    "id": "J7cpnPrMZTeQ"
   },
   "outputs": [],
   "source": [
    "## Write your code here\n",
    "\n",
    "def combine(y):\n",
    "    if y <= 4:\n",
    "        return 4\n",
    "    if y >= 8: \n",
    "        return 8\n",
    "    return y"
   ]
  },
  {
   "cell_type": "code",
   "execution_count": 33,
   "metadata": {
    "id": "CupNg0y7NTGE"
   },
   "outputs": [],
   "source": [
    "from sklearn.model_selection import train_test_split\n",
    "\n",
    "X = pd.get_dummies(data.drop(['quality'], axis=1))\n",
    "y = data['quality'].map(lambda x: combine(x))\n",
    "\n",
    "X_train, X_test, y_train, y_test = train_test_split(X, y, test_size=0.2, stratify=y, random_state=0)"
   ]
  },
  {
   "cell_type": "code",
   "execution_count": 34,
   "metadata": {
    "colab": {
     "base_uri": "https://localhost:8080/"
    },
    "id": "lpt5ll-6aIYH",
    "outputId": "7840b886-8204-4f8b-974a-3e4a392f3bfa"
   },
   "outputs": [
    {
     "data": {
      "text/plain": [
       "6    0.436154\n",
       "5    0.329231\n",
       "7    0.166154\n",
       "4    0.037692\n",
       "8    0.030769\n",
       "Name: quality, dtype: float64"
      ]
     },
     "execution_count": 34,
     "metadata": {
      "tags": []
     },
     "output_type": "execute_result"
    }
   ],
   "source": [
    "y_test.value_counts()/len(y_test)"
   ]
  },
  {
   "cell_type": "code",
   "execution_count": 35,
   "metadata": {
    "colab": {
     "base_uri": "https://localhost:8080/"
    },
    "id": "iryFGYByaOvY",
    "outputId": "4cf154f6-8466-4a85-8391-f9860c588aa5"
   },
   "outputs": [
    {
     "data": {
      "text/plain": [
       "6    0.436598\n",
       "5    0.329036\n",
       "7    0.166057\n",
       "4    0.037906\n",
       "8    0.030402\n",
       "Name: quality, dtype: float64"
      ]
     },
     "execution_count": 35,
     "metadata": {
      "tags": []
     },
     "output_type": "execute_result"
    }
   ],
   "source": [
    "y_train.value_counts()/len(y_train)"
   ]
  },
  {
   "cell_type": "markdown",
   "metadata": {
    "id": "WY1NIZCINXvL"
   },
   "source": [
    "## Build and validate your model\n",
    "\n",
    "For this exercise, use RandomForestClassifier with the following parameters: n_estimators = 40, max_depth=10.  You do not neeed to understand what the parameters mean at this point, as you will learn more during the ML Algorithms module.  (We are not using LogisticRegression because it does perform as well for this dataset)\n",
    "\n",
    "What do you notice about the validation accuracy/recall/precision? You can just use classification report to get more info about the performance of each class. Analyse the report and explain your result. "
   ]
  },
  {
   "cell_type": "code",
   "execution_count": 37,
   "metadata": {
    "id": "k9J0Yu2WOimX"
   },
   "outputs": [],
   "source": [
    "## Write your code here\n",
    "from sklearn.pipeline import Pipeline\n",
    "from sklearn.preprocessing import StandardScaler\n",
    "from sklearn.ensemble import RandomForestClassifier\n",
    "\n",
    "pipeline = Pipeline([(\"scale\", StandardScaler()),\n",
    "                     (\"clf\", RandomForestClassifier(n_estimators=40, \n",
    "                                                       max_depth=10,\n",
    "                                                       random_state=0))])"
   ]
  },
  {
   "cell_type": "code",
   "execution_count": 38,
   "metadata": {
    "id": "Y7ivvZaIYZ_B"
   },
   "outputs": [],
   "source": [
    "from sklearn.model_selection import cross_val_predict \n",
    "from sklearn.model_selection import cross_val_score\n",
    "\n",
    "y_preds = cross_val_predict(pipeline, X_train, y_train, cv=3)\n"
   ]
  },
  {
   "cell_type": "code",
   "execution_count": 39,
   "metadata": {
    "colab": {
     "base_uri": "https://localhost:8080/"
    },
    "id": "L8EucF7zYkUZ",
    "outputId": "1da3b93b-936c-40f0-bfc3-ab15a143e4d2"
   },
   "outputs": [
    {
     "name": "stdout",
     "output_type": "stream",
     "text": [
      "              precision    recall  f1-score   support\n",
      "\n",
      "           4       0.56      0.03      0.05       197\n",
      "           5       0.68      0.64      0.66      1710\n",
      "           6       0.58      0.77      0.66      2269\n",
      "           7       0.63      0.41      0.50       863\n",
      "           8       0.92      0.14      0.24       158\n",
      "\n",
      "    accuracy                           0.62      5197\n",
      "   macro avg       0.67      0.40      0.42      5197\n",
      "weighted avg       0.63      0.62      0.60      5197\n",
      "\n"
     ]
    }
   ],
   "source": [
    "from sklearn.metrics import classification_report\n",
    "\n",
    "print(classification_report(y_train, y_preds))"
   ]
  },
  {
   "cell_type": "markdown",
   "metadata": {
    "id": "3CBAC7NIOjlC"
   },
   "source": [
    "## Improve your model\n",
    "\n",
    "Based on your analysis above, what do you think you can do to improve the model? \n",
    "\n",
    "Try to implement ONE possible change to improve your model.  Has the model improved in validation performance? \n",
    "\n",
    "Test it now on your test set. Do you get similar result as your validation result?"
   ]
  },
  {
   "cell_type": "code",
   "execution_count": null,
   "metadata": {
    "id": "TeJmYReERFe0"
   },
   "outputs": [],
   "source": [
    "## Write your code here"
   ]
  }
 ],
 "metadata": {
  "colab": {
   "include_colab_link": true,
   "name": "classification_winequality.ipynb",
   "provenance": []
  },
  "kernelspec": {
   "display_name": "Python 3",
   "language": "python",
   "name": "python3"
  },
  "language_info": {
   "codemirror_mode": {
    "name": "ipython",
    "version": 3
   },
   "file_extension": ".py",
   "mimetype": "text/x-python",
   "name": "python",
   "nbconvert_exporter": "python",
   "pygments_lexer": "ipython3",
   "version": "3.7.6"
  }
 },
 "nbformat": 4,
 "nbformat_minor": 0
}
