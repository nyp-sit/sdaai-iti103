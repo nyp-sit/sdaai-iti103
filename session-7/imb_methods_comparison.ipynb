{
  "cells": [
    {
      "cell_type": "markdown",
      "metadata": {
        "id": "view-in-github",
        "colab_type": "text"
      },
      "source": [
        "<a href=\"https://colab.research.google.com/github/nyp-sit/sdaai-iti103/blob/master/session-7/imb_methods_comparison.ipynb\" target=\"_parent\"><img src=\"https://colab.research.google.com/assets/colab-badge.svg\" alt=\"Open In Colab\"/></a>"
      ]
    },
    {
      "cell_type": "markdown",
      "metadata": {
        "id": "wiWPdXoAwT-D"
      },
      "source": [
        "# Comparison of Methods for Tackling Imbalanced Data\n",
        "\n",
        "In this notebook, we will compare the performance of different methods on different imbalanced datasets:\n",
        "\n",
        "- just re-sampling\n",
        "- just boosting or bagging\n",
        "- bagging + re-sampling\n",
        "- boosting + re-sampling\n",
        "- bagging + boosting + re-sampling\n",
        "\n"
      ]
    },
    {
      "cell_type": "code",
      "execution_count": null,
      "metadata": {
        "id": "iVrHpr3EwT-K"
      },
      "outputs": [],
      "source": [
        "from collections import Counter\n",
        "\n",
        "import numpy as np\n",
        "import pandas as pd\n",
        "import matplotlib.pyplot as plt\n",
        "import seaborn as sns\n",
        "\n",
        "from sklearn.ensemble import (\n",
        "    RandomForestClassifier,\n",
        "    BaggingClassifier,\n",
        "    AdaBoostClassifier,\n",
        ")\n",
        "\n",
        "import xgboost\n",
        "\n",
        "from sklearn.linear_model  import LogisticRegression\n",
        "from sklearn.metrics import roc_auc_score\n",
        "from sklearn.model_selection import train_test_split\n",
        "from sklearn.preprocessing import MinMaxScaler\n",
        "\n",
        "from imblearn.datasets import fetch_datasets\n",
        "\n",
        "from imblearn.under_sampling import (\n",
        "    RandomUnderSampler, \n",
        "    TomekLinks,\n",
        "    EditedNearestNeighbours\n",
        ")\n",
        "\n",
        "from imblearn.combine import SMOTEENN\n",
        "\n",
        "from imblearn.over_sampling import SMOTE\n",
        "\n",
        "from imblearn.ensemble import (\n",
        "    BalancedBaggingClassifier,\n",
        "    BalancedRandomForestClassifier,\n",
        "    RUSBoostClassifier,\n",
        "    EasyEnsembleClassifier,\n",
        ")\n"
      ]
    },
    {
      "cell_type": "markdown",
      "metadata": {
        "id": "nTdqcm5_wT-P"
      },
      "source": [
        "We create a dictionary to store our different re-samplers we want to try out."
      ]
    },
    {
      "cell_type": "code",
      "execution_count": null,
      "metadata": {
        "id": "ybkwl-lywT-R"
      },
      "outputs": [],
      "source": [
        "# just re-sampling methods (no classifier)\n",
        "\n",
        "resampling_dict = {\n",
        "    \n",
        "    # Undersampling \n",
        "    'random': RandomUnderSampler(\n",
        "        sampling_strategy='auto',\n",
        "        random_state=0,\n",
        "        replacement=False,\n",
        "    ),\n",
        "    \n",
        "    # Undersampling \n",
        "    'tomek': TomekLinks(\n",
        "        sampling_strategy='majority',\n",
        "        n_jobs=4),\n",
        "    \n",
        "    # Oversampling \n",
        "    'smote': SMOTE(\n",
        "        sampling_strategy='auto',\n",
        "        random_state=0,\n",
        "        k_neighbors=5,\n",
        "        n_jobs=4),\n",
        "    \n",
        "    # Oversampling + Undersampling \n",
        "    'smenn': SMOTEENN(\n",
        "        sampling_strategy='auto',\n",
        "        random_state=0,\n",
        "        smote=SMOTE(sampling_strategy='auto', random_state=0, k_neighbors=5),\n",
        "        enn=EditedNearestNeighbours(\n",
        "            sampling_strategy='auto', n_neighbors=3, kind_sel='all'),\n",
        "        n_jobs=4),\n",
        "    \n",
        "}"
      ]
    },
    {
      "cell_type": "markdown",
      "metadata": {
        "id": "VyAxpHPuwT-S"
      },
      "source": [
        "We create another dictionary to store the different ensemble methods we want to try out."
      ]
    },
    {
      "cell_type": "code",
      "execution_count": null,
      "metadata": {
        "id": "II_iqe5pwT-U"
      },
      "outputs": [],
      "source": [
        "# ensemble methods (with or without resampling)\n",
        "\n",
        "ensemble_dict = {\n",
        "\n",
        "    # bagging of Logistic regression, no resampling\n",
        "    'bagging': BaggingClassifier(\n",
        "        base_estimator=LogisticRegression(random_state=2909),\n",
        "        n_estimators=20,\n",
        "        n_jobs=4,\n",
        "        random_state=0,\n",
        "    ),\n",
        "\n",
        "    # balanced random forests (bagging)\n",
        "    'balancedRF': BalancedRandomForestClassifier(\n",
        "        n_estimators=20,\n",
        "        criterion='gini',\n",
        "        max_depth=3,\n",
        "        sampling_strategy='auto',\n",
        "        n_jobs=4,\n",
        "        random_state=0,\n",
        "    ),\n",
        "    \n",
        "    # bagging of Logistic regression, with resampling\n",
        "    'balancedbagging': BalancedBaggingClassifier(\n",
        "        base_estimator=LogisticRegression(random_state=2909),\n",
        "        n_estimators=20,\n",
        "        max_samples=1.0,  # The number of samples to draw from X to train each base estimator\n",
        "        max_features=1.0,  # The number of features to draw from X to train each base estimator\n",
        "        bootstrap=True,\n",
        "        bootstrap_features=False,\n",
        "        sampling_strategy='auto',\n",
        "        n_jobs=4,\n",
        "        random_state=0,\n",
        "    ),\n",
        "\n",
        "    # boosting + undersampling\n",
        "    'rusboost': RUSBoostClassifier(\n",
        "        base_estimator=None,\n",
        "        n_estimators=20,\n",
        "        learning_rate=1.0,\n",
        "        sampling_strategy='auto',\n",
        "        random_state=0,\n",
        "    ),\n",
        "\n",
        "    # bagging + boosting + under-sammpling\n",
        "    'easyEnsemble': EasyEnsembleClassifier(\n",
        "        n_estimators=20,\n",
        "        sampling_strategy='auto',\n",
        "        n_jobs=4,\n",
        "        random_state=0,\n",
        "    ),\n",
        "}"
      ]
    },
    {
      "cell_type": "markdown",
      "metadata": {
        "id": "bB1TxH6rwT-V"
      },
      "source": [
        "We want to test our different methods on different imbalanced datasets provided by imblearn. We also print out the distribution between positive (1) class and negative (-1) class."
      ]
    },
    {
      "cell_type": "code",
      "execution_count": null,
      "metadata": {
        "id": "r8DIcs4bwT-X"
      },
      "outputs": [],
      "source": [
        "datasets_ls = [\n",
        "    'car_eval_34',\n",
        "    'ecoli',\n",
        "    'thyroid_sick',\n",
        "    'arrhythmia',\n",
        "    'ozone_level'\n",
        "]\n",
        "\n",
        "for dataset in datasets_ls:\n",
        "    data = fetch_datasets()[dataset]\n",
        "    print(dataset)\n",
        "    print(Counter(data.target))\n",
        "    print()"
      ]
    },
    {
      "cell_type": "code",
      "execution_count": null,
      "metadata": {
        "id": "hSRyRjF4wT-Z"
      },
      "outputs": [],
      "source": [
        "# function to train random forests and evaluate the performance\n",
        "\n",
        "def run_randomForests(X_train, X_test, y_train, y_test):\n",
        "\n",
        "    rf = RandomForestClassifier(\n",
        "        n_estimators=20, random_state=0, max_depth=2, n_jobs=4)\n",
        "    rf.fit(X_train, y_train)\n",
        "\n",
        "    print('Train set')\n",
        "    probas = rf.predict_proba(X_train)\n",
        "    preds = probas[:,1]\n",
        "    print('Random Forests roc-auc: {}'.format(roc_auc_score(y_train, preds)))\n",
        "\n",
        "    print('Test set')\n",
        "    probas = rf.predict_proba(X_test)\n",
        "    preds = probas[:,1]\n",
        "    print('Random Forests roc-auc: {}'.format(roc_auc_score(y_test, preds)))\n",
        "\n",
        "    return roc_auc_score(y_test, preds)"
      ]
    },
    {
      "cell_type": "code",
      "execution_count": null,
      "metadata": {
        "id": "qFgk2RHGwT-b"
      },
      "outputs": [],
      "source": [
        "# function to train adaboost and evaluate the performance\n",
        "\n",
        "def run_adaboost(X_train, X_test, y_train, y_test):\n",
        "\n",
        "    ada = AdaBoostClassifier(n_estimators=20, random_state=0)\n",
        "    \n",
        "    ada.fit(X_train, y_train)\n",
        "\n",
        "    print('Train set')\n",
        "    probas = ada.predict_proba(X_train)\n",
        "    preds = probas[:,1]\n",
        "    print('AdaBoost roc-auc: {}'.format(roc_auc_score(y_train, preds)))\n",
        "\n",
        "    print('Test set')\n",
        "    probas = ada.predict_proba(X_test)\n",
        "    preds = probas[:,1]\n",
        "    print('AdaBoost roc-auc: {}'.format(roc_auc_score(y_test, preds)))\n",
        "\n",
        "    return roc_auc_score(y_test, preds)"
      ]
    },
    {
      "cell_type": "code",
      "execution_count": null,
      "metadata": {
        "id": "5HD717fcwT-c"
      },
      "outputs": [],
      "source": [
        "# function to train xgboost and evaluate the performance \n",
        "\n",
        "def run_xgboost(X_train, X_test, y_train, y_test):\n",
        "    \n",
        "    xgb = xgboost.XGBClassifier(use_label_encoder=False, random_state=0)\n",
        "    \n",
        "    xgb.fit(X_train, y_train)\n",
        "    \n",
        "    print('Train set')\n",
        "    probas = xgb.predict_proba(X_train)\n",
        "    preds = probas[:,1]\n",
        "    print('XGBoost roc-auc: {}'.format(roc_auc_score(y_train, preds)))\n",
        "\n",
        "    print('Test set')\n",
        "    probas = xgb.predict_proba(X_test)\n",
        "    preds = probas[:,1]\n",
        "    print('XGBoost roc-auc: {}'.format(roc_auc_score(y_test, preds)))\n",
        "    \n",
        "    return roc_auc_score(y_test, preds)"
      ]
    },
    {
      "cell_type": "code",
      "execution_count": null,
      "metadata": {
        "id": "GIN6aiQ8wT-d"
      },
      "outputs": [],
      "source": [
        "# function to train random forests and evaluate the peensembleormance\n",
        "\n",
        "def run_ensemble(ensemble, X_train, X_test, y_train, y_test):\n",
        "    \n",
        "    ensemble.fit(X_train, y_train)\n",
        "\n",
        "    print('Train set')\n",
        "    probas = ensemble.predict_proba(X_train)\n",
        "    preds = probas[:,1]\n",
        "    print(\n",
        "        'ensembleBoost roc-auc: {}'.format(roc_auc_score(y_train, preds)))\n",
        "\n",
        "    print('Test set')\n",
        "    probas = ensemble.predict_proba(X_test)\n",
        "    preds = probas[:,1]\n",
        "    print(\n",
        "        'ensembleBoost roc-auc: {}'.format(roc_auc_score(y_test, preds)))\n",
        "\n",
        "    return roc_auc_score(y_test, preds)"
      ]
    },
    {
      "cell_type": "code",
      "source": [
        "#If you encounter the following message:\n",
        "\n",
        "#AttributeError: 'EasyEnsembleClassifier' object has no attribute 'n_features_in_'\n",
        "\n",
        "#Please downgrade your sklearn library to version 1.0 using the following code: \n",
        "#The attribute n_features_in_ is deprecated and its support was lost in sklearn version 1.2\n",
        "#!pip install scikit-learn==1.0\n",
        "\n",
        "# You may also check the sklearn version by using:\n",
        "# import sklearn\n",
        "#sklearn.__version__"
      ],
      "metadata": {
        "id": "K1WPN1WbwYun"
      },
      "execution_count": null,
      "outputs": []
    },
    {
      "cell_type": "code",
      "execution_count": null,
      "metadata": {
        "scrolled": true,
        "id": "E0o-rEsowT-d"
      },
      "outputs": [],
      "source": [
        "# to save the results\n",
        "results_dict = {}\n",
        "\n",
        "for dataset in datasets_ls:\n",
        "    \n",
        "    results_dict[dataset] = {}    \n",
        "    print(dataset)\n",
        "    \n",
        "    # load dataset\n",
        "    data = fetch_datasets()[dataset]\n",
        "    X = data.data\n",
        "    y = data.target \n",
        "    \n",
        "    # convert -1 to 0, so that it can work with xgboost\n",
        "    \n",
        "    my_dict = {-1:0, 1:1}\n",
        "    y = np.vectorize(my_dict.get)(y)\n",
        "\n",
        "    # separate train and test\n",
        "    X_train, X_test, y_train, y_test = train_test_split(X, y, \n",
        "                                                        test_size=0.2,random_state=0)\n",
        "\n",
        "    # we set variables in the same scale as many re-sampling techniques use KNN \n",
        "    scaler = MinMaxScaler().fit(X_train)\n",
        "    X_train = scaler.transform(X_train)\n",
        "    X_test = scaler.transform(X_test)\n",
        "    \n",
        "    # train model and store result\n",
        "    roc = run_randomForests(X_train, X_test, y_train, y_test)\n",
        "    results_dict[dataset]['full_data'] = roc\n",
        "    print()\n",
        "    \n",
        "    # train model and store result\n",
        "    roc = run_adaboost(X_train, X_test, y_train, y_test)\n",
        "    results_dict[dataset]['full_data_adaboost'] = roc\n",
        "    print()\n",
        "    \n",
        "    roc = run_xgboost(X_train, X_test, y_train, y_test)\n",
        "    results_dict[dataset]['full_data_xgboost'] = roc\n",
        "    print()\n",
        "    \n",
        "    for sampler in resampling_dict.keys():\n",
        "        \n",
        "        print(sampler)\n",
        "        \n",
        "        # resample\n",
        "        X_resampled, y_resampled = resampling_dict[sampler].fit_resample(X_train, y_train)\n",
        "        \n",
        "        # train model and store result\n",
        "        roc = run_randomForests(X_resampled, X_test, y_resampled, y_test)\n",
        "        results_dict[dataset][sampler] = roc\n",
        "        print()\n",
        "    \n",
        "    for ensemble in ensemble_dict.keys():\n",
        "        \n",
        "        print(ensemble)\n",
        "        \n",
        "        # train model and store result\n",
        "        roc = run_ensemble(ensemble_dict[ensemble], X_train, X_test, y_train, y_test)\n",
        "        results_dict[dataset][ensemble] = roc\n",
        "        print()\n",
        "        "
      ]
    },
    {
      "cell_type": "code",
      "execution_count": null,
      "metadata": {
        "id": "eTBuGuXCwT-f"
      },
      "outputs": [],
      "source": [
        "for dataset in datasets_ls:\n",
        "    \n",
        "    pd.Series(results_dict[dataset]).plot.bar()\n",
        "    plt.title(dataset)\n",
        "    plt.ylabel('roc-auc')\n",
        "    plt.ylim(0.7, 1)\n",
        "    plt.axhline(results_dict[dataset]['full_data'], color='r')\n",
        "    plt.show()"
      ]
    },
    {
      "cell_type": "markdown",
      "metadata": {
        "id": "E6oi3J1bwT-f"
      },
      "source": [
        "We see that boosting algorithms tend to outperform bagging algorithms. And adding resampling to bagging improves performance, in general, quite a bit.\n",
        "\n",
        "We also see that in some cases, boosting alone outperforms resampling techniques.\n",
        "\n",
        "Different methods has different performance on different datasets. There is no a single method that is best for all datasets.\n"
      ]
    }
  ],
  "metadata": {
    "kernelspec": {
      "display_name": "Python 3",
      "language": "python",
      "name": "python3"
    },
    "language_info": {
      "codemirror_mode": {
        "name": "ipython",
        "version": 3
      },
      "file_extension": ".py",
      "mimetype": "text/x-python",
      "name": "python",
      "nbconvert_exporter": "python",
      "pygments_lexer": "ipython3",
      "version": "3.7.10"
    },
    "toc": {
      "base_numbering": 1,
      "nav_menu": {},
      "number_sections": true,
      "sideBar": true,
      "skip_h1_title": false,
      "title_cell": "Table of Contents",
      "title_sidebar": "Contents",
      "toc_cell": false,
      "toc_position": {},
      "toc_section_display": true,
      "toc_window_display": false
    },
    "colab": {
      "name": "imb_methods_comparison.ipynb",
      "provenance": [],
      "include_colab_link": true
    }
  },
  "nbformat": 4,
  "nbformat_minor": 0
}