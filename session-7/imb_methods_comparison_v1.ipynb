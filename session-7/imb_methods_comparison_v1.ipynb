{
  "cells": [
    {
      "cell_type": "markdown",
      "metadata": {
        "id": "view-in-github"
      },
      "source": [
        "<a href=\"https://colab.research.google.com/github/nyp-sit/sdaai-iti103/blob/master/session-7/imb_methods_comparison.ipynb\" target=\"_parent\"><img src=\"https://colab.research.google.com/assets/colab-badge.svg\" alt=\"Open In Colab\"/></a>"
      ]
    },
    {
      "cell_type": "markdown",
      "metadata": {
        "id": "wiWPdXoAwT-D"
      },
      "source": [
        "# Comparison of Methods for Tackling Imbalanced Data\n",
        "\n",
        "In this notebook, we will compare the performance of different methods on different imbalanced datasets:\n",
        "\n",
        "- just re-sampling\n",
        "- just boosting or bagging\n",
        "- bagging + re-sampling\n",
        "- boosting + re-sampling\n",
        "- bagging + boosting + re-sampling\n",
        "\n"
      ]
    },
    {
      "cell_type": "code",
      "source": [
        "#You will get the error such as below:\n",
        "\n",
        "#AttributeError: 'EasyEnsembleClassifier' object has no attribute 'n_features_in_'\n",
        "\n",
        "#Please downgrade your sklearn library to version 1.0 using the following code:\n",
        "#The attribute n_features_in_ is deprecated and its support was lost in sklearn version 1.2\n",
        "#You will need to restart the runtime after the install\n",
        "\n",
        "!pip install scikit-learn==1.0.0\n",
        "# You may also check the sklearn version by using:\n",
        "import sklearn\n",
        "print(sklearn.__version__)"
      ],
      "metadata": {
        "id": "geQzZENxk0YL",
        "colab": {
          "base_uri": "https://localhost:8080/"
        },
        "outputId": "b0784785-fd0f-43ad-a8e7-75a2b7e49e06"
      },
      "execution_count": 1,
      "outputs": [
        {
          "output_type": "stream",
          "name": "stdout",
          "text": [
            "Looking in indexes: https://pypi.org/simple, https://us-python.pkg.dev/colab-wheels/public/simple/\n",
            "Collecting scikit-learn==1.0.0\n",
            "  Downloading scikit-learn-1.0.tar.gz (7.8 MB)\n",
            "\u001b[2K     \u001b[90m━━━━━━━━━━━━━━━━━━━━━━━━━━━━━━━━━━━━━━━━\u001b[0m \u001b[32m7.8/7.8 MB\u001b[0m \u001b[31m25.3 MB/s\u001b[0m eta \u001b[36m0:00:00\u001b[0m\n",
            "\u001b[?25h  Installing build dependencies ... \u001b[?25l\u001b[?25hdone\n",
            "  Getting requirements to build wheel ... \u001b[?25l\u001b[?25hdone\n",
            "  Preparing metadata (pyproject.toml) ... \u001b[?25l\u001b[?25hdone\n",
            "Requirement already satisfied: numpy>=1.14.6 in /usr/local/lib/python3.10/dist-packages (from scikit-learn==1.0.0) (1.22.4)\n",
            "Requirement already satisfied: scipy>=1.1.0 in /usr/local/lib/python3.10/dist-packages (from scikit-learn==1.0.0) (1.10.1)\n",
            "Requirement already satisfied: joblib>=0.11 in /usr/local/lib/python3.10/dist-packages (from scikit-learn==1.0.0) (1.2.0)\n",
            "Requirement already satisfied: threadpoolctl>=2.0.0 in /usr/local/lib/python3.10/dist-packages (from scikit-learn==1.0.0) (3.1.0)\n",
            "Building wheels for collected packages: scikit-learn\n",
            "  Building wheel for scikit-learn (pyproject.toml) ... \u001b[?25l\u001b[?25hdone\n",
            "  Created wheel for scikit-learn: filename=scikit_learn-1.0-cp310-cp310-linux_x86_64.whl size=25849309 sha256=7efcc8520067b74afe89f51a02ef2ae825edd5aab658ef35d6be4ba14fbbdeb4\n",
            "  Stored in directory: /root/.cache/pip/wheels/dc/ac/81/f7dc596b727fdedc2b8f05ef115393b07478ee09a76edebdff\n",
            "Successfully built scikit-learn\n",
            "Installing collected packages: scikit-learn\n",
            "  Attempting uninstall: scikit-learn\n",
            "    Found existing installation: scikit-learn 1.2.2\n",
            "    Uninstalling scikit-learn-1.2.2:\n",
            "      Successfully uninstalled scikit-learn-1.2.2\n",
            "\u001b[31mERROR: pip's dependency resolver does not currently take into account all the packages that are installed. This behaviour is the source of the following dependency conflicts.\n",
            "imbalanced-learn 0.10.1 requires scikit-learn>=1.0.2, but you have scikit-learn 1.0 which is incompatible.\u001b[0m\u001b[31m\n",
            "\u001b[0mSuccessfully installed scikit-learn-1.0\n",
            "1.0\n"
          ]
        }
      ]
    },
    {
      "cell_type": "code",
      "execution_count": 1,
      "metadata": {
        "id": "iVrHpr3EwT-K"
      },
      "outputs": [],
      "source": [
        "from collections import Counter\n",
        "\n",
        "import numpy as np\n",
        "import pandas as pd\n",
        "import matplotlib.pyplot as plt\n",
        "import seaborn as sns\n",
        "\n",
        "from sklearn.ensemble import (\n",
        "    RandomForestClassifier,\n",
        "    BaggingClassifier,\n",
        "    AdaBoostClassifier,\n",
        ")\n",
        "\n",
        "import xgboost\n",
        "\n",
        "from sklearn.linear_model  import LogisticRegression\n",
        "from sklearn.metrics import roc_auc_score\n",
        "from sklearn.model_selection import train_test_split\n",
        "from sklearn.preprocessing import MinMaxScaler\n",
        "\n",
        "from imblearn.datasets import fetch_datasets\n",
        "\n",
        "from imblearn.under_sampling import (\n",
        "    RandomUnderSampler,\n",
        "    TomekLinks,\n",
        "    EditedNearestNeighbours\n",
        ")\n",
        "\n",
        "from imblearn.combine import SMOTEENN\n",
        "\n",
        "from imblearn.over_sampling import SMOTE\n",
        "\n",
        "from imblearn.ensemble import (\n",
        "    BalancedBaggingClassifier,\n",
        "    BalancedRandomForestClassifier,\n",
        "    RUSBoostClassifier,\n",
        "    EasyEnsembleClassifier,\n",
        ")\n"
      ]
    },
    {
      "cell_type": "markdown",
      "metadata": {
        "id": "nTdqcm5_wT-P"
      },
      "source": [
        "We create a dictionary to store our different re-samplers we want to try out."
      ]
    },
    {
      "cell_type": "code",
      "execution_count": 2,
      "metadata": {
        "id": "ybkwl-lywT-R"
      },
      "outputs": [],
      "source": [
        "# just re-sampling methods (no classifier)\n",
        "\n",
        "resampling_dict = {\n",
        "\n",
        "    # Undersampling\n",
        "    'random': RandomUnderSampler(\n",
        "        sampling_strategy='auto',\n",
        "        random_state=0,\n",
        "        replacement=False,\n",
        "    ),\n",
        "\n",
        "    # Undersampling\n",
        "    'tomek': TomekLinks(\n",
        "        sampling_strategy='majority',\n",
        "        n_jobs=4),\n",
        "\n",
        "    # Oversampling\n",
        "    'smote': SMOTE(\n",
        "        sampling_strategy='auto',\n",
        "        random_state=0,\n",
        "        k_neighbors=5,\n",
        "        n_jobs=4),\n",
        "\n",
        "    # Oversampling + Undersampling\n",
        "    'smenn': SMOTEENN(\n",
        "        sampling_strategy='auto',\n",
        "        random_state=0,\n",
        "        smote=SMOTE(sampling_strategy='auto', random_state=0, k_neighbors=5),\n",
        "        enn=EditedNearestNeighbours(\n",
        "            sampling_strategy='auto', n_neighbors=3, kind_sel='all'),\n",
        "        n_jobs=4),\n",
        "\n",
        "}"
      ]
    },
    {
      "cell_type": "markdown",
      "metadata": {
        "id": "VyAxpHPuwT-S"
      },
      "source": [
        "We create another dictionary to store the different ensemble methods we want to try out."
      ]
    },
    {
      "cell_type": "code",
      "execution_count": 11,
      "metadata": {
        "id": "II_iqe5pwT-U"
      },
      "outputs": [],
      "source": [
        "# ensemble methods (with or without resampling)\n",
        "\n",
        "ensemble_dict = {\n",
        "\n",
        "    # bagging of Logistic regression, no resampling\n",
        "    'bagging': BaggingClassifier(\n",
        "        base_estimator=LogisticRegression(random_state=2909),\n",
        "        n_estimators=20,\n",
        "        n_jobs=4,\n",
        "        random_state=0,\n",
        "    ),\n",
        "\n",
        "    # balanced random forests (bagging)\n",
        "    'balancedRF': BalancedRandomForestClassifier(\n",
        "        n_estimators=20,\n",
        "        criterion='gini',\n",
        "        max_depth=3,\n",
        "        sampling_strategy='auto',\n",
        "        n_jobs=4,\n",
        "        random_state=0,\n",
        "    ),\n",
        "\n",
        "    # bagging of Logistic regression, with resampling\n",
        "    'balancedbagging': BalancedBaggingClassifier(\n",
        "        base_estimator=LogisticRegression(random_state=2909),\n",
        "        n_estimators=20,\n",
        "        max_samples=1.0,  # The number of samples to draw from X to train each base estimator\n",
        "        max_features=1.0,  # The number of features to draw from X to train each base estimator\n",
        "        bootstrap=True,\n",
        "        bootstrap_features=False,\n",
        "        sampling_strategy='auto',\n",
        "        n_jobs=4,\n",
        "        random_state=0,\n",
        "    ),\n",
        "\n",
        "    # boosting + undersampling\n",
        "    'rusboost': RUSBoostClassifier(\n",
        "        estimator=None,\n",
        "        n_estimators=20,\n",
        "        learning_rate=1.0,\n",
        "        sampling_strategy='auto',\n",
        "        random_state=0,\n",
        "    ),\n",
        "\n",
        "    # bagging + boosting + under-sammpling\n",
        "    'easyEnsemble': EasyEnsembleClassifier(\n",
        "        n_estimators=20,\n",
        "        sampling_strategy='auto',\n",
        "        n_jobs=4,\n",
        "        random_state=0,\n",
        "    ),\n",
        "}"
      ]
    },
    {
      "cell_type": "markdown",
      "metadata": {
        "id": "bB1TxH6rwT-V"
      },
      "source": [
        "We want to test our different methods on different imbalanced datasets provided by imblearn. We also print out the distribution between positive (1) class and negative (-1) class."
      ]
    },
    {
      "cell_type": "code",
      "execution_count": 4,
      "metadata": {
        "id": "r8DIcs4bwT-X",
        "colab": {
          "base_uri": "https://localhost:8080/"
        },
        "outputId": "5741d3d1-9e8d-4573-d0ba-831ac0174441"
      },
      "outputs": [
        {
          "output_type": "stream",
          "name": "stdout",
          "text": [
            "car_eval_34\n",
            "Counter({-1: 1594, 1: 134})\n",
            "\n",
            "ecoli\n",
            "Counter({-1: 301, 1: 35})\n",
            "\n",
            "thyroid_sick\n",
            "Counter({-1: 3541, 1: 231})\n",
            "\n",
            "arrhythmia\n",
            "Counter({-1: 427, 1: 25})\n",
            "\n",
            "ozone_level\n",
            "Counter({-1: 2463, 1: 73})\n",
            "\n"
          ]
        }
      ],
      "source": [
        "datasets_ls = [\n",
        "    'car_eval_34',\n",
        "    'ecoli',\n",
        "    'thyroid_sick',\n",
        "    'arrhythmia',\n",
        "    'ozone_level'\n",
        "]\n",
        "\n",
        "for dataset in datasets_ls:\n",
        "    data = fetch_datasets()[dataset]\n",
        "    print(dataset)\n",
        "    print(Counter(data.target))\n",
        "    print()"
      ]
    },
    {
      "cell_type": "code",
      "execution_count": 5,
      "metadata": {
        "id": "hSRyRjF4wT-Z"
      },
      "outputs": [],
      "source": [
        "# function to train random forests and evaluate the performance\n",
        "\n",
        "def run_randomForests(X_train, X_test, y_train, y_test):\n",
        "\n",
        "    rf = RandomForestClassifier(\n",
        "        n_estimators=20, random_state=0, max_depth=2, n_jobs=4)\n",
        "    rf.fit(X_train, y_train)\n",
        "\n",
        "    print('Train set')\n",
        "    probas = rf.predict_proba(X_train)\n",
        "    preds = probas[:,1]\n",
        "    print('Random Forests roc-auc: {}'.format(roc_auc_score(y_train, preds)))\n",
        "\n",
        "    print('Test set')\n",
        "    probas = rf.predict_proba(X_test)\n",
        "    preds = probas[:,1]\n",
        "    print('Random Forests roc-auc: {}'.format(roc_auc_score(y_test, preds)))\n",
        "\n",
        "    return roc_auc_score(y_test, preds)"
      ]
    },
    {
      "cell_type": "code",
      "execution_count": 6,
      "metadata": {
        "id": "qFgk2RHGwT-b"
      },
      "outputs": [],
      "source": [
        "# function to train adaboost and evaluate the performance\n",
        "\n",
        "def run_adaboost(X_train, X_test, y_train, y_test):\n",
        "\n",
        "    ada = AdaBoostClassifier(n_estimators=20, random_state=0)\n",
        "\n",
        "    ada.fit(X_train, y_train)\n",
        "\n",
        "    print('Train set')\n",
        "    probas = ada.predict_proba(X_train)\n",
        "    preds = probas[:,1]\n",
        "    print('AdaBoost roc-auc: {}'.format(roc_auc_score(y_train, preds)))\n",
        "\n",
        "    print('Test set')\n",
        "    probas = ada.predict_proba(X_test)\n",
        "    preds = probas[:,1]\n",
        "    print('AdaBoost roc-auc: {}'.format(roc_auc_score(y_test, preds)))\n",
        "\n",
        "    return roc_auc_score(y_test, preds)"
      ]
    },
    {
      "cell_type": "code",
      "execution_count": 7,
      "metadata": {
        "id": "5HD717fcwT-c"
      },
      "outputs": [],
      "source": [
        "# function to train xgboost and evaluate the performance\n",
        "\n",
        "def run_xgboost(X_train, X_test, y_train, y_test):\n",
        "\n",
        "    xgb = xgboost.XGBClassifier(use_label_encoder=False, random_state=0)\n",
        "\n",
        "    xgb.fit(X_train, y_train)\n",
        "\n",
        "    print('Train set')\n",
        "    probas = xgb.predict_proba(X_train)\n",
        "    preds = probas[:,1]\n",
        "    print('XGBoost roc-auc: {}'.format(roc_auc_score(y_train, preds)))\n",
        "\n",
        "    print('Test set')\n",
        "    probas = xgb.predict_proba(X_test)\n",
        "    preds = probas[:,1]\n",
        "    print('XGBoost roc-auc: {}'.format(roc_auc_score(y_test, preds)))\n",
        "\n",
        "    return roc_auc_score(y_test, preds)"
      ]
    },
    {
      "cell_type": "code",
      "execution_count": 8,
      "metadata": {
        "id": "GIN6aiQ8wT-d"
      },
      "outputs": [],
      "source": [
        "# function to train random forests and evaluate the peensembleormance\n",
        "\n",
        "def run_ensemble(ensemble, X_train, X_test, y_train, y_test):\n",
        "\n",
        "    ensemble.fit(X_train, y_train)\n",
        "\n",
        "    print('Train set')\n",
        "    probas = ensemble.predict_proba(X_train)\n",
        "    preds = probas[:,1]\n",
        "    print(\n",
        "        'ensemble roc-auc: {}'.format(roc_auc_score(y_train, preds)))\n",
        "\n",
        "    print('Test set')\n",
        "    probas = ensemble.predict_proba(X_test)\n",
        "    preds = probas[:,1]\n",
        "    print(\n",
        "        'ensemble roc-auc: {}'.format(roc_auc_score(y_test, preds)))\n",
        "\n",
        "    return roc_auc_score(y_test, preds)"
      ]
    },
    {
      "cell_type": "code",
      "execution_count": 12,
      "metadata": {
        "scrolled": true,
        "id": "E0o-rEsowT-d",
        "colab": {
          "base_uri": "https://localhost:8080/"
        },
        "outputId": "30ab02b9-a8c5-4ed7-9a0d-beb3cc08f99b"
      },
      "outputs": [
        {
          "output_type": "stream",
          "name": "stdout",
          "text": [
            "car_eval_34\n",
            "Train set\n",
            "Random Forests roc-auc: 0.9550558915154848\n",
            "Test set\n",
            "Random Forests roc-auc: 0.9487983281086729\n",
            "\n",
            "Train set\n",
            "AdaBoost roc-auc: 0.9986549386109583\n",
            "Test set\n",
            "AdaBoost roc-auc: 0.9961105305932892\n",
            "\n"
          ]
        },
        {
          "output_type": "stream",
          "name": "stderr",
          "text": [
            "/usr/local/lib/python3.10/dist-packages/xgboost/sklearn.py:1395: UserWarning: `use_label_encoder` is deprecated in 1.7.0.\n",
            "  warnings.warn(\"`use_label_encoder` is deprecated in 1.7.0.\")\n"
          ]
        },
        {
          "output_type": "stream",
          "name": "stdout",
          "text": [
            "Train set\n",
            "XGBoost roc-auc: 1.0\n",
            "Test set\n",
            "XGBoost roc-auc: 0.9987228607918263\n",
            "\n",
            "random\n",
            "Train set\n",
            "Random Forests roc-auc: 0.9985151541619356\n",
            "Test set\n",
            "Random Forests roc-auc: 0.975908510391269\n",
            "\n",
            "tomek\n",
            "Train set\n",
            "Random Forests roc-auc: 0.9542684053045695\n",
            "Test set\n",
            "Random Forests roc-auc: 0.9512365029606409\n",
            "\n",
            "smote\n"
          ]
        },
        {
          "output_type": "stream",
          "name": "stderr",
          "text": [
            "/usr/local/lib/python3.10/dist-packages/imblearn/over_sampling/_smote/base.py:336: FutureWarning: The parameter `n_jobs` has been deprecated in 0.10 and will be removed in 0.12. You can pass an nearest neighbors estimator where `n_jobs` is already set instead.\n",
            "  warnings.warn(\n"
          ]
        },
        {
          "output_type": "stream",
          "name": "stdout",
          "text": [
            "Train set\n",
            "Random Forests roc-auc: 0.9865974625144176\n",
            "Test set\n",
            "Random Forests roc-auc: 0.9714965749448508\n",
            "\n",
            "smenn\n",
            "Train set\n",
            "Random Forests roc-auc: 0.9952612072279893\n",
            "Test set\n",
            "Random Forests roc-auc: 0.9874608150470219\n",
            "\n",
            "bagging\n",
            "Train set\n",
            "ensemble roc-auc: 0.9987538940809969\n",
            "Test set\n",
            "ensemble roc-auc: 0.997561825148032\n",
            "\n",
            "balancedRF\n",
            "Train set\n",
            "ensemble roc-auc: 0.9909913872090892\n",
            "Test set\n",
            "ensemble roc-auc: 0.9909439219784046\n",
            "\n",
            "balancedbagging\n"
          ]
        },
        {
          "output_type": "stream",
          "name": "stderr",
          "text": [
            "/usr/local/lib/python3.10/dist-packages/imblearn/ensemble/_bagging.py:353: FutureWarning: `base_estimator` was renamed to `estimator` in version 0.10 and will be removed in 0.12.\n",
            "  warnings.warn(\n"
          ]
        },
        {
          "output_type": "stream",
          "name": "stdout",
          "text": [
            "Train set\n",
            "ensemble roc-auc: 0.9988491845336266\n",
            "Test set\n",
            "ensemble roc-auc: 0.9974457215836525\n",
            "\n",
            "rusboost\n",
            "Train set\n",
            "ensemble roc-auc: 0.997108301264431\n",
            "Test set\n",
            "ensemble roc-auc: 0.9964588412864275\n",
            "\n",
            "easyEnsemble\n",
            "Train set\n",
            "ensemble roc-auc: 0.9990251053692505\n",
            "Test set\n",
            "ensemble roc-auc: 0.9966329966329966\n",
            "\n",
            "ecoli\n",
            "Train set\n",
            "Random Forests roc-auc: 0.9565126050420169\n",
            "Test set\n",
            "Random Forests roc-auc: 0.9968253968253967\n",
            "\n",
            "Train set\n",
            "AdaBoost roc-auc: 0.9913865546218488\n",
            "Test set\n",
            "AdaBoost roc-auc: 0.9587301587301587\n",
            "\n",
            "Train set\n",
            "XGBoost roc-auc: 1.0\n",
            "Test set\n",
            "XGBoost roc-auc: 0.9904761904761905\n",
            "\n",
            "random\n",
            "Train set\n",
            "Random Forests roc-auc: 0.9855555555555556\n",
            "Test set\n",
            "Random Forests roc-auc: 0.9603174603174603\n",
            "\n",
            "tomek\n",
            "Train set\n"
          ]
        },
        {
          "output_type": "stream",
          "name": "stderr",
          "text": [
            "/usr/local/lib/python3.10/dist-packages/xgboost/sklearn.py:1395: UserWarning: `use_label_encoder` is deprecated in 1.7.0.\n",
            "  warnings.warn(\"`use_label_encoder` is deprecated in 1.7.0.\")\n",
            "/usr/local/lib/python3.10/dist-packages/imblearn/over_sampling/_smote/base.py:336: FutureWarning: The parameter `n_jobs` has been deprecated in 0.10 and will be removed in 0.12. You can pass an nearest neighbors estimator where `n_jobs` is already set instead.\n",
            "  warnings.warn(\n"
          ]
        },
        {
          "output_type": "stream",
          "name": "stdout",
          "text": [
            "Random Forests roc-auc: 0.9711206896551724\n",
            "Test set\n",
            "Random Forests roc-auc: 0.9873015873015872\n",
            "\n",
            "smote\n",
            "Train set\n",
            "Random Forests roc-auc: 0.9654420591766117\n",
            "Test set\n",
            "Random Forests roc-auc: 0.9793650793650793\n",
            "\n",
            "smenn\n",
            "Train set\n",
            "Random Forests roc-auc: 0.9580828020863518\n",
            "Test set\n",
            "Random Forests roc-auc: 0.9841269841269841\n",
            "\n",
            "bagging\n",
            "Train set\n",
            "ensemble roc-auc: 0.9354341736694678\n",
            "Test set\n",
            "ensemble roc-auc: 0.9746031746031746\n",
            "\n",
            "balancedRF\n",
            "Train set\n",
            "ensemble roc-auc: 0.9710784313725489\n",
            "Test set\n",
            "ensemble roc-auc: 0.9714285714285714\n",
            "\n",
            "balancedbagging\n"
          ]
        },
        {
          "output_type": "stream",
          "name": "stderr",
          "text": [
            "/usr/local/lib/python3.10/dist-packages/imblearn/ensemble/_bagging.py:353: FutureWarning: `base_estimator` was renamed to `estimator` in version 0.10 and will be removed in 0.12.\n",
            "  warnings.warn(\n"
          ]
        },
        {
          "output_type": "stream",
          "name": "stdout",
          "text": [
            "Train set\n",
            "ensemble roc-auc: 0.926750700280112\n",
            "Test set\n",
            "ensemble roc-auc: 0.9650793650793651\n",
            "\n",
            "rusboost\n",
            "Train set\n",
            "ensemble roc-auc: 0.9602941176470587\n",
            "Test set\n",
            "ensemble roc-auc: 0.9650793650793651\n",
            "\n",
            "easyEnsemble\n",
            "Train set\n",
            "ensemble roc-auc: 0.9876750700280111\n",
            "Test set\n",
            "ensemble roc-auc: 0.9809523809523809\n",
            "\n",
            "thyroid_sick\n",
            "Train set\n",
            "Random Forests roc-auc: 0.9558640796219966\n",
            "Test set\n",
            "Random Forests roc-auc: 0.9791027999182506\n",
            "\n",
            "Train set\n",
            "AdaBoost roc-auc: 0.991512013672464\n",
            "Test set\n",
            "AdaBoost roc-auc: 0.9645156345800123\n",
            "\n"
          ]
        },
        {
          "output_type": "stream",
          "name": "stderr",
          "text": [
            "/usr/local/lib/python3.10/dist-packages/xgboost/sklearn.py:1395: UserWarning: `use_label_encoder` is deprecated in 1.7.0.\n",
            "  warnings.warn(\"`use_label_encoder` is deprecated in 1.7.0.\")\n"
          ]
        },
        {
          "output_type": "stream",
          "name": "stdout",
          "text": [
            "Train set\n",
            "XGBoost roc-auc: 1.0\n",
            "Test set\n",
            "XGBoost roc-auc: 0.9979307173513182\n",
            "\n",
            "random\n",
            "Train set\n",
            "Random Forests roc-auc: 0.9635102040816326\n",
            "Test set\n",
            "Random Forests roc-auc: 0.978489679133456\n",
            "\n",
            "tomek\n",
            "Train set\n",
            "Random Forests roc-auc: 0.9582366707366707\n",
            "Test set\n",
            "Random Forests roc-auc: 0.9802651747394237\n",
            "\n",
            "smote\n",
            "Train set\n",
            "Random Forests roc-auc: 0.9542320604623222\n",
            "Test set\n",
            "Random Forests roc-auc: 0.9650648886163908\n",
            "\n",
            "smenn\n"
          ]
        },
        {
          "output_type": "stream",
          "name": "stderr",
          "text": [
            "/usr/local/lib/python3.10/dist-packages/imblearn/over_sampling/_smote/base.py:336: FutureWarning: The parameter `n_jobs` has been deprecated in 0.10 and will be removed in 0.12. You can pass an nearest neighbors estimator where `n_jobs` is already set instead.\n",
            "  warnings.warn(\n"
          ]
        },
        {
          "output_type": "stream",
          "name": "stdout",
          "text": [
            "Train set\n",
            "Random Forests roc-auc: 0.952830227970078\n",
            "Test set\n",
            "Random Forests roc-auc: 0.9682454526875127\n",
            "\n",
            "bagging\n",
            "Train set\n",
            "ensemble roc-auc: 0.9317241379310345\n",
            "Test set\n",
            "ensemble roc-auc: 0.933910688739015\n",
            "\n",
            "balancedRF\n",
            "Train set\n",
            "ensemble roc-auc: 0.9628541268724238\n",
            "Test set\n",
            "ensemble roc-auc: 0.9776721847537297\n",
            "\n",
            "balancedbagging\n"
          ]
        },
        {
          "output_type": "stream",
          "name": "stderr",
          "text": [
            "/usr/local/lib/python3.10/dist-packages/imblearn/ensemble/_bagging.py:353: FutureWarning: `base_estimator` was renamed to `estimator` in version 0.10 and will be removed in 0.12.\n",
            "  warnings.warn(\n"
          ]
        },
        {
          "output_type": "stream",
          "name": "stdout",
          "text": [
            "Train set\n",
            "ensemble roc-auc: 0.9084347039308334\n",
            "Test set\n",
            "ensemble roc-auc: 0.9169476803596974\n",
            "\n",
            "rusboost\n",
            "Train set\n",
            "ensemble roc-auc: 0.9810053282396702\n",
            "Test set\n",
            "ensemble roc-auc: 0.9557914367463725\n",
            "\n",
            "easyEnsemble\n",
            "Train set\n",
            "ensemble roc-auc: 0.98746958882075\n",
            "Test set\n",
            "ensemble roc-auc: 0.9613478438585733\n",
            "\n",
            "arrhythmia\n",
            "Train set\n",
            "Random Forests roc-auc: 0.9931372549019607\n",
            "Test set\n",
            "Random Forests roc-auc: 0.9511494252873564\n",
            "\n",
            "Train set\n",
            "AdaBoost roc-auc: 1.0\n",
            "Test set\n",
            "AdaBoost roc-auc: 1.0\n",
            "\n"
          ]
        },
        {
          "output_type": "stream",
          "name": "stderr",
          "text": [
            "/usr/local/lib/python3.10/dist-packages/xgboost/sklearn.py:1395: UserWarning: `use_label_encoder` is deprecated in 1.7.0.\n",
            "  warnings.warn(\"`use_label_encoder` is deprecated in 1.7.0.\")\n"
          ]
        },
        {
          "output_type": "stream",
          "name": "stdout",
          "text": [
            "Train set\n",
            "XGBoost roc-auc: 1.0\n",
            "Test set\n",
            "XGBoost roc-auc: 0.9971264367816092\n",
            "\n",
            "random\n",
            "Train set\n",
            "Random Forests roc-auc: 0.9977324263038548\n",
            "Test set\n",
            "Random Forests roc-auc: 0.7298850574712643\n",
            "\n",
            "tomek\n",
            "Train set\n",
            "Random Forests roc-auc: 0.9937079937079937\n",
            "Test set\n",
            "Random Forests roc-auc: 0.9454022988505747\n",
            "\n",
            "smote\n"
          ]
        },
        {
          "output_type": "stream",
          "name": "stderr",
          "text": [
            "/usr/local/lib/python3.10/dist-packages/imblearn/over_sampling/_smote/base.py:336: FutureWarning: The parameter `n_jobs` has been deprecated in 0.10 and will be removed in 0.12. You can pass an nearest neighbors estimator where `n_jobs` is already set instead.\n",
            "  warnings.warn(\n"
          ]
        },
        {
          "output_type": "stream",
          "name": "stdout",
          "text": [
            "Train set\n",
            "Random Forests roc-auc: 0.9956401384083045\n",
            "Test set\n",
            "Random Forests roc-auc: 0.9137931034482759\n",
            "\n",
            "smenn\n",
            "Train set\n",
            "Random Forests roc-auc: 0.9945155709342561\n",
            "Test set\n",
            "Random Forests roc-auc: 0.8620689655172413\n",
            "\n",
            "bagging\n",
            "Train set\n",
            "ensemble roc-auc: 0.9822128851540617\n",
            "Test set\n",
            "ensemble roc-auc: 0.8563218390804598\n",
            "\n",
            "balancedRF\n",
            "Train set\n",
            "ensemble roc-auc: 0.9931372549019608\n",
            "Test set\n",
            "ensemble roc-auc: 0.942528735632184\n",
            "\n",
            "balancedbagging\n"
          ]
        },
        {
          "output_type": "stream",
          "name": "stderr",
          "text": [
            "/usr/local/lib/python3.10/dist-packages/imblearn/ensemble/_bagging.py:353: FutureWarning: `base_estimator` was renamed to `estimator` in version 0.10 and will be removed in 0.12.\n",
            "  warnings.warn(\n"
          ]
        },
        {
          "output_type": "stream",
          "name": "stdout",
          "text": [
            "Train set\n",
            "ensemble roc-auc: 0.9512605042016807\n",
            "Test set\n",
            "ensemble roc-auc: 0.7844827586206896\n",
            "\n",
            "rusboost\n",
            "Train set\n",
            "ensemble roc-auc: 0.9941176470588234\n",
            "Test set\n",
            "ensemble roc-auc: 0.9899425287356322\n",
            "\n",
            "easyEnsemble\n",
            "Train set\n",
            "ensemble roc-auc: 1.0\n",
            "Test set\n",
            "ensemble roc-auc: 0.985632183908046\n",
            "\n",
            "ozone_level\n",
            "Train set\n",
            "Random Forests roc-auc: 0.8915184620596207\n",
            "Test set\n",
            "Random Forests roc-auc: 0.8502719502719502\n",
            "\n",
            "Train set\n",
            "AdaBoost roc-auc: 0.983422256097561\n",
            "Test set\n",
            "AdaBoost roc-auc: 0.8749028749028749\n",
            "\n"
          ]
        },
        {
          "output_type": "stream",
          "name": "stderr",
          "text": [
            "/usr/local/lib/python3.10/dist-packages/xgboost/sklearn.py:1395: UserWarning: `use_label_encoder` is deprecated in 1.7.0.\n",
            "  warnings.warn(\"`use_label_encoder` is deprecated in 1.7.0.\")\n"
          ]
        },
        {
          "output_type": "stream",
          "name": "stdout",
          "text": [
            "Train set\n",
            "XGBoost roc-auc: 1.0\n",
            "Test set\n",
            "XGBoost roc-auc: 0.9205905205905206\n",
            "\n",
            "random\n",
            "Train set\n",
            "Random Forests roc-auc: 0.9352777777777778\n",
            "Test set\n",
            "Random Forests roc-auc: 0.8573426573426574\n",
            "\n",
            "tomek\n",
            "Train set\n",
            "Random Forests roc-auc: 0.8910272804774084\n",
            "Test set\n",
            "Random Forests roc-auc: 0.8634032634032633\n",
            "\n",
            "smote\n",
            "Train set\n",
            "Random Forests roc-auc: 0.9337277538171724\n",
            "Test set\n",
            "Random Forests roc-auc: 0.7902097902097902\n",
            "\n",
            "smenn\n"
          ]
        },
        {
          "output_type": "stream",
          "name": "stderr",
          "text": [
            "/usr/local/lib/python3.10/dist-packages/imblearn/over_sampling/_smote/base.py:336: FutureWarning: The parameter `n_jobs` has been deprecated in 0.10 and will be removed in 0.12. You can pass an nearest neighbors estimator where `n_jobs` is already set instead.\n",
            "  warnings.warn(\n"
          ]
        },
        {
          "output_type": "stream",
          "name": "stdout",
          "text": [
            "Train set\n",
            "Random Forests roc-auc: 0.9357814462290964\n",
            "Test set\n",
            "Random Forests roc-auc: 0.8059829059829059\n",
            "\n",
            "bagging\n",
            "Train set\n",
            "ensemble roc-auc: 0.9460704607046071\n",
            "Test set\n",
            "ensemble roc-auc: 0.9041181041181042\n",
            "\n",
            "balancedRF\n",
            "Train set\n",
            "ensemble roc-auc: 0.9482342479674797\n",
            "Test set\n",
            "ensemble roc-auc: 0.8654234654234654\n",
            "\n",
            "balancedbagging\n"
          ]
        },
        {
          "output_type": "stream",
          "name": "stderr",
          "text": [
            "/usr/local/lib/python3.10/dist-packages/imblearn/ensemble/_bagging.py:353: FutureWarning: `base_estimator` was renamed to `estimator` in version 0.10 and will be removed in 0.12.\n",
            "  warnings.warn(\n"
          ]
        },
        {
          "output_type": "stream",
          "name": "stdout",
          "text": [
            "Train set\n",
            "ensemble roc-auc: 0.928539972899729\n",
            "Test set\n",
            "ensemble roc-auc: 0.8890442890442891\n",
            "\n",
            "rusboost\n",
            "Train set\n",
            "ensemble roc-auc: 0.952074864498645\n",
            "Test set\n",
            "ensemble roc-auc: 0.8449106449106448\n",
            "\n",
            "easyEnsemble\n",
            "Train set\n",
            "ensemble roc-auc: 0.9855098238482385\n",
            "Test set\n",
            "ensemble roc-auc: 0.8937062937062937\n",
            "\n"
          ]
        }
      ],
      "source": [
        "# to save the results\n",
        "results_dict = {}\n",
        "\n",
        "for dataset in datasets_ls:\n",
        "\n",
        "    results_dict[dataset] = {}\n",
        "    print(dataset)\n",
        "\n",
        "    # load dataset\n",
        "    data = fetch_datasets()[dataset]\n",
        "    X = data.data\n",
        "    y = data.target\n",
        "\n",
        "    # convert -1 to 0, so that it can work with xgboost\n",
        "\n",
        "    my_dict = {-1:0, 1:1}\n",
        "    y = np.vectorize(my_dict.get)(y)\n",
        "\n",
        "    # separate train and test\n",
        "    X_train, X_test, y_train, y_test = train_test_split(X, y,\n",
        "                                                        test_size=0.2,random_state=0)\n",
        "\n",
        "    # we set variables in the same scale as many re-sampling techniques use KNN\n",
        "    scaler = MinMaxScaler().fit(X_train)\n",
        "    X_train = scaler.transform(X_train)\n",
        "    X_test = scaler.transform(X_test)\n",
        "\n",
        "    # train model and store result\n",
        "    roc = run_randomForests(X_train, X_test, y_train, y_test)\n",
        "    results_dict[dataset]['full_data'] = roc\n",
        "    print()\n",
        "\n",
        "    # train model and store result\n",
        "    roc = run_adaboost(X_train, X_test, y_train, y_test)\n",
        "    results_dict[dataset]['full_data_adaboost'] = roc\n",
        "    print()\n",
        "\n",
        "    roc = run_xgboost(X_train, X_test, y_train, y_test)\n",
        "    results_dict[dataset]['full_data_xgboost'] = roc\n",
        "    print()\n",
        "\n",
        "    for sampler in resampling_dict.keys():\n",
        "\n",
        "        print(sampler)\n",
        "\n",
        "        # resample\n",
        "        X_resampled, y_resampled = resampling_dict[sampler].fit_resample(X_train, y_train)\n",
        "\n",
        "        # train model and store result\n",
        "        roc = run_randomForests(X_resampled, X_test, y_resampled, y_test)\n",
        "        results_dict[dataset][sampler] = roc\n",
        "        print()\n",
        "\n",
        "    for ensemble in ensemble_dict.keys():\n",
        "\n",
        "        print(ensemble)\n",
        "\n",
        "        # train model and store result\n",
        "        roc = run_ensemble(ensemble_dict[ensemble], X_train, X_test, y_train, y_test)\n",
        "        results_dict[dataset][ensemble] = roc\n",
        "        print()\n",
        ""
      ]
    },
    {
      "cell_type": "code",
      "execution_count": 13,
      "metadata": {
        "id": "eTBuGuXCwT-f",
        "colab": {
          "base_uri": "https://localhost:8080/",
          "height": 1000
        },
        "outputId": "2aa60b5b-bf38-453e-a175-e83a29b8d69c"
      },
      "outputs": [
        {
          "output_type": "display_data",
          "data": {
            "text/plain": [
              "<Figure size 640x480 with 1 Axes>"
            ],
            "image/png": "[encoded data removed]"
          },
          "metadata": {}
        },
        {
          "output_type": "display_data",
          "data": {
            "text/plain": [
              "<Figure size 640x480 with 1 Axes>"
            ],
            "image/png": "[encoded data removed]"
          },
          "metadata": {}
        },
        {
          "output_type": "display_data",
          "data": {
            "text/plain": [
              "<Figure size 640x480 with 1 Axes>"
            ],
            "image/png": "[encoded data removed]"
          },
          "metadata": {}
        },
        {
          "output_type": "display_data",
          "data": {
            "text/plain": [
              "<Figure size 640x480 with 1 Axes>"
            ],
            "image/png": "[encoded data removed]"
          },
          "metadata": {}
        },
        {
          "output_type": "display_data",
          "data": {
            "text/plain": [
              "<Figure size 640x480 with 1 Axes>"
            ],
            "image/png": "[encoded data removed]"
          },
          "metadata": {}
        }
      ],
      "source": [
        "for dataset in datasets_ls:\n",
        "\n",
        "    pd.Series(results_dict[dataset]).plot.bar()\n",
        "    plt.title(dataset)\n",
        "    plt.ylabel('roc-auc')\n",
        "    plt.ylim(0.7, 1)\n",
        "    plt.axhline(results_dict[dataset]['full_data'], color='r')\n",
        "    plt.show()"
      ]
    },
    {
      "cell_type": "markdown",
      "metadata": {
        "id": "E6oi3J1bwT-f"
      },
      "source": [
        "We see that boosting algorithms tend to outperform bagging algorithms. And adding resampling to bagging improves performance, in general, quite a bit.\n",
        "\n",
        "We also see that in some cases, boosting alone outperforms resampling techniques.\n",
        "\n",
        "Different methods has different performance on different datasets. There is no a single method that is best for all datasets.\n"
      ]
    }
  ],
  "metadata": {
    "kernelspec": {
      "display_name": "Python 3",
      "language": "python",
      "name": "python3"
    },
    "language_info": {
      "codemirror_mode": {
        "name": "ipython",
        "version": 3
      },
      "file_extension": ".py",
      "mimetype": "text/x-python",
      "name": "python",
      "nbconvert_exporter": "python",
      "pygments_lexer": "ipython3",
      "version": "3.7.10"
    },
    "toc": {
      "base_numbering": 1,
      "nav_menu": {},
      "number_sections": true,
      "sideBar": true,
      "skip_h1_title": false,
      "title_cell": "Table of Contents",
      "title_sidebar": "Contents",
      "toc_cell": false,
      "toc_position": {},
      "toc_section_display": true,
      "toc_window_display": false
    },
    "colab": {
      "provenance": []
    }
  },
  "nbformat": 4,
  "nbformat_minor": 0
}