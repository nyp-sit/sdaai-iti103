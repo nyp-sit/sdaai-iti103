{
  "nbformat": 4,
  "nbformat_minor": 0,
  "metadata": {
    "colab": {
      "name": "Machine Learning Process 2021S1.ipynb",
      "provenance": [],
      "collapsed_sections": [],
      "include_colab_link": true
    },
    "kernelspec": {
      "display_name": "Python 3",
      "language": "python",
      "name": "python3"
    },
    "language_info": {
      "codemirror_mode": {
        "name": "ipython",
        "version": 3
      },
      "file_extension": ".py",
      "mimetype": "text/x-python",
      "name": "python",
      "nbconvert_exporter": "python",
      "pygments_lexer": "ipython3",
      "version": "3.7.6"
    }
  },
  "cells": [
    {
      "cell_type": "markdown",
      "metadata": {
        "id": "view-in-github",
        "colab_type": "text"
      },
      "source": [
        "<a href=\"https://colab.research.google.com/github/nyp-sit/sdaai-iti103/blob/master/session_3/Machine_Learning_Process_2021S1.ipynb\" target=\"_parent\"><img src=\"https://colab.research.google.com/assets/colab-badge.svg\" alt=\"Open In Colab\"/></a>"
      ]
    },
    {
      "cell_type": "markdown",
      "metadata": {
        "id": "mlcN8ctTgVbP"
      },
      "source": [
        "# Practical: Quick Run through ML using Scikit-Learn\n",
        "\n",
        "In this lab, you will be using the Califironia housing Prices dataset to predict the housing price in California.\n",
        "\n",
        "At the end of the session, you will learn how to:\n",
        "\n",
        "\n",
        "1.   Perform exploratary data analysis\n",
        "2.   Perform data preparation\n",
        "3.   Train and validate model\n",
        "4.   Fine Tune Model\n",
        "5.   Evaluate System on Test Set\n",
        "\n",
        "\n",
        "\n"
      ]
    },
    {
      "cell_type": "markdown",
      "metadata": {
        "id": "eUd852Bs29m6"
      },
      "source": [
        "## Import required libraries"
      ]
    },
    {
      "cell_type": "code",
      "metadata": {
        "id": "Y5T_7DFP2yxx"
      },
      "source": [
        "import pandas as pd\n",
        "import matplotlib.pyplot as plt\n",
        "import numpy as np\n",
        "from sklearn.model_selection import StratifiedShuffleSplit, train_test_split"
      ],
      "execution_count": null,
      "outputs": []
    },
    {
      "cell_type": "markdown",
      "metadata": {
        "id": "KNk6srtW3swN"
      },
      "source": [
        "## Getting the data\n",
        "\n",
        "We will be using the California housing Prices dataset.  This dataset was based on data from the 1990 California census.  \n",
        "\n",
        "https://raw.githubusercontent.com/ageron/handson-ml/master/datasets/housing/housing.csv \n",
        "\n"
      ]
    },
    {
      "cell_type": "code",
      "metadata": {
        "id": "TeQwwacq2nLf"
      },
      "source": [
        "import pandas as pd\n",
        "url = 'https://raw.githubusercontent.com/ageron/handson-ml/master/datasets/housing/housing.csv'\n",
        "\n",
        "# we can directly fetch the data and convert the csv into a pandas dataframe using the following:\n",
        "df = pd.read_csv(url)"
      ],
      "execution_count": null,
      "outputs": []
    },
    {
      "cell_type": "markdown",
      "metadata": {
        "id": "GzNmjWJsib_P"
      },
      "source": [
        "## Exploratary Data Analysis\n",
        "\n",
        "As in all Machine Learning project, understanding your data and doing some exploratory data analysis is one of the essential tasks.\n",
        "\n",
        "**Exercise 1**\n",
        "\n",
        "Answer the following by completing the code cell below: \n",
        "\n",
        "*   What many records (samples) do we have? (Hint: shape)\n",
        "*   What are the different features we have?  (Hint: describe() method)\n",
        "*   Are there any missing values? (Hint: info() method)\n",
        "\n",
        "<details><summary>Click here for answer</summary>\n",
        "\n",
        "```\n",
        "print('>>> Check the sample size:')\n",
        "print(df.shape)\n",
        "print('>>> Check for the features: ')\n",
        "print(df.describe())\n",
        "print('>>> Check for missing values')\n",
        "print(df.info())\n",
        "```\n",
        "\n",
        "</details>\n"
      ]
    },
    {
      "cell_type": "code",
      "metadata": {
        "id": "xWU_gij3yrfJ",
        "colab": {
          "base_uri": "https://localhost:8080/"
        },
        "outputId": "004b6bbf-8952-4ec3-ebfb-a68815625699"
      },
      "source": [
        "print('>>> Check the sample size:')\n",
        "# use shape\n",
        "print(df.shape)\n",
        "print('>>> Check for the features: ')\n",
        "# use describe\n",
        "print(df.describe())\n",
        "print('>>> Check for missing values')\n",
        "# use info\n",
        "print('>>> Check the sample size:')\n",
        "print(df.info())"
      ],
      "execution_count": null,
      "outputs": [
        {
          "output_type": "stream",
          "text": [
            ">>> Check the sample size:\n",
            "(20640, 10)\n",
            ">>> Check for the features: \n",
            "          longitude      latitude  ...  median_income  median_house_value\n",
            "count  20640.000000  20640.000000  ...   20640.000000        20640.000000\n",
            "mean    -119.569704     35.631861  ...       3.870671       206855.816909\n",
            "std        2.003532      2.135952  ...       1.899822       115395.615874\n",
            "min     -124.350000     32.540000  ...       0.499900        14999.000000\n",
            "25%     -121.800000     33.930000  ...       2.563400       119600.000000\n",
            "50%     -118.490000     34.260000  ...       3.534800       179700.000000\n",
            "75%     -118.010000     37.710000  ...       4.743250       264725.000000\n",
            "max     -114.310000     41.950000  ...      15.000100       500001.000000\n",
            "\n",
            "[8 rows x 9 columns]\n",
            ">>> Check for missing values\n",
            ">>> Check the sample size:\n",
            "<class 'pandas.core.frame.DataFrame'>\n",
            "RangeIndex: 20640 entries, 0 to 20639\n",
            "Data columns (total 10 columns):\n",
            " #   Column              Non-Null Count  Dtype  \n",
            "---  ------              --------------  -----  \n",
            " 0   longitude           20640 non-null  float64\n",
            " 1   latitude            20640 non-null  float64\n",
            " 2   housing_median_age  20640 non-null  float64\n",
            " 3   total_rooms         20640 non-null  float64\n",
            " 4   total_bedrooms      20433 non-null  float64\n",
            " 5   population          20640 non-null  float64\n",
            " 6   households          20640 non-null  float64\n",
            " 7   median_income       20640 non-null  float64\n",
            " 8   median_house_value  20640 non-null  float64\n",
            " 9   ocean_proximity     20640 non-null  object \n",
            "dtypes: float64(9), object(1)\n",
            "memory usage: 1.6+ MB\n",
            "None\n"
          ],
          "name": "stdout"
        }
      ]
    },
    {
      "cell_type": "markdown",
      "metadata": {
        "id": "WYnOhQpIAORC"
      },
      "source": [
        "Before we proceed with more data exploration, it is often a good practice for us to first set aside a part of data as dataset as test set, so as to prevent us from snooping information/pattern from the test set and 'overfit' ourselves (and eventually our model) to the test set.\n",
        "\n",
        "We can either random shuffle the data and split them into train/test split using scikit learn's train_test_split() method, e.g. \n",
        "\n",
        "```\n",
        "train_set, test_set = train_test_split(df, 0.2)\n",
        "print(len(train_set), 'train', len(test_set), 'test')\n",
        "```\n",
        "\n",
        "This is\n",
        "generally fine if your dataset is large enough (especially relative to the\n",
        "number of attributes), but if it is not, you run the risk of introducing a\n",
        "significant sampling bias.  Your train set may not have a representative distribution as your eventual test set or real-world data. \n",
        "\n",
        "If based on the domain experts inputs, who feel that income distribution is a key for good prediction, we want to make sure our train and test set has the same income distribution. So we may want to split in such a way that train/test set has same distribution of income categories, e.g. This can be done by stratified sampling.\n",
        "\n",
        "Before that let's take a closer look at the income distribution using histogram\n"
      ]
    },
    {
      "cell_type": "code",
      "metadata": {
        "id": "GPomfmUbD03_",
        "colab": {
          "base_uri": "https://localhost:8080/",
          "height": 353
        },
        "outputId": "ca6f4be7-1911-4502-dfae-f19ee56ad3d1"
      },
      "source": [
        "plt.hist(df.median_income)"
      ],
      "execution_count": null,
      "outputs": [
        {
          "output_type": "execute_result",
          "data": {
            "text/plain": [
              "(array([2247., 7436., 6098., 2990., 1060.,  428.,  178.,   93.,   47.,\n",
              "          63.]),\n",
              " array([ 0.4999 ,  1.94992,  3.39994,  4.84996,  6.29998,  7.75   ,\n",
              "         9.20002, 10.65004, 12.10006, 13.55008, 15.0001 ]),\n",
              " <a list of 10 Patch objects>)"
            ]
          },
          "metadata": {
            "tags": []
          },
          "execution_count": 4
        },
        {
          "output_type": "display_data",
          "data": {
            "image/png": "[encoded data removed]",
            "text/plain": [
              "<Figure size 432x288 with 1 Axes>"
            ]
          },
          "metadata": {
            "tags": [],
            "needs_background": "light"
          }
        }
      ]
    },
    {
      "cell_type": "markdown",
      "metadata": {
        "id": "D9xQoAieEXXU"
      },
      "source": [
        "most median\n",
        "income values are clustered around 1.5 to 6 (i.e., $15,000–$60,000), but some\n",
        "median incomes go far beyond 6. It is important to have a sufficient number\n",
        "of instances in your dataset for each stratum, or else the estimate of a\n",
        "stratum’s importance may be biased. This means that you should not have too\n",
        "many strata, and each stratum should be large enough. \n",
        "\n",
        "We can use the pd.cut() to bin the median income into 5 categories (e.g. 0 to 1.5 is cat 1, 1.5 to 3.0 is cat 2, 3.0 to 4.5 is cat 3, 4.5 to 6 is cat 4, and 6 to infinity is cat 5)."
      ]
    },
    {
      "cell_type": "markdown",
      "metadata": {
        "id": "7LcggVHYU3YB"
      },
      "source": [
        "### Using Stratified Sampling \n",
        "\n",
        "Stratified random sampling is a method of sampling that involves the division of a population into smaller sub-groups known as strata. In stratified random sampling, the strata are formed based on members' shared attributes or characteristics such as income or educational attainment.  The following source shows you how you could use Stratified Sampling to split the data into training and testing set. We use the pd.cut() to bin the median income into 5 categories (e.g. 0 to 1.5 is cat 1, 1.5 to 3.0 is cat 2, 3.0 to 4.5 is cat 3, 4.5 to 6 is cat 4, and 6 to infinity is cat 5)."
      ]
    },
    {
      "cell_type": "code",
      "metadata": {
        "id": "5VPh_Rs2VAOP",
        "colab": {
          "base_uri": "https://localhost:8080/"
        },
        "outputId": "cf4f04a2-ded3-43c6-f199-a0c14c2be014"
      },
      "source": [
        "from sklearn.model_selection import StratifiedShuffleSplit, train_test_split\n",
        "\n",
        "df[\"income_cat\"] = pd.cut(df[\"median_income\"],\n",
        "                               bins=[0., 1.5, 3.0, 4.5, 6., np.inf],\n",
        "                               labels=[1, 2, 3, 4, 5])\n",
        "df.income_cat.value_counts().sort_index()\n"
      ],
      "execution_count": null,
      "outputs": [
        {
          "output_type": "execute_result",
          "data": {
            "text/plain": [
              "1     822\n",
              "2    6581\n",
              "3    7236\n",
              "4    3639\n",
              "5    2362\n",
              "Name: income_cat, dtype: int64"
            ]
          },
          "metadata": {
            "tags": []
          },
          "execution_count": 5
        }
      ]
    },
    {
      "cell_type": "code",
      "metadata": {
        "id": "u48aZBp-FIN8"
      },
      "source": [
        ""
      ],
      "execution_count": null,
      "outputs": []
    },
    {
      "cell_type": "markdown",
      "metadata": {
        "id": "8DHJqBHLFKA_"
      },
      "source": [
        "**Exercise** \n",
        "\n",
        "Now split the data again but using stratified smapling based on the new feature column ['income_cat']"
      ]
    },
    {
      "cell_type": "code",
      "metadata": {
        "id": "teg9milD2Qdc"
      },
      "source": [
        "from sklearn.model_selection import train_test_split\n",
        "\n",
        "strat_train_set, strat_test_set = train_test_split(df, shuffle=True, stratify=df['income_cat'])"
      ],
      "execution_count": null,
      "outputs": []
    },
    {
      "cell_type": "markdown",
      "metadata": {
        "id": "1B2imo9FZouN"
      },
      "source": [
        "Measure the income category proportions in the test set generated with random sampling and stratified sampling.  The test set generated using stratified sampling has income category proportions almost identical to those in the full dataset, whereas the test set generated using purely random sampling is quite skewed."
      ]
    },
    {
      "cell_type": "code",
      "metadata": {
        "id": "rAmYzNZcrV-z",
        "colab": {
          "base_uri": "https://localhost:8080/",
          "height": 197
        },
        "outputId": "b6f446df-47fe-4ce6-c62a-d28584b080b1"
      },
      "source": [
        "def income_cat_props(data):\n",
        "  return data['income_cat'].value_counts()/len(data)\n",
        "\n",
        "train_set, test_set = train_test_split(df, test_size=0.2, random_state=42)\n",
        "\n",
        "compare_props = pd.DataFrame({\n",
        "    'Overall': income_cat_props(df),\n",
        "    'Stratified': income_cat_props(strat_test_set),\n",
        "    'Random': income_cat_props(test_set)\n",
        "}).sort_index()\n",
        "\n",
        "compare_props['Rand. %error'] = 100 * compare_props['Random'] / compare_props['Overall'] - 100\n",
        "compare_props['Strat. %error'] = 100 * compare_props['Stratified'] / compare_props['Overall'] - 100\n",
        "\n",
        "compare_props"
      ],
      "execution_count": null,
      "outputs": [
        {
          "output_type": "execute_result",
          "data": {
            "text/html": [
              "<div>\n",
              "<style scoped>\n",
              "    .dataframe tbody tr th:only-of-type {\n",
              "        vertical-align: middle;\n",
              "    }\n",
              "\n",
              "    .dataframe tbody tr th {\n",
              "        vertical-align: top;\n",
              "    }\n",
              "\n",
              "    .dataframe thead th {\n",
              "        text-align: right;\n",
              "    }\n",
              "</style>\n",
              "<table border=\"1\" class=\"dataframe\">\n",
              "  <thead>\n",
              "    <tr style=\"text-align: right;\">\n",
              "      <th></th>\n",
              "      <th>Overall</th>\n",
              "      <th>Stratified</th>\n",
              "      <th>Random</th>\n",
              "      <th>Rand. %error</th>\n",
              "      <th>Strat. %error</th>\n",
              "    </tr>\n",
              "  </thead>\n",
              "  <tbody>\n",
              "    <tr>\n",
              "      <th>1</th>\n",
              "      <td>0.039826</td>\n",
              "      <td>0.039729</td>\n",
              "      <td>0.040213</td>\n",
              "      <td>0.973236</td>\n",
              "      <td>-0.243309</td>\n",
              "    </tr>\n",
              "    <tr>\n",
              "      <th>2</th>\n",
              "      <td>0.318847</td>\n",
              "      <td>0.318798</td>\n",
              "      <td>0.324370</td>\n",
              "      <td>1.732260</td>\n",
              "      <td>-0.015195</td>\n",
              "    </tr>\n",
              "    <tr>\n",
              "      <th>3</th>\n",
              "      <td>0.350581</td>\n",
              "      <td>0.350581</td>\n",
              "      <td>0.358527</td>\n",
              "      <td>2.266446</td>\n",
              "      <td>0.000000</td>\n",
              "    </tr>\n",
              "    <tr>\n",
              "      <th>4</th>\n",
              "      <td>0.176308</td>\n",
              "      <td>0.176357</td>\n",
              "      <td>0.167393</td>\n",
              "      <td>-5.056334</td>\n",
              "      <td>0.027480</td>\n",
              "    </tr>\n",
              "    <tr>\n",
              "      <th>5</th>\n",
              "      <td>0.114438</td>\n",
              "      <td>0.114535</td>\n",
              "      <td>0.109496</td>\n",
              "      <td>-4.318374</td>\n",
              "      <td>0.084674</td>\n",
              "    </tr>\n",
              "  </tbody>\n",
              "</table>\n",
              "</div>"
            ],
            "text/plain": [
              "    Overall  Stratified    Random  Rand. %error  Strat. %error\n",
              "1  0.039826    0.039729  0.040213      0.973236      -0.243309\n",
              "2  0.318847    0.318798  0.324370      1.732260      -0.015195\n",
              "3  0.350581    0.350581  0.358527      2.266446       0.000000\n",
              "4  0.176308    0.176357  0.167393     -5.056334       0.027480\n",
              "5  0.114438    0.114535  0.109496     -4.318374       0.084674"
            ]
          },
          "metadata": {
            "tags": []
          },
          "execution_count": 7
        }
      ]
    },
    {
      "cell_type": "markdown",
      "metadata": {
        "id": "cor4QuVt01wu"
      },
      "source": [
        "Q2. Creates a histogram and inspect the attributes distribution to look for insights\n",
        "\n"
      ]
    },
    {
      "cell_type": "code",
      "metadata": {
        "id": "a1Xy59zyyqcP"
      },
      "source": [
        "import matplotlib.pyplot as plt\n",
        "# Creates a histogram"
      ],
      "execution_count": null,
      "outputs": []
    },
    {
      "cell_type": "code",
      "metadata": {
        "cellView": "form",
        "id": "ywG7VZISkuG7",
        "colab": {
          "base_uri": "https://localhost:8080/",
          "height": 878
        },
        "outputId": "f8ccc5fe-5e49-4deb-99ec-1484055496ce"
      },
      "source": [
        "#@title\n",
        "import matplotlib.pyplot as plt\n",
        "df.hist(bins=50, figsize=(20,15))\n",
        "plt.show()"
      ],
      "execution_count": null,
      "outputs": [
        {
          "output_type": "display_data",
          "data": {
            "image/png": "[encoded data removed]",
            "text/plain": [
              "<Figure size 1440x1080 with 9 Axes>"
            ]
          },
          "metadata": {
            "tags": [],
            "needs_background": "light"
          }
        }
      ]
    },
    {
      "cell_type": "code",
      "metadata": {
        "id": "gLxWrsW2IoaG"
      },
      "source": [
        "import numpy as np\n",
        "# random sampling, 80/20 split\n"
      ],
      "execution_count": null,
      "outputs": []
    },
    {
      "cell_type": "code",
      "metadata": {
        "cellView": "form",
        "id": "-DUvCrLUzIA-",
        "colab": {
          "base_uri": "https://localhost:8080/"
        },
        "outputId": "c89b6d1f-9387-49f3-cd62-3706bf662d61"
      },
      "source": [
        "#@title\n",
        "import numpy as np\n",
        "def split_train_test(data, test_ratio):\n",
        "  shuffled_indices = np.random.permutation(len(data))\n",
        "  test_set_size = int(len(data) * test_ratio)\n",
        "  test_indices = shuffled_indices[:test_set_size]\n",
        "  train_indices = shuffled_indices[test_set_size:]\n",
        "  return data.iloc[train_indices], data.iloc[test_indices]\n",
        "\n",
        "train_set, test_set = split_train_test(df, 0.2)\n",
        "print(len(train_set), 'train', len(test_set), 'test')"
      ],
      "execution_count": null,
      "outputs": [
        {
          "output_type": "stream",
          "text": [
            "16512 train 4128 test\n"
          ],
          "name": "stdout"
        }
      ]
    },
    {
      "cell_type": "markdown",
      "metadata": {
        "id": "AazWTvU7UxLw"
      },
      "source": [
        "## Discover and Visualize the Data to Gain Insights"
      ]
    },
    {
      "cell_type": "markdown",
      "metadata": {
        "id": "Tv6HI_TL0gjW"
      },
      "source": [
        "Q4. We shall discover and visualize the Data to gain more insights.   Let's create a copy of the housing data so that we can experiment with it without affecting the training set.  Use the copy method to create a new copy of the stratified training data set and creates a scatter plot of all the districts to visualize poppulation density with respect to the longitude and latitude data."
      ]
    },
    {
      "cell_type": "code",
      "metadata": {
        "id": "86ea5QL6XpnE"
      },
      "source": [
        "# scatter plot of all districts"
      ],
      "execution_count": null,
      "outputs": []
    },
    {
      "cell_type": "code",
      "metadata": {
        "cellView": "form",
        "id": "9a5kwNDuvcp3",
        "colab": {
          "base_uri": "https://localhost:8080/",
          "height": 296
        },
        "outputId": "71874d7b-eb8e-4c1c-d212-247dedd85b3e"
      },
      "source": [
        "#@title\n",
        "housing = strat_train_set.copy()\n",
        "housing.plot(kind='scatter',  x='longitude', y='latitude', alpha=0.1)"
      ],
      "execution_count": null,
      "outputs": [
        {
          "output_type": "execute_result",
          "data": {
            "text/plain": [
              "<matplotlib.axes._subplots.AxesSubplot at 0x7efcb152b490>"
            ]
          },
          "metadata": {
            "tags": []
          },
          "execution_count": 13
        },
        {
          "output_type": "display_data",
          "data": {
            "image/png": "[encoded data removed]",
            "text/plain": [
              "<Figure size 432x288 with 1 Axes>"
            ]
          },
          "metadata": {
            "tags": [],
            "needs_background": "light"
          }
        }
      ]
    },
    {
      "cell_type": "markdown",
      "metadata": {
        "id": "Y5ALI2ccPFFL"
      },
      "source": [
        "In this scatter plot, we examine the housing prices with the radius of each circle representing the district's poulation (option s) and the color represents the price (option c).  The predefined color map (option cmap) called jet, ranges from blue for low values to red for high values."
      ]
    },
    {
      "cell_type": "code",
      "metadata": {
        "id": "mNsB3-KRX-YA"
      },
      "source": [
        "# scatter plot with color map"
      ],
      "execution_count": null,
      "outputs": []
    },
    {
      "cell_type": "code",
      "metadata": {
        "cellView": "form",
        "id": "w-HA5Zd40cJt",
        "colab": {
          "base_uri": "https://localhost:8080/",
          "height": 273
        },
        "outputId": "22f019c4-b45b-4dff-a9ba-bef00c4e8e3e"
      },
      "source": [
        "#@title\n",
        "import matplotlib.pyplot as plt\n",
        "housing.plot(kind='scatter', x='longitude', y='latitude', alpha=0.4,\n",
        "             s=housing['population'] / 100, label='population',\n",
        "             c='median_house_value', cmap=plt.get_cmap('jet'), colorbar=True)\n",
        "plt.legend()\n"
      ],
      "execution_count": null,
      "outputs": [
        {
          "output_type": "execute_result",
          "data": {
            "text/plain": [
              "<matplotlib.legend.Legend at 0x7efcb154d450>"
            ]
          },
          "metadata": {
            "tags": []
          },
          "execution_count": 15
        },
        {
          "output_type": "display_data",
          "data": {
            "image/png": "[encoded data removed]",
            "text/plain": [
              "<Figure size 432x288 with 2 Axes>"
            ]
          },
          "metadata": {
            "tags": [],
            "needs_background": "light"
          }
        }
      ]
    },
    {
      "cell_type": "markdown",
      "metadata": {
        "id": "slBdVYQRY8CZ"
      },
      "source": [
        "### Looking for Correlations\n",
        "\n",
        "Q5.  Compute the standard correlation coefficient between every pair of attributes using the corr() method, and examine how much each attribute with the median house value"
      ]
    },
    {
      "cell_type": "code",
      "metadata": {
        "id": "92ZPpJGJYR-T"
      },
      "source": [
        "# compute the standard correlation coefficient\n"
      ],
      "execution_count": null,
      "outputs": []
    },
    {
      "cell_type": "code",
      "metadata": {
        "cellView": "form",
        "id": "bBECn0Eb2Mpn",
        "colab": {
          "base_uri": "https://localhost:8080/"
        },
        "outputId": "3a310a97-7de0-4ca8-c497-4bacd9b5d654"
      },
      "source": [
        "#@title\n",
        "corr_matrix = housing.corr()\n",
        "corr_matrix['median_house_value'].sort_values(ascending=False)"
      ],
      "execution_count": null,
      "outputs": [
        {
          "output_type": "execute_result",
          "data": {
            "text/plain": [
              "median_house_value    1.000000\n",
              "median_income         0.691794\n",
              "total_rooms           0.131491\n",
              "housing_median_age    0.100687\n",
              "households            0.059643\n",
              "total_bedrooms        0.043495\n",
              "population           -0.028225\n",
              "longitude            -0.047290\n",
              "latitude             -0.142351\n",
              "Name: median_house_value, dtype: float64"
            ]
          },
          "metadata": {
            "tags": []
          },
          "execution_count": 17
        }
      ]
    },
    {
      "cell_type": "markdown",
      "metadata": {
        "id": "RDmlOm_ZZhoN"
      },
      "source": [
        "Another way to check for correlation between attributes is to use scatter_matrix function which plots every numerical attribute against every other numerical attribute.  The most promising attribute the predict the median house value seems to be the median income.  "
      ]
    },
    {
      "cell_type": "code",
      "metadata": {
        "id": "eFZGa130YnJd"
      },
      "source": [
        "# scatter matrix\n"
      ],
      "execution_count": null,
      "outputs": []
    },
    {
      "cell_type": "code",
      "metadata": {
        "cellView": "form",
        "id": "aMcC1Yhd261q",
        "colab": {
          "base_uri": "https://localhost:8080/",
          "height": 820
        },
        "outputId": "cf07c8fd-8936-4ed7-f5f8-f3e79e89d4d3"
      },
      "source": [
        "#@title\n",
        "from pandas.plotting import scatter_matrix\n",
        "\n",
        "attributes = ['median_house_value', 'median_income', 'total_rooms', 'housing_median_age']\n",
        "scatter_matrix(housing[attributes], figsize=(12,8))"
      ],
      "execution_count": null,
      "outputs": [
        {
          "output_type": "execute_result",
          "data": {
            "text/plain": [
              "array([[<matplotlib.axes._subplots.AxesSubplot object at 0x7efcb132d910>,\n",
              "        <matplotlib.axes._subplots.AxesSubplot object at 0x7efcb1430650>,\n",
              "        <matplotlib.axes._subplots.AxesSubplot object at 0x7efcb145fbd0>,\n",
              "        <matplotlib.axes._subplots.AxesSubplot object at 0x7efcb1421190>],\n",
              "       [<matplotlib.axes._subplots.AxesSubplot object at 0x7efcb13d8710>,\n",
              "        <matplotlib.axes._subplots.AxesSubplot object at 0x7efcb138dc90>,\n",
              "        <matplotlib.axes._subplots.AxesSubplot object at 0x7efcafb0c2d0>,\n",
              "        <matplotlib.axes._subplots.AxesSubplot object at 0x7efcafac1790>],\n",
              "       [<matplotlib.axes._subplots.AxesSubplot object at 0x7efcafac17d0>,\n",
              "        <matplotlib.axes._subplots.AxesSubplot object at 0x7efcafa75e50>,\n",
              "        <matplotlib.axes._subplots.AxesSubplot object at 0x7efcaf9edc90>,\n",
              "        <matplotlib.axes._subplots.AxesSubplot object at 0x7efcb152bc10>],\n",
              "       [<matplotlib.axes._subplots.AxesSubplot object at 0x7efcb1565ed0>,\n",
              "        <matplotlib.axes._subplots.AxesSubplot object at 0x7efcb157bbd0>,\n",
              "        <matplotlib.axes._subplots.AxesSubplot object at 0x7efcc8286290>,\n",
              "        <matplotlib.axes._subplots.AxesSubplot object at 0x7efcb1594090>]],\n",
              "      dtype=object)"
            ]
          },
          "metadata": {
            "tags": []
          },
          "execution_count": 19
        },
        {
          "output_type": "display_data",
          "data": {
            "image/png": "[encoded data removed]",
            "text/plain": [
              "<Figure size 864x576 with 16 Axes>"
            ]
          },
          "metadata": {
            "tags": [],
            "needs_background": "light"
          }
        }
      ]
    },
    {
      "cell_type": "markdown",
      "metadata": {
        "id": "yjWe62VAb6vG"
      },
      "source": [
        "Q6.  Creates the scatter plot to show the  correlation of medina_income and median_housing_value, ane examine the visualisation."
      ]
    },
    {
      "cell_type": "code",
      "metadata": {
        "id": "oL6ivLnQY5v8"
      },
      "source": [
        "# scatter plot\n"
      ],
      "execution_count": null,
      "outputs": []
    },
    {
      "cell_type": "code",
      "metadata": {
        "cellView": "form",
        "id": "dtqUFuB_4n8Q",
        "colab": {
          "base_uri": "https://localhost:8080/",
          "height": 297
        },
        "outputId": "a1de857b-8152-4355-85dc-7f82dd80e314"
      },
      "source": [
        "#@title\n",
        "housing.plot(kind='scatter', x='median_income', y='median_house_value', alpha=0.1)"
      ],
      "execution_count": null,
      "outputs": [
        {
          "output_type": "execute_result",
          "data": {
            "text/plain": [
              "<matplotlib.axes._subplots.AxesSubplot at 0x7efcb16af190>"
            ]
          },
          "metadata": {
            "tags": []
          },
          "execution_count": 21
        },
        {
          "output_type": "display_data",
          "data": {
            "image/png": "[encoded data removed]",
            "text/plain": [
              "<Figure size 432x288 with 1 Axes>"
            ]
          },
          "metadata": {
            "tags": [],
            "needs_background": "light"
          }
        }
      ]
    },
    {
      "cell_type": "code",
      "metadata": {
        "id": "7Fe84feS2Qdh",
        "colab": {
          "base_uri": "https://localhost:8080/",
          "height": 426
        },
        "outputId": "a95d7362-7174-4338-bcff-732f2ff8d272"
      },
      "source": [
        "housing[ (housing['median_house_value'] < 360000) & (housing['median_house_value'] > 340000) ]"
      ],
      "execution_count": null,
      "outputs": [
        {
          "output_type": "execute_result",
          "data": {
            "text/html": [
              "<div>\n",
              "<style scoped>\n",
              "    .dataframe tbody tr th:only-of-type {\n",
              "        vertical-align: middle;\n",
              "    }\n",
              "\n",
              "    .dataframe tbody tr th {\n",
              "        vertical-align: top;\n",
              "    }\n",
              "\n",
              "    .dataframe thead th {\n",
              "        text-align: right;\n",
              "    }\n",
              "</style>\n",
              "<table border=\"1\" class=\"dataframe\">\n",
              "  <thead>\n",
              "    <tr style=\"text-align: right;\">\n",
              "      <th></th>\n",
              "      <th>longitude</th>\n",
              "      <th>latitude</th>\n",
              "      <th>housing_median_age</th>\n",
              "      <th>total_rooms</th>\n",
              "      <th>total_bedrooms</th>\n",
              "      <th>population</th>\n",
              "      <th>households</th>\n",
              "      <th>median_income</th>\n",
              "      <th>median_house_value</th>\n",
              "      <th>ocean_proximity</th>\n",
              "      <th>income_cat</th>\n",
              "    </tr>\n",
              "  </thead>\n",
              "  <tbody>\n",
              "    <tr>\n",
              "      <th>16119</th>\n",
              "      <td>-122.46</td>\n",
              "      <td>37.78</td>\n",
              "      <td>52.0</td>\n",
              "      <td>2165.0</td>\n",
              "      <td>580.0</td>\n",
              "      <td>1067.0</td>\n",
              "      <td>530.0</td>\n",
              "      <td>2.9293</td>\n",
              "      <td>350000.0</td>\n",
              "      <td>NEAR BAY</td>\n",
              "      <td>2</td>\n",
              "    </tr>\n",
              "    <tr>\n",
              "      <th>4322</th>\n",
              "      <td>-118.35</td>\n",
              "      <td>34.08</td>\n",
              "      <td>52.0</td>\n",
              "      <td>2088.0</td>\n",
              "      <td>388.0</td>\n",
              "      <td>908.0</td>\n",
              "      <td>375.0</td>\n",
              "      <td>3.8141</td>\n",
              "      <td>342000.0</td>\n",
              "      <td>&lt;1H OCEAN</td>\n",
              "      <td>3</td>\n",
              "    </tr>\n",
              "    <tr>\n",
              "      <th>5452</th>\n",
              "      <td>-118.46</td>\n",
              "      <td>34.00</td>\n",
              "      <td>39.0</td>\n",
              "      <td>4098.0</td>\n",
              "      <td>1100.0</td>\n",
              "      <td>2054.0</td>\n",
              "      <td>1053.0</td>\n",
              "      <td>2.9180</td>\n",
              "      <td>345600.0</td>\n",
              "      <td>&lt;1H OCEAN</td>\n",
              "      <td>2</td>\n",
              "    </tr>\n",
              "    <tr>\n",
              "      <th>6772</th>\n",
              "      <td>-118.15</td>\n",
              "      <td>34.11</td>\n",
              "      <td>52.0</td>\n",
              "      <td>1000.0</td>\n",
              "      <td>192.0</td>\n",
              "      <td>363.0</td>\n",
              "      <td>158.0</td>\n",
              "      <td>4.2981</td>\n",
              "      <td>352800.0</td>\n",
              "      <td>&lt;1H OCEAN</td>\n",
              "      <td>3</td>\n",
              "    </tr>\n",
              "    <tr>\n",
              "      <th>1277</th>\n",
              "      <td>-121.60</td>\n",
              "      <td>37.90</td>\n",
              "      <td>5.0</td>\n",
              "      <td>14684.0</td>\n",
              "      <td>2252.0</td>\n",
              "      <td>4276.0</td>\n",
              "      <td>1722.0</td>\n",
              "      <td>6.9051</td>\n",
              "      <td>340900.0</td>\n",
              "      <td>INLAND</td>\n",
              "      <td>5</td>\n",
              "    </tr>\n",
              "    <tr>\n",
              "      <th>...</th>\n",
              "      <td>...</td>\n",
              "      <td>...</td>\n",
              "      <td>...</td>\n",
              "      <td>...</td>\n",
              "      <td>...</td>\n",
              "      <td>...</td>\n",
              "      <td>...</td>\n",
              "      <td>...</td>\n",
              "      <td>...</td>\n",
              "      <td>...</td>\n",
              "      <td>...</td>\n",
              "    </tr>\n",
              "    <tr>\n",
              "      <th>756</th>\n",
              "      <td>-122.04</td>\n",
              "      <td>37.66</td>\n",
              "      <td>23.0</td>\n",
              "      <td>2419.0</td>\n",
              "      <td>348.0</td>\n",
              "      <td>1066.0</td>\n",
              "      <td>384.0</td>\n",
              "      <td>6.3501</td>\n",
              "      <td>350000.0</td>\n",
              "      <td>NEAR BAY</td>\n",
              "      <td>5</td>\n",
              "    </tr>\n",
              "    <tr>\n",
              "      <th>803</th>\n",
              "      <td>-122.06</td>\n",
              "      <td>37.64</td>\n",
              "      <td>20.0</td>\n",
              "      <td>1655.0</td>\n",
              "      <td>450.0</td>\n",
              "      <td>857.0</td>\n",
              "      <td>430.0</td>\n",
              "      <td>3.5541</td>\n",
              "      <td>350000.0</td>\n",
              "      <td>NEAR BAY</td>\n",
              "      <td>3</td>\n",
              "    </tr>\n",
              "    <tr>\n",
              "      <th>11316</th>\n",
              "      <td>-117.97</td>\n",
              "      <td>33.77</td>\n",
              "      <td>25.0</td>\n",
              "      <td>1295.0</td>\n",
              "      <td>417.0</td>\n",
              "      <td>856.0</td>\n",
              "      <td>342.0</td>\n",
              "      <td>2.7157</td>\n",
              "      <td>350000.0</td>\n",
              "      <td>&lt;1H OCEAN</td>\n",
              "      <td>2</td>\n",
              "    </tr>\n",
              "    <tr>\n",
              "      <th>5636</th>\n",
              "      <td>-118.28</td>\n",
              "      <td>33.74</td>\n",
              "      <td>16.0</td>\n",
              "      <td>855.0</td>\n",
              "      <td>271.0</td>\n",
              "      <td>486.0</td>\n",
              "      <td>250.0</td>\n",
              "      <td>0.7591</td>\n",
              "      <td>350000.0</td>\n",
              "      <td>NEAR OCEAN</td>\n",
              "      <td>1</td>\n",
              "    </tr>\n",
              "    <tr>\n",
              "      <th>5404</th>\n",
              "      <td>-118.44</td>\n",
              "      <td>34.03</td>\n",
              "      <td>37.0</td>\n",
              "      <td>1193.0</td>\n",
              "      <td>205.0</td>\n",
              "      <td>488.0</td>\n",
              "      <td>224.0</td>\n",
              "      <td>3.6250</td>\n",
              "      <td>357600.0</td>\n",
              "      <td>&lt;1H OCEAN</td>\n",
              "      <td>3</td>\n",
              "    </tr>\n",
              "  </tbody>\n",
              "</table>\n",
              "<p>378 rows × 11 columns</p>\n",
              "</div>"
            ],
            "text/plain": [
              "       longitude  latitude  ...  ocean_proximity  income_cat\n",
              "16119    -122.46     37.78  ...         NEAR BAY           2\n",
              "4322     -118.35     34.08  ...        <1H OCEAN           3\n",
              "5452     -118.46     34.00  ...        <1H OCEAN           2\n",
              "6772     -118.15     34.11  ...        <1H OCEAN           3\n",
              "1277     -121.60     37.90  ...           INLAND           5\n",
              "...          ...       ...  ...              ...         ...\n",
              "756      -122.04     37.66  ...         NEAR BAY           5\n",
              "803      -122.06     37.64  ...         NEAR BAY           3\n",
              "11316    -117.97     33.77  ...        <1H OCEAN           2\n",
              "5636     -118.28     33.74  ...       NEAR OCEAN           1\n",
              "5404     -118.44     34.03  ...        <1H OCEAN           3\n",
              "\n",
              "[378 rows x 11 columns]"
            ]
          },
          "metadata": {
            "tags": []
          },
          "execution_count": 22
        }
      ]
    },
    {
      "cell_type": "markdown",
      "metadata": {
        "id": "9Lw6jHtJduUL"
      },
      "source": [
        "### Experimenting with Attribute Combinations\n",
        "Q7.  Try out various attribute combinations before actually preparing the data for Machine Learning.  Creates these 3 new attributes:\n",
        "\n",
        "\n",
        "*   rooms per household ( total rooms / households )\n",
        "*   bedrooms per room (total bedrooms / total rooms)\n",
        "*   population per house hold (population / households)\n",
        "\n",
        "And compute the correlation matrix again to examine the correlation between median house values and all the other attributes, including these 3 new attributes."
      ]
    },
    {
      "cell_type": "code",
      "metadata": {
        "id": "9jBryg58ZClh"
      },
      "source": [
        "# Creates new attributes and compute the correlation matrix\n",
        "\n"
      ],
      "execution_count": null,
      "outputs": []
    },
    {
      "cell_type": "code",
      "metadata": {
        "cellView": "form",
        "id": "WtW3XHnP7u0c",
        "colab": {
          "base_uri": "https://localhost:8080/"
        },
        "outputId": "22d6f559-ea81-46c0-a64a-1f0c13896ff7"
      },
      "source": [
        "#@title\n",
        "housing['rooms_per_household'] = housing['total_rooms']/housing['households']\n",
        "housing['bedrooms_per_room'] = housing['total_bedrooms']/housing['total_rooms']\n",
        "housing['population_per_household'] = housing['population']/housing['households']\n",
        "corr_matrix = housing.corr()\n",
        "corr_matrix['median_house_value'].sort_values(ascending=False)"
      ],
      "execution_count": null,
      "outputs": [
        {
          "output_type": "execute_result",
          "data": {
            "text/plain": [
              "median_house_value          1.000000\n",
              "median_income               0.691794\n",
              "rooms_per_household         0.151378\n",
              "total_rooms                 0.131491\n",
              "housing_median_age          0.100687\n",
              "households                  0.059643\n",
              "total_bedrooms              0.043495\n",
              "population_per_household   -0.021550\n",
              "population                 -0.028225\n",
              "longitude                  -0.047290\n",
              "latitude                   -0.142351\n",
              "bedrooms_per_room          -0.262853\n",
              "Name: median_house_value, dtype: float64"
            ]
          },
          "metadata": {
            "tags": []
          },
          "execution_count": 24
        }
      ]
    },
    {
      "cell_type": "markdown",
      "metadata": {
        "id": "gnTMPaRg_9Vh"
      },
      "source": [
        "## Data Cleaning\n",
        "Q8 There are some missing values within the data set for total_bedroom attribute, fix it by\n",
        "\n",
        "\n",
        "*   Get rid of the corresponding districts\n",
        "*   Get rid of the whole attribute\n",
        "*   Set the values to some value, such as zero, mean or median\n",
        "\n"
      ]
    },
    {
      "cell_type": "code",
      "metadata": {
        "id": "UqhKVK1RZTa-"
      },
      "source": [
        "# Data cleaning\n"
      ],
      "execution_count": null,
      "outputs": []
    },
    {
      "cell_type": "code",
      "metadata": {
        "cellView": "form",
        "id": "1dsdxhQUAF5F",
        "colab": {
          "base_uri": "https://localhost:8080/"
        },
        "outputId": "5f3ce643-f364-4c0f-c7f9-14556e6a7cab"
      },
      "source": [
        "#@title\n",
        "housing = strat_train_set.drop('median_house_value', axis=1)\n",
        "housing_labels=strat_train_set['median_house_value'].copy()\n",
        "# Get rid of districts with missing values\n",
        "housing.dropna(subset=['total_bedrooms'])\n",
        "# Get rid of the attribute\n",
        "housing.drop('total_bedrooms', axis = 1)\n",
        "median = housing['total_bedrooms'].median()\n",
        "# Set the missing values to median \n",
        "housing['total_bedrooms'].fillna(median)"
      ],
      "execution_count": null,
      "outputs": [
        {
          "output_type": "execute_result",
          "data": {
            "text/plain": [
              "5001      321.0\n",
              "790       245.0\n",
              "10876     355.0\n",
              "7413      570.0\n",
              "18310     533.0\n",
              "          ...  \n",
              "19140     580.0\n",
              "997       943.0\n",
              "13109     629.0\n",
              "1077     1189.0\n",
              "17548    1036.0\n",
              "Name: total_bedrooms, Length: 15480, dtype: float64"
            ]
          },
          "metadata": {
            "tags": []
          },
          "execution_count": 26
        }
      ]
    },
    {
      "cell_type": "code",
      "metadata": {
        "id": "4gk09UzdaruI",
        "colab": {
          "base_uri": "https://localhost:8080/",
          "height": 217
        },
        "outputId": "d59f09a4-5336-4635-88b5-299b0b6f7a72"
      },
      "source": [
        "sample_incomplete_rows = housing[housing.isnull().any(axis=1)].head()\n",
        "sample_incomplete_rows"
      ],
      "execution_count": null,
      "outputs": [
        {
          "output_type": "execute_result",
          "data": {
            "text/html": [
              "<div>\n",
              "<style scoped>\n",
              "    .dataframe tbody tr th:only-of-type {\n",
              "        vertical-align: middle;\n",
              "    }\n",
              "\n",
              "    .dataframe tbody tr th {\n",
              "        vertical-align: top;\n",
              "    }\n",
              "\n",
              "    .dataframe thead th {\n",
              "        text-align: right;\n",
              "    }\n",
              "</style>\n",
              "<table border=\"1\" class=\"dataframe\">\n",
              "  <thead>\n",
              "    <tr style=\"text-align: right;\">\n",
              "      <th></th>\n",
              "      <th>longitude</th>\n",
              "      <th>latitude</th>\n",
              "      <th>housing_median_age</th>\n",
              "      <th>total_rooms</th>\n",
              "      <th>total_bedrooms</th>\n",
              "      <th>population</th>\n",
              "      <th>households</th>\n",
              "      <th>median_income</th>\n",
              "      <th>ocean_proximity</th>\n",
              "      <th>income_cat</th>\n",
              "    </tr>\n",
              "  </thead>\n",
              "  <tbody>\n",
              "    <tr>\n",
              "      <th>2334</th>\n",
              "      <td>-119.69</td>\n",
              "      <td>36.83</td>\n",
              "      <td>32.0</td>\n",
              "      <td>1098.0</td>\n",
              "      <td>NaN</td>\n",
              "      <td>726.0</td>\n",
              "      <td>224.0</td>\n",
              "      <td>1.4913</td>\n",
              "      <td>INLAND</td>\n",
              "      <td>1</td>\n",
              "    </tr>\n",
              "    <tr>\n",
              "      <th>2826</th>\n",
              "      <td>-119.11</td>\n",
              "      <td>35.42</td>\n",
              "      <td>52.0</td>\n",
              "      <td>154.0</td>\n",
              "      <td>NaN</td>\n",
              "      <td>37.0</td>\n",
              "      <td>16.0</td>\n",
              "      <td>10.0263</td>\n",
              "      <td>INLAND</td>\n",
              "      <td>5</td>\n",
              "    </tr>\n",
              "    <tr>\n",
              "      <th>3485</th>\n",
              "      <td>-118.55</td>\n",
              "      <td>34.28</td>\n",
              "      <td>16.0</td>\n",
              "      <td>8879.0</td>\n",
              "      <td>NaN</td>\n",
              "      <td>3468.0</td>\n",
              "      <td>1200.0</td>\n",
              "      <td>8.1125</td>\n",
              "      <td>&lt;1H OCEAN</td>\n",
              "      <td>5</td>\n",
              "    </tr>\n",
              "    <tr>\n",
              "      <th>19060</th>\n",
              "      <td>-122.41</td>\n",
              "      <td>38.16</td>\n",
              "      <td>37.0</td>\n",
              "      <td>1549.0</td>\n",
              "      <td>NaN</td>\n",
              "      <td>863.0</td>\n",
              "      <td>275.0</td>\n",
              "      <td>2.7457</td>\n",
              "      <td>NEAR BAY</td>\n",
              "      <td>2</td>\n",
              "    </tr>\n",
              "    <tr>\n",
              "      <th>14521</th>\n",
              "      <td>-117.14</td>\n",
              "      <td>32.90</td>\n",
              "      <td>16.0</td>\n",
              "      <td>3217.0</td>\n",
              "      <td>NaN</td>\n",
              "      <td>2054.0</td>\n",
              "      <td>687.0</td>\n",
              "      <td>4.2234</td>\n",
              "      <td>&lt;1H OCEAN</td>\n",
              "      <td>3</td>\n",
              "    </tr>\n",
              "  </tbody>\n",
              "</table>\n",
              "</div>"
            ],
            "text/plain": [
              "       longitude  latitude  ...  ocean_proximity  income_cat\n",
              "2334     -119.69     36.83  ...           INLAND           1\n",
              "2826     -119.11     35.42  ...           INLAND           5\n",
              "3485     -118.55     34.28  ...        <1H OCEAN           5\n",
              "19060    -122.41     38.16  ...         NEAR BAY           2\n",
              "14521    -117.14     32.90  ...        <1H OCEAN           3\n",
              "\n",
              "[5 rows x 10 columns]"
            ]
          },
          "metadata": {
            "tags": []
          },
          "execution_count": 27
        }
      ]
    },
    {
      "cell_type": "markdown",
      "metadata": {
        "id": "pAaPNnuPxKdu"
      },
      "source": [
        "Scikit Learn provides a handy class to take care of missing values: Imputer. \n",
        "* Creates an Imputer instance, specifying that you want to replace the missing attribute's missing values with the median of that attribute.   \n",
        "* Creates a copy of the data without the text attribute ocean_proximity\n",
        "*  Fit the imputer instance to the training data using the fit() method:\n",
        "*  Display the statistics_ instance variable of the imputer object."
      ]
    },
    {
      "cell_type": "code",
      "metadata": {
        "id": "KoUnWjzEWDGA",
        "colab": {
          "base_uri": "https://localhost:8080/"
        },
        "outputId": "87f45dc3-8c3b-4e20-d859-aecf2cf6ea3e"
      },
      "source": [
        "#@title\n",
        "from sklearn.impute import SimpleImputer\n",
        "imputer = SimpleImputer(strategy='median')\n",
        "housing_num = housing.drop('ocean_proximity', axis = 1)\n",
        "imputer.fit(housing_num)\n",
        "imputer.statistics_"
      ],
      "execution_count": null,
      "outputs": [
        {
          "output_type": "execute_result",
          "data": {
            "text/plain": [
              "array([-118.5    ,   34.26   ,   29.     , 2138.     ,  436.     ,\n",
              "       1170.     ,  410.     ,    3.53635,    3.     ])"
            ]
          },
          "metadata": {
            "tags": []
          },
          "execution_count": 28
        }
      ]
    },
    {
      "cell_type": "code",
      "metadata": {
        "id": "qpgsSEEQYVs3",
        "colab": {
          "base_uri": "https://localhost:8080/",
          "height": 197
        },
        "outputId": "2dbf4062-373f-4753-fb1c-90fe83574c6a"
      },
      "source": [
        "#@title\n",
        "X = imputer.transform(housing_num)\n",
        "housing_tr = pd.DataFrame(X, columns=housing_num.columns, index = list(housing.index.values))\n",
        "housing_tr.loc[sample_incomplete_rows.index.values]"
      ],
      "execution_count": null,
      "outputs": [
        {
          "output_type": "execute_result",
          "data": {
            "text/html": [
              "<div>\n",
              "<style scoped>\n",
              "    .dataframe tbody tr th:only-of-type {\n",
              "        vertical-align: middle;\n",
              "    }\n",
              "\n",
              "    .dataframe tbody tr th {\n",
              "        vertical-align: top;\n",
              "    }\n",
              "\n",
              "    .dataframe thead th {\n",
              "        text-align: right;\n",
              "    }\n",
              "</style>\n",
              "<table border=\"1\" class=\"dataframe\">\n",
              "  <thead>\n",
              "    <tr style=\"text-align: right;\">\n",
              "      <th></th>\n",
              "      <th>longitude</th>\n",
              "      <th>latitude</th>\n",
              "      <th>housing_median_age</th>\n",
              "      <th>total_rooms</th>\n",
              "      <th>total_bedrooms</th>\n",
              "      <th>population</th>\n",
              "      <th>households</th>\n",
              "      <th>median_income</th>\n",
              "      <th>income_cat</th>\n",
              "    </tr>\n",
              "  </thead>\n",
              "  <tbody>\n",
              "    <tr>\n",
              "      <th>2334</th>\n",
              "      <td>-119.69</td>\n",
              "      <td>36.83</td>\n",
              "      <td>32.0</td>\n",
              "      <td>1098.0</td>\n",
              "      <td>436.0</td>\n",
              "      <td>726.0</td>\n",
              "      <td>224.0</td>\n",
              "      <td>1.4913</td>\n",
              "      <td>1.0</td>\n",
              "    </tr>\n",
              "    <tr>\n",
              "      <th>2826</th>\n",
              "      <td>-119.11</td>\n",
              "      <td>35.42</td>\n",
              "      <td>52.0</td>\n",
              "      <td>154.0</td>\n",
              "      <td>436.0</td>\n",
              "      <td>37.0</td>\n",
              "      <td>16.0</td>\n",
              "      <td>10.0263</td>\n",
              "      <td>5.0</td>\n",
              "    </tr>\n",
              "    <tr>\n",
              "      <th>3485</th>\n",
              "      <td>-118.55</td>\n",
              "      <td>34.28</td>\n",
              "      <td>16.0</td>\n",
              "      <td>8879.0</td>\n",
              "      <td>436.0</td>\n",
              "      <td>3468.0</td>\n",
              "      <td>1200.0</td>\n",
              "      <td>8.1125</td>\n",
              "      <td>5.0</td>\n",
              "    </tr>\n",
              "    <tr>\n",
              "      <th>19060</th>\n",
              "      <td>-122.41</td>\n",
              "      <td>38.16</td>\n",
              "      <td>37.0</td>\n",
              "      <td>1549.0</td>\n",
              "      <td>436.0</td>\n",
              "      <td>863.0</td>\n",
              "      <td>275.0</td>\n",
              "      <td>2.7457</td>\n",
              "      <td>2.0</td>\n",
              "    </tr>\n",
              "    <tr>\n",
              "      <th>14521</th>\n",
              "      <td>-117.14</td>\n",
              "      <td>32.90</td>\n",
              "      <td>16.0</td>\n",
              "      <td>3217.0</td>\n",
              "      <td>436.0</td>\n",
              "      <td>2054.0</td>\n",
              "      <td>687.0</td>\n",
              "      <td>4.2234</td>\n",
              "      <td>3.0</td>\n",
              "    </tr>\n",
              "  </tbody>\n",
              "</table>\n",
              "</div>"
            ],
            "text/plain": [
              "       longitude  latitude  ...  median_income  income_cat\n",
              "2334     -119.69     36.83  ...         1.4913         1.0\n",
              "2826     -119.11     35.42  ...        10.0263         5.0\n",
              "3485     -118.55     34.28  ...         8.1125         5.0\n",
              "19060    -122.41     38.16  ...         2.7457         2.0\n",
              "14521    -117.14     32.90  ...         4.2234         3.0\n",
              "\n",
              "[5 rows x 9 columns]"
            ]
          },
          "metadata": {
            "tags": []
          },
          "execution_count": 29
        }
      ]
    },
    {
      "cell_type": "code",
      "metadata": {
        "id": "55tKSTaYYWnq",
        "colab": {
          "base_uri": "https://localhost:8080/",
          "height": 197
        },
        "outputId": "e0236e5f-cd20-4535-c435-f827bb54262e"
      },
      "source": [
        "housing_cat = housing[['ocean_proximity']]\n",
        "housing_cat.head()"
      ],
      "execution_count": null,
      "outputs": [
        {
          "output_type": "execute_result",
          "data": {
            "text/html": [
              "<div>\n",
              "<style scoped>\n",
              "    .dataframe tbody tr th:only-of-type {\n",
              "        vertical-align: middle;\n",
              "    }\n",
              "\n",
              "    .dataframe tbody tr th {\n",
              "        vertical-align: top;\n",
              "    }\n",
              "\n",
              "    .dataframe thead th {\n",
              "        text-align: right;\n",
              "    }\n",
              "</style>\n",
              "<table border=\"1\" class=\"dataframe\">\n",
              "  <thead>\n",
              "    <tr style=\"text-align: right;\">\n",
              "      <th></th>\n",
              "      <th>ocean_proximity</th>\n",
              "    </tr>\n",
              "  </thead>\n",
              "  <tbody>\n",
              "    <tr>\n",
              "      <th>5001</th>\n",
              "      <td>&lt;1H OCEAN</td>\n",
              "    </tr>\n",
              "    <tr>\n",
              "      <th>790</th>\n",
              "      <td>NEAR BAY</td>\n",
              "    </tr>\n",
              "    <tr>\n",
              "      <th>10876</th>\n",
              "      <td>&lt;1H OCEAN</td>\n",
              "    </tr>\n",
              "    <tr>\n",
              "      <th>7413</th>\n",
              "      <td>&lt;1H OCEAN</td>\n",
              "    </tr>\n",
              "    <tr>\n",
              "      <th>18310</th>\n",
              "      <td>NEAR BAY</td>\n",
              "    </tr>\n",
              "  </tbody>\n",
              "</table>\n",
              "</div>"
            ],
            "text/plain": [
              "      ocean_proximity\n",
              "5001        <1H OCEAN\n",
              "790          NEAR BAY\n",
              "10876       <1H OCEAN\n",
              "7413        <1H OCEAN\n",
              "18310        NEAR BAY"
            ]
          },
          "metadata": {
            "tags": []
          },
          "execution_count": 30
        }
      ]
    },
    {
      "cell_type": "code",
      "metadata": {
        "id": "SGoNrCDqZl8g",
        "colab": {
          "base_uri": "https://localhost:8080/"
        },
        "outputId": "4375a1da-5102-47fa-8d2e-037e60c0d7cb"
      },
      "source": [
        "from sklearn.preprocessing import OrdinalEncoder\n",
        "ordinal_encoder = OrdinalEncoder()\n",
        "housing_cat_encoded = ordinal_encoder.fit_transform(housing_cat)\n",
        "housing_cat_encoded"
      ],
      "execution_count": null,
      "outputs": [
        {
          "output_type": "execute_result",
          "data": {
            "text/plain": [
              "array([[0.],\n",
              "       [3.],\n",
              "       [0.],\n",
              "       ...,\n",
              "       [1.],\n",
              "       [1.],\n",
              "       [0.]])"
            ]
          },
          "metadata": {
            "tags": []
          },
          "execution_count": 31
        }
      ]
    },
    {
      "cell_type": "code",
      "metadata": {
        "id": "OnULAWsBaXx4",
        "colab": {
          "base_uri": "https://localhost:8080/"
        },
        "outputId": "7fb6e18d-df5b-4559-9e45-b38bad7a92dc"
      },
      "source": [
        "from sklearn.preprocessing import LabelEncoder\n",
        "encoder = LabelEncoder()\n",
        "housing_cat_encoded = encoder.fit_transform(housing_cat)\n",
        "housing_cat_encoded[:10]"
      ],
      "execution_count": null,
      "outputs": [
        {
          "output_type": "stream",
          "text": [
            "/usr/local/lib/python3.7/dist-packages/sklearn/preprocessing/_label.py:251: DataConversionWarning: A column-vector y was passed when a 1d array was expected. Please change the shape of y to (n_samples, ), for example using ravel().\n",
            "  y = column_or_1d(y, warn=True)\n"
          ],
          "name": "stderr"
        },
        {
          "output_type": "execute_result",
          "data": {
            "text/plain": [
              "array([0, 3, 0, 0, 3, 1, 1, 0, 4, 1])"
            ]
          },
          "metadata": {
            "tags": []
          },
          "execution_count": 32
        }
      ]
    },
    {
      "cell_type": "code",
      "metadata": {
        "id": "3YvhDaJlbRmM",
        "colab": {
          "base_uri": "https://localhost:8080/"
        },
        "outputId": "dec58e18-2ea4-4976-b271-953bb4cf8cde"
      },
      "source": [
        "encoder.classes_"
      ],
      "execution_count": null,
      "outputs": [
        {
          "output_type": "execute_result",
          "data": {
            "text/plain": [
              "array(['<1H OCEAN', 'INLAND', 'ISLAND', 'NEAR BAY', 'NEAR OCEAN'],\n",
              "      dtype=object)"
            ]
          },
          "metadata": {
            "tags": []
          },
          "execution_count": 33
        }
      ]
    },
    {
      "cell_type": "code",
      "metadata": {
        "id": "xha0axhObrq2",
        "colab": {
          "base_uri": "https://localhost:8080/"
        },
        "outputId": "a74979e0-f0af-4768-bf2c-95c74c3a983a"
      },
      "source": [
        "from sklearn.preprocessing import OneHotEncoder\n",
        "encoder = OneHotEncoder()\n",
        "housing_cat_1hot = encoder.fit_transform(housing_cat_encoded.reshape(-1,1))\n",
        "housing_cat_1hot"
      ],
      "execution_count": null,
      "outputs": [
        {
          "output_type": "execute_result",
          "data": {
            "text/plain": [
              "<15480x5 sparse matrix of type '<class 'numpy.float64'>'\n",
              "\twith 15480 stored elements in Compressed Sparse Row format>"
            ]
          },
          "metadata": {
            "tags": []
          },
          "execution_count": 34
        }
      ]
    },
    {
      "cell_type": "code",
      "metadata": {
        "id": "CxclZdbddKjq",
        "colab": {
          "base_uri": "https://localhost:8080/"
        },
        "outputId": "e8f7d803-57e8-4308-e1ae-c3ab3acc58ef"
      },
      "source": [
        "housing_cat_1hot.toarray()"
      ],
      "execution_count": null,
      "outputs": [
        {
          "output_type": "execute_result",
          "data": {
            "text/plain": [
              "array([[1., 0., 0., 0., 0.],\n",
              "       [0., 0., 0., 1., 0.],\n",
              "       [1., 0., 0., 0., 0.],\n",
              "       ...,\n",
              "       [0., 1., 0., 0., 0.],\n",
              "       [0., 1., 0., 0., 0.],\n",
              "       [1., 0., 0., 0., 0.]])"
            ]
          },
          "metadata": {
            "tags": []
          },
          "execution_count": 35
        }
      ]
    },
    {
      "cell_type": "markdown",
      "metadata": {
        "id": "5o0-MCdn5OvB"
      },
      "source": [
        "The categorical attribute ocean_proximity was left out because it is a text attribute so we cannot compute its median.  Transform the text categories to integer categories, then from integer categories to one-hot vectors in one shot using the LabelBinarizer class."
      ]
    },
    {
      "cell_type": "code",
      "metadata": {
        "id": "pFcSpFlEjPHP",
        "colab": {
          "base_uri": "https://localhost:8080/"
        },
        "outputId": "cbb462e2-b220-4cd8-ab47-f6969946a2bc"
      },
      "source": [
        "from sklearn.preprocessing import LabelBinarizer\n",
        "encoder = LabelBinarizer()\n",
        "housing_cat_1hot = encoder.fit_transform(housing_cat)\n",
        "housing_cat_1hot"
      ],
      "execution_count": null,
      "outputs": [
        {
          "output_type": "execute_result",
          "data": {
            "text/plain": [
              "array([[1, 0, 0, 0, 0],\n",
              "       [0, 0, 0, 1, 0],\n",
              "       [1, 0, 0, 0, 0],\n",
              "       ...,\n",
              "       [0, 1, 0, 0, 0],\n",
              "       [0, 1, 0, 0, 0],\n",
              "       [1, 0, 0, 0, 0]])"
            ]
          },
          "metadata": {
            "tags": []
          },
          "execution_count": 36
        }
      ]
    },
    {
      "cell_type": "markdown",
      "metadata": {
        "id": "W6mMMTvN8oie"
      },
      "source": [
        "Creates custom transformers to create taks such as combining specific attributes, such as rooms per household, population per household and bedrooms per room.  "
      ]
    },
    {
      "cell_type": "code",
      "metadata": {
        "id": "0KtmZ-qmpXmL"
      },
      "source": [
        "from sklearn.base import BaseEstimator, TransformerMixin\n",
        "\n",
        "# column index\n",
        "rooms_ix, bedrooms_ix, population_ix, households_ix = 3, 4, 5, 6\n",
        "\n",
        "class CombinedAttributesAdder(BaseEstimator, TransformerMixin):\n",
        "    def __init__(self, add_bedrooms_per_room = True): # no *args or **kargs\n",
        "        self.add_bedrooms_per_room = add_bedrooms_per_room\n",
        "    def fit(self, X, y=None):\n",
        "        return self  # nothing else to do\n",
        "    def transform(self, X, y=None):\n",
        "        rooms_per_household = X[:, rooms_ix] / X[:, households_ix]\n",
        "        population_per_household = X[:, population_ix] / X[:, households_ix]\n",
        "        if self.add_bedrooms_per_room:\n",
        "            bedrooms_per_room = X[:, bedrooms_ix] / X[:, rooms_ix]\n",
        "            return np.c_[X, rooms_per_household, population_per_household, bedrooms_per_room]\n",
        "        else:\n",
        "            return np.c_[X, rooms_per_household, population_per_household]\n",
        "\n",
        "attr_adder = CombinedAttributesAdder(add_bedrooms_per_room=False)\n",
        "housing_extra_attribs = attr_adder.transform(housing.values)"
      ],
      "execution_count": null,
      "outputs": []
    },
    {
      "cell_type": "code",
      "metadata": {
        "id": "3zNZMIxWputS",
        "colab": {
          "base_uri": "https://localhost:8080/",
          "height": 426
        },
        "outputId": "58faba77-d949-4d7b-df6f-d3b0c55c2404"
      },
      "source": [
        "housing_extra_attribs = pd.DataFrame(\n",
        "    housing_extra_attribs,\n",
        "    columns=list(housing.columns)+[\"rooms_per_household\", \"population_per_household\"])\n",
        "housing_extra_attribs"
      ],
      "execution_count": null,
      "outputs": [
        {
          "output_type": "execute_result",
          "data": {
            "text/html": [
              "<div>\n",
              "<style scoped>\n",
              "    .dataframe tbody tr th:only-of-type {\n",
              "        vertical-align: middle;\n",
              "    }\n",
              "\n",
              "    .dataframe tbody tr th {\n",
              "        vertical-align: top;\n",
              "    }\n",
              "\n",
              "    .dataframe thead th {\n",
              "        text-align: right;\n",
              "    }\n",
              "</style>\n",
              "<table border=\"1\" class=\"dataframe\">\n",
              "  <thead>\n",
              "    <tr style=\"text-align: right;\">\n",
              "      <th></th>\n",
              "      <th>longitude</th>\n",
              "      <th>latitude</th>\n",
              "      <th>housing_median_age</th>\n",
              "      <th>total_rooms</th>\n",
              "      <th>total_bedrooms</th>\n",
              "      <th>population</th>\n",
              "      <th>households</th>\n",
              "      <th>median_income</th>\n",
              "      <th>ocean_proximity</th>\n",
              "      <th>income_cat</th>\n",
              "      <th>rooms_per_household</th>\n",
              "      <th>population_per_household</th>\n",
              "    </tr>\n",
              "  </thead>\n",
              "  <tbody>\n",
              "    <tr>\n",
              "      <th>0</th>\n",
              "      <td>-118.28</td>\n",
              "      <td>33.99</td>\n",
              "      <td>46</td>\n",
              "      <td>1211</td>\n",
              "      <td>321</td>\n",
              "      <td>1153</td>\n",
              "      <td>282</td>\n",
              "      <td>1.7849</td>\n",
              "      <td>&lt;1H OCEAN</td>\n",
              "      <td>2</td>\n",
              "      <td>4.29433</td>\n",
              "      <td>4.08865</td>\n",
              "    </tr>\n",
              "    <tr>\n",
              "      <th>1</th>\n",
              "      <td>-122.08</td>\n",
              "      <td>37.64</td>\n",
              "      <td>36</td>\n",
              "      <td>1340</td>\n",
              "      <td>245</td>\n",
              "      <td>789</td>\n",
              "      <td>248</td>\n",
              "      <td>3.8</td>\n",
              "      <td>NEAR BAY</td>\n",
              "      <td>3</td>\n",
              "      <td>5.40323</td>\n",
              "      <td>3.18145</td>\n",
              "    </tr>\n",
              "    <tr>\n",
              "      <th>2</th>\n",
              "      <td>-117.88</td>\n",
              "      <td>33.73</td>\n",
              "      <td>32</td>\n",
              "      <td>1947</td>\n",
              "      <td>355</td>\n",
              "      <td>1786</td>\n",
              "      <td>332</td>\n",
              "      <td>4.5726</td>\n",
              "      <td>&lt;1H OCEAN</td>\n",
              "      <td>4</td>\n",
              "      <td>5.86446</td>\n",
              "      <td>5.37952</td>\n",
              "    </tr>\n",
              "    <tr>\n",
              "      <th>3</th>\n",
              "      <td>-118.23</td>\n",
              "      <td>33.96</td>\n",
              "      <td>42</td>\n",
              "      <td>1977</td>\n",
              "      <td>570</td>\n",
              "      <td>2406</td>\n",
              "      <td>557</td>\n",
              "      <td>2.5913</td>\n",
              "      <td>&lt;1H OCEAN</td>\n",
              "      <td>2</td>\n",
              "      <td>3.54937</td>\n",
              "      <td>4.31957</td>\n",
              "    </tr>\n",
              "    <tr>\n",
              "      <th>4</th>\n",
              "      <td>-122.12</td>\n",
              "      <td>37.42</td>\n",
              "      <td>35</td>\n",
              "      <td>2445</td>\n",
              "      <td>533</td>\n",
              "      <td>1187</td>\n",
              "      <td>519</td>\n",
              "      <td>5.2803</td>\n",
              "      <td>NEAR BAY</td>\n",
              "      <td>4</td>\n",
              "      <td>4.71098</td>\n",
              "      <td>2.28709</td>\n",
              "    </tr>\n",
              "    <tr>\n",
              "      <th>...</th>\n",
              "      <td>...</td>\n",
              "      <td>...</td>\n",
              "      <td>...</td>\n",
              "      <td>...</td>\n",
              "      <td>...</td>\n",
              "      <td>...</td>\n",
              "      <td>...</td>\n",
              "      <td>...</td>\n",
              "      <td>...</td>\n",
              "      <td>...</td>\n",
              "      <td>...</td>\n",
              "      <td>...</td>\n",
              "    </tr>\n",
              "    <tr>\n",
              "      <th>15475</th>\n",
              "      <td>-122.7</td>\n",
              "      <td>38.31</td>\n",
              "      <td>14</td>\n",
              "      <td>3155</td>\n",
              "      <td>580</td>\n",
              "      <td>1208</td>\n",
              "      <td>501</td>\n",
              "      <td>4.1964</td>\n",
              "      <td>&lt;1H OCEAN</td>\n",
              "      <td>3</td>\n",
              "      <td>6.29741</td>\n",
              "      <td>2.41118</td>\n",
              "    </tr>\n",
              "    <tr>\n",
              "      <th>15476</th>\n",
              "      <td>-121.8</td>\n",
              "      <td>37.7</td>\n",
              "      <td>22</td>\n",
              "      <td>5533</td>\n",
              "      <td>943</td>\n",
              "      <td>2474</td>\n",
              "      <td>910</td>\n",
              "      <td>4.7361</td>\n",
              "      <td>INLAND</td>\n",
              "      <td>4</td>\n",
              "      <td>6.08022</td>\n",
              "      <td>2.71868</td>\n",
              "    </tr>\n",
              "    <tr>\n",
              "      <th>15477</th>\n",
              "      <td>-121.38</td>\n",
              "      <td>38.41</td>\n",
              "      <td>10</td>\n",
              "      <td>3425</td>\n",
              "      <td>629</td>\n",
              "      <td>1538</td>\n",
              "      <td>587</td>\n",
              "      <td>4.45</td>\n",
              "      <td>INLAND</td>\n",
              "      <td>3</td>\n",
              "      <td>5.83475</td>\n",
              "      <td>2.6201</td>\n",
              "    </tr>\n",
              "    <tr>\n",
              "      <th>15478</th>\n",
              "      <td>-121.79</td>\n",
              "      <td>39.73</td>\n",
              "      <td>8</td>\n",
              "      <td>5690</td>\n",
              "      <td>1189</td>\n",
              "      <td>2887</td>\n",
              "      <td>1077</td>\n",
              "      <td>3.0625</td>\n",
              "      <td>INLAND</td>\n",
              "      <td>3</td>\n",
              "      <td>5.28319</td>\n",
              "      <td>2.68059</td>\n",
              "    </tr>\n",
              "    <tr>\n",
              "      <th>15479</th>\n",
              "      <td>-121.87</td>\n",
              "      <td>37.35</td>\n",
              "      <td>27</td>\n",
              "      <td>3500</td>\n",
              "      <td>1036</td>\n",
              "      <td>3019</td>\n",
              "      <td>955</td>\n",
              "      <td>2.9222</td>\n",
              "      <td>&lt;1H OCEAN</td>\n",
              "      <td>2</td>\n",
              "      <td>3.66492</td>\n",
              "      <td>3.16126</td>\n",
              "    </tr>\n",
              "  </tbody>\n",
              "</table>\n",
              "<p>15480 rows × 12 columns</p>\n",
              "</div>"
            ],
            "text/plain": [
              "      longitude latitude  ... rooms_per_household population_per_household\n",
              "0       -118.28    33.99  ...             4.29433                  4.08865\n",
              "1       -122.08    37.64  ...             5.40323                  3.18145\n",
              "2       -117.88    33.73  ...             5.86446                  5.37952\n",
              "3       -118.23    33.96  ...             3.54937                  4.31957\n",
              "4       -122.12    37.42  ...             4.71098                  2.28709\n",
              "...         ...      ...  ...                 ...                      ...\n",
              "15475    -122.7    38.31  ...             6.29741                  2.41118\n",
              "15476    -121.8     37.7  ...             6.08022                  2.71868\n",
              "15477   -121.38    38.41  ...             5.83475                   2.6201\n",
              "15478   -121.79    39.73  ...             5.28319                  2.68059\n",
              "15479   -121.87    37.35  ...             3.66492                  3.16126\n",
              "\n",
              "[15480 rows x 12 columns]"
            ]
          },
          "metadata": {
            "tags": []
          },
          "execution_count": 38
        }
      ]
    },
    {
      "cell_type": "markdown",
      "metadata": {
        "id": "XOR74bdOD2cH"
      },
      "source": [
        "Scikit-Learn provides the Pipeline class to help with data transformation steps that need to be executed in the right order.  A full pipeline handling both numerical and categorical attributes may look like this:"
      ]
    },
    {
      "cell_type": "code",
      "metadata": {
        "id": "dhMzHsLFkZZ5"
      },
      "source": [
        "from sklearn.pipeline import Pipeline\n",
        "from sklearn.preprocessing import StandardScaler\n",
        "\n",
        "num_pipeline = Pipeline([\n",
        "        ('imputer', SimpleImputer(strategy=\"median\")),\n",
        "        ('attribs_adder', CombinedAttributesAdder()),\n",
        "        ('std_scaler', StandardScaler()),\n",
        "    ])\n",
        "\n",
        "housing_num_tr = num_pipeline.fit_transform(housing_num)"
      ],
      "execution_count": null,
      "outputs": []
    },
    {
      "cell_type": "code",
      "metadata": {
        "id": "RjfGlEZskzYU"
      },
      "source": [
        "from sklearn.compose import ColumnTransformer\n",
        "\n",
        "num_attribs = list(housing_num)\n",
        "cat_attribs = [\"ocean_proximity\"]\n",
        "\n",
        "full_pipeline = ColumnTransformer([\n",
        "        (\"num\", num_pipeline, num_attribs),\n",
        "        (\"cat\", OneHotEncoder(), cat_attribs),\n",
        "    ])\n",
        "\n",
        "housing_prepared = full_pipeline.fit_transform(housing)"
      ],
      "execution_count": null,
      "outputs": []
    },
    {
      "cell_type": "code",
      "metadata": {
        "id": "HgYXLq-yk-fl",
        "colab": {
          "base_uri": "https://localhost:8080/"
        },
        "outputId": "b2ba7d81-419c-408b-c172-0fedb0e20d3d"
      },
      "source": [
        "housing_prepared"
      ],
      "execution_count": null,
      "outputs": [
        {
          "output_type": "execute_result",
          "data": {
            "text/plain": [
              "array([[ 0.6435417 , -0.77065188,  1.38438262, ...,  0.        ,\n",
              "         0.        ,  0.        ],\n",
              "       [-1.25267341,  0.93960405,  0.58850927, ...,  0.        ,\n",
              "         1.        ,  0.        ],\n",
              "       [ 0.8431433 , -0.89247833,  0.27015993, ...,  0.        ,\n",
              "         0.        ,  0.        ],\n",
              "       ...,\n",
              "       [-0.90337063,  1.30039777, -1.48076145, ...,  0.        ,\n",
              "         0.        ,  0.        ],\n",
              "       [-1.10796226,  1.91890128, -1.63993612, ...,  0.        ,\n",
              "         0.        ,  0.        ],\n",
              "       [-1.14788257,  0.8037207 , -0.12777675, ...,  0.        ,\n",
              "         0.        ,  0.        ]])"
            ]
          },
          "metadata": {
            "tags": []
          },
          "execution_count": 41
        }
      ]
    },
    {
      "cell_type": "code",
      "metadata": {
        "id": "d9AoRtELlHGJ",
        "colab": {
          "base_uri": "https://localhost:8080/"
        },
        "outputId": "c128f8d1-45e9-423c-8132-f85307dc2cae"
      },
      "source": [
        "housing_prepared.shape"
      ],
      "execution_count": null,
      "outputs": [
        {
          "output_type": "execute_result",
          "data": {
            "text/plain": [
              "(15480, 17)"
            ]
          },
          "metadata": {
            "tags": []
          },
          "execution_count": 42
        }
      ]
    },
    {
      "cell_type": "markdown",
      "metadata": {
        "id": "-qz0qSxvFa1G"
      },
      "source": [
        "## Select and Train a Mode"
      ]
    },
    {
      "cell_type": "markdown",
      "metadata": {
        "id": "qSE5BDyrFeLl"
      },
      "source": [
        "Q9. Train a Linear Regression model with the prepared data."
      ]
    },
    {
      "cell_type": "code",
      "metadata": {
        "id": "zflGnMOLbsMm"
      },
      "source": [
        "# Linear Regression model\n"
      ],
      "execution_count": null,
      "outputs": []
    },
    {
      "cell_type": "code",
      "metadata": {
        "cellView": "form",
        "id": "7r6rrl73lafo",
        "colab": {
          "base_uri": "https://localhost:8080/"
        },
        "outputId": "ef0df66c-f0a8-4d69-e738-d8576189d75f"
      },
      "source": [
        "#@title\n",
        "from sklearn.linear_model import LinearRegression\n",
        "\n",
        "lin_reg = LinearRegression()\n",
        "lin_reg.fit(housing_prepared, housing_labels)"
      ],
      "execution_count": null,
      "outputs": [
        {
          "output_type": "execute_result",
          "data": {
            "text/plain": [
              "LinearRegression(copy_X=True, fit_intercept=True, n_jobs=None, normalize=False)"
            ]
          },
          "metadata": {
            "tags": []
          },
          "execution_count": 44
        }
      ]
    },
    {
      "cell_type": "markdown",
      "metadata": {
        "id": "yBSW0oTfGKHk"
      },
      "source": [
        "Try it out on a few instances from the training set.  It works, but the predictions are not exactly accurate."
      ]
    },
    {
      "cell_type": "code",
      "metadata": {
        "id": "LXKuMBsJT4Ey",
        "colab": {
          "base_uri": "https://localhost:8080/"
        },
        "outputId": "d71c4cfc-422b-483a-aafe-a6d7ac44aad5"
      },
      "source": [
        "some_data = housing.iloc[:5]\n",
        "some_labels = housing_labels.iloc[:5]\n",
        "some_data_prepared = full_pipeline.transform(some_data)\n",
        "\n",
        "print(\"Predictions:\", lin_reg.predict(some_data_prepared))\n",
        "print(\"Labels:\", list(some_labels))"
      ],
      "execution_count": null,
      "outputs": [
        {
          "output_type": "stream",
          "text": [
            "Predictions: [148875.84699684 221919.90768118 216423.33228079 153949.34357947\n",
            " 313390.51651792]\n",
            "Labels: [99300.0, 172000.0, 177500.0, 151600.0, 362100.0]\n"
          ],
          "name": "stdout"
        }
      ]
    },
    {
      "cell_type": "code",
      "metadata": {
        "id": "Arqord_TUuOj",
        "colab": {
          "base_uri": "https://localhost:8080/"
        },
        "outputId": "cc430383-1bb6-422b-d671-b35d3e31bb09"
      },
      "source": [
        "some_data_prepared"
      ],
      "execution_count": null,
      "outputs": [
        {
          "output_type": "execute_result",
          "data": {
            "text/plain": [
              "array([[ 0.6435417 , -0.77065188,  1.38438262, -0.65339745, -0.5172303 ,\n",
              "        -0.24891804, -0.57109778, -1.0940305 , -0.95441976, -0.44287845,\n",
              "         0.08393931,  0.77558033,  1.        ,  0.        ,  0.        ,\n",
              "         0.        ,  0.        ],\n",
              "       [-1.25267341,  0.93960405,  0.58850927, -0.59481898, -0.69717256,\n",
              "        -0.5736929 , -0.65951042, -0.03855147, -0.00618679, -0.0144604 ,\n",
              "         0.00719252, -0.46544992,  0.        ,  0.        ,  0.        ,\n",
              "         1.        ,  0.        ],\n",
              "       [ 0.8431433 , -0.89247833,  0.27015993, -0.31918232, -0.43672982,\n",
              "         0.31586902, -0.44107918,  0.36612477,  0.94204617,  0.16373439,\n",
              "         0.19314311, -0.47305641,  1.        ,  0.        ,  0.        ,\n",
              "         0.        ,  0.        ],\n",
              "       [ 0.6684919 , -0.78470878,  1.06603328, -0.30555943,  0.07231737,\n",
              "         0.86905697,  0.1440045 , -0.67165032, -0.95441976, -0.7306881 ,\n",
              "         0.10347424,  1.12638613,  1.        ,  0.        ,  0.        ,\n",
              "         0.        ,  0.        ],\n",
              "       [-1.27263357,  0.83652013,  0.50892194, -0.0930422 , -0.0152861 ,\n",
              "        -0.21858192,  0.04519036,  0.73680737,  0.94204617, -0.28190523,\n",
              "        -0.06846805,  0.0651644 ,  0.        ,  0.        ,  0.        ,\n",
              "         1.        ,  0.        ]])"
            ]
          },
          "metadata": {
            "tags": []
          },
          "execution_count": 46
        }
      ]
    },
    {
      "cell_type": "markdown",
      "metadata": {
        "id": "j8zv8V11Gell"
      },
      "source": [
        "Q10.  Measure the regression model RMSE on the whole training set using Scikit-Learn's mean_squared_error functions."
      ]
    },
    {
      "cell_type": "code",
      "metadata": {
        "id": "L2xYGQh9qKer"
      },
      "source": [
        "from sklearn.metrics import mean_squared_error\n",
        "\n"
      ],
      "execution_count": null,
      "outputs": []
    },
    {
      "cell_type": "code",
      "metadata": {
        "cellView": "form",
        "id": "XkQT3b-rUzVD",
        "colab": {
          "base_uri": "https://localhost:8080/"
        },
        "outputId": "3c968bd3-43d1-4787-9239-a6333bc0ca51"
      },
      "source": [
        "#@title\n",
        "from sklearn.metrics import mean_squared_error\n",
        "\n",
        "housing_predictions = lin_reg.predict(housing_prepared)\n",
        "lin_mse = mean_squared_error(housing_labels, housing_predictions)\n",
        "lin_rmse = np.sqrt(lin_mse)\n",
        "lin_rmse"
      ],
      "execution_count": null,
      "outputs": [
        {
          "output_type": "execute_result",
          "data": {
            "text/plain": [
              "67651.11335698953"
            ]
          },
          "metadata": {
            "tags": []
          },
          "execution_count": 48
        }
      ]
    },
    {
      "cell_type": "markdown",
      "metadata": {
        "id": "VIYvYwpTGwfM"
      },
      "source": [
        "Q11.  Measure the regression model MAE on the whole training set using Scikit-Learn's mean_absolute_error functions"
      ]
    },
    {
      "cell_type": "code",
      "metadata": {
        "id": "I5a0l1LvU3-b"
      },
      "source": [
        "from sklearn.metrics import mean_absolute_error\n",
        "\n"
      ],
      "execution_count": null,
      "outputs": []
    },
    {
      "cell_type": "code",
      "metadata": {
        "cellView": "form",
        "id": "zTze-yjQ7-hE",
        "colab": {
          "base_uri": "https://localhost:8080/"
        },
        "outputId": "e59e01a8-2cc7-4b84-8eb9-4c459a3952d8"
      },
      "source": [
        "#@title\n",
        "from sklearn.metrics import mean_absolute_error\n",
        "\n",
        "housing_predictions = lin_reg.predict(housing_prepared)\n",
        "lin_mae = mean_absolute_error(housing_labels, housing_predictions)\n",
        "lin_mae"
      ],
      "execution_count": null,
      "outputs": [
        {
          "output_type": "execute_result",
          "data": {
            "text/plain": [
              "49234.78415923185"
            ]
          },
          "metadata": {
            "tags": []
          },
          "execution_count": 50
        }
      ]
    },
    {
      "cell_type": "markdown",
      "metadata": {
        "id": "szF92KA2HTyz"
      },
      "source": [
        "Let's try to use a DecisionTreeRegressor to train the model for comparison purpose.  The model seemed to have badly overfit the data.  "
      ]
    },
    {
      "cell_type": "code",
      "metadata": {
        "id": "MIw2dHHoU9kd",
        "colab": {
          "base_uri": "https://localhost:8080/"
        },
        "outputId": "7236a3d2-d321-45fd-c33b-830684174de9"
      },
      "source": [
        "from sklearn.tree import DecisionTreeRegressor\n",
        "\n",
        "tree_reg = DecisionTreeRegressor(random_state=42)\n",
        "tree_reg.fit(housing_prepared, housing_labels)"
      ],
      "execution_count": null,
      "outputs": [
        {
          "output_type": "execute_result",
          "data": {
            "text/plain": [
              "DecisionTreeRegressor(ccp_alpha=0.0, criterion='mse', max_depth=None,\n",
              "                      max_features=None, max_leaf_nodes=None,\n",
              "                      min_impurity_decrease=0.0, min_impurity_split=None,\n",
              "                      min_samples_leaf=1, min_samples_split=2,\n",
              "                      min_weight_fraction_leaf=0.0, presort='deprecated',\n",
              "                      random_state=42, splitter='best')"
            ]
          },
          "metadata": {
            "tags": []
          },
          "execution_count": 51
        }
      ]
    },
    {
      "cell_type": "code",
      "metadata": {
        "id": "bolmVLY4VCsy",
        "colab": {
          "base_uri": "https://localhost:8080/"
        },
        "outputId": "a3894488-f1e8-4bd6-fda4-c3952bdf458f"
      },
      "source": [
        "\n",
        "housing_predictions = tree_reg.predict(housing_prepared)\n",
        "tree_mse = mean_squared_error(housing_labels, housing_predictions)\n",
        "tree_rmse = np.sqrt(tree_mse)\n",
        "tree_rmse"
      ],
      "execution_count": null,
      "outputs": [
        {
          "output_type": "execute_result",
          "data": {
            "text/plain": [
              "0.0"
            ]
          },
          "metadata": {
            "tags": []
          },
          "execution_count": 52
        }
      ]
    },
    {
      "cell_type": "markdown",
      "metadata": {
        "id": "5Wpd7ygJHIxc"
      },
      "source": [
        "## Evaluation using Cross-Validation"
      ]
    },
    {
      "cell_type": "markdown",
      "metadata": {
        "id": "yn4LzAS1HMNE"
      },
      "source": [
        "Q12.  Use the cross validation feature to splits the training set into 10 distinct folds, then trains and evaluates the Decision Tree model 10 times, picking a different fold for evaluation every time.  Display the scores using the display_scores function given above."
      ]
    },
    {
      "cell_type": "code",
      "metadata": {
        "id": "GFSnNa6DWfRU"
      },
      "source": [
        "def display_scores(scores):\n",
        "    print(\"Scores:\", scores)\n",
        "    print(\"Mean:\", scores.mean())\n",
        "    print(\"Standard deviation:\", scores.std())\n"
      ],
      "execution_count": null,
      "outputs": []
    },
    {
      "cell_type": "code",
      "metadata": {
        "id": "sIDm6U-5vI2w"
      },
      "source": [
        "from sklearn.model_selection import cross_val_score\n",
        "\n"
      ],
      "execution_count": null,
      "outputs": []
    },
    {
      "cell_type": "code",
      "metadata": {
        "cellView": "form",
        "id": "jngqjKSgW5BZ",
        "colab": {
          "base_uri": "https://localhost:8080/"
        },
        "outputId": "155ba1f6-0fdb-42df-9abc-e5194dbc17eb"
      },
      "source": [
        "#@title\n",
        "from sklearn.model_selection import cross_val_score\n",
        "scores = cross_val_score(tree_reg, housing_prepared, housing_labels, scoring=\"neg_mean_squared_error\", cv=10)\n",
        "tree_rmse_scores = np.sqrt(-scores)\n",
        "display_scores(tree_rmse_scores)"
      ],
      "execution_count": null,
      "outputs": [
        {
          "output_type": "stream",
          "text": [
            "Scores: [69211.80446312 73248.26988839 74282.18346207 73939.55984448\n",
            " 68330.36457653 70081.58113965 73213.47091857 72932.09515214\n",
            " 69061.73049925 70935.13396339]\n",
            "Mean: 71523.6193907579\n",
            "Standard deviation: 2128.1051760922583\n"
          ],
          "name": "stdout"
        }
      ]
    },
    {
      "cell_type": "markdown",
      "metadata": {
        "id": "BUY3COkXJWCo"
      },
      "source": [
        "Q13. Compute the same scores for the LInear Regression model"
      ]
    },
    {
      "cell_type": "code",
      "metadata": {
        "cellView": "both",
        "id": "0Oe4HnDVvP9V"
      },
      "source": [
        "\n"
      ],
      "execution_count": null,
      "outputs": []
    },
    {
      "cell_type": "code",
      "metadata": {
        "cellView": "form",
        "id": "d_T_ocsvXA2h",
        "colab": {
          "base_uri": "https://localhost:8080/"
        },
        "outputId": "e56fb769-7b67-4424-f287-ea49654f7011"
      },
      "source": [
        "#@title\n",
        "\n",
        "lin_scores = cross_val_score(lin_reg, housing_prepared, housing_labels, scoring=\"neg_mean_squared_error\", cv=10)\n",
        "lin_rmse_scores = np.sqrt(-lin_scores)\n",
        "display_scores(lin_rmse_scores)"
      ],
      "execution_count": null,
      "outputs": [
        {
          "output_type": "stream",
          "text": [
            "Scores: [68228.98300365 69633.2149296  68189.60383677 66185.66285258\n",
            " 62979.85506073 67355.54737471 69459.64333902 69462.57597391\n",
            " 68342.11503373 70385.43675448]\n",
            "Mean: 68022.26381591757\n",
            "Standard deviation: 2042.959840690022\n"
          ],
          "name": "stdout"
        }
      ]
    },
    {
      "cell_type": "markdown",
      "metadata": {
        "id": "aziQXl2JJ6oF"
      },
      "source": [
        "## Model Fine Tuning"
      ]
    },
    {
      "cell_type": "markdown",
      "metadata": {
        "id": "6D-gk857J_jL"
      },
      "source": [
        "One way to fine tune the model is to use Scikit-Learn's GridSearch CV to evaluate all the possible combiniations of hyperparameter values that you want it to experiment with. "
      ]
    },
    {
      "cell_type": "code",
      "metadata": {
        "id": "Pb4Vpmo2bFIG",
        "colab": {
          "base_uri": "https://localhost:8080/"
        },
        "outputId": "c4728ff8-9c2f-4ba1-b080-fb83af9b9db5"
      },
      "source": [
        "from sklearn.model_selection import GridSearchCV\n",
        "from sklearn.ensemble import RandomForestRegressor\n",
        "\n",
        "param_grid = [\n",
        "    # try 12 (3×4) combinations of hyperparameters\n",
        "    {'n_estimators': [3, 10, 30], 'max_features': [2, 4, 6, 8]},\n",
        "    # then try 6 (2×3) combinations with bootstrap set as False\n",
        "    {'bootstrap': [False], 'n_estimators': [3, 10], 'max_features': [2, 3, 4]},\n",
        "  ]\n",
        "\n",
        "forest_reg = RandomForestRegressor(random_state=42)\n",
        "# train across 5 folds, that's a total of (12+6)*5=90 rounds of training \n",
        "grid_search = GridSearchCV(forest_reg, param_grid, cv=5,\n",
        "                           scoring='neg_mean_squared_error',\n",
        "                           return_train_score=True)\n",
        "grid_search.fit(housing_prepared, housing_labels)"
      ],
      "execution_count": null,
      "outputs": [
        {
          "output_type": "execute_result",
          "data": {
            "text/plain": [
              "GridSearchCV(cv=5, error_score=nan,\n",
              "             estimator=RandomForestRegressor(bootstrap=True, ccp_alpha=0.0,\n",
              "                                             criterion='mse', max_depth=None,\n",
              "                                             max_features='auto',\n",
              "                                             max_leaf_nodes=None,\n",
              "                                             max_samples=None,\n",
              "                                             min_impurity_decrease=0.0,\n",
              "                                             min_impurity_split=None,\n",
              "                                             min_samples_leaf=1,\n",
              "                                             min_samples_split=2,\n",
              "                                             min_weight_fraction_leaf=0.0,\n",
              "                                             n_estimators=100, n_jobs=None,\n",
              "                                             oob_score=False, random_state=42,\n",
              "                                             verbose=0, warm_start=False),\n",
              "             iid='deprecated', n_jobs=None,\n",
              "             param_grid=[{'max_features': [2, 4, 6, 8],\n",
              "                          'n_estimators': [3, 10, 30]},\n",
              "                         {'bootstrap': [False], 'max_features': [2, 3, 4],\n",
              "                          'n_estimators': [3, 10]}],\n",
              "             pre_dispatch='2*n_jobs', refit=True, return_train_score=True,\n",
              "             scoring='neg_mean_squared_error', verbose=0)"
            ]
          },
          "metadata": {
            "tags": []
          },
          "execution_count": 57
        }
      ]
    },
    {
      "cell_type": "code",
      "metadata": {
        "id": "31fEXNO3bINI",
        "colab": {
          "base_uri": "https://localhost:8080/"
        },
        "outputId": "ae55be3a-06a1-4d52-c8ba-ba38588ab850"
      },
      "source": [
        "grid_search.best_params_"
      ],
      "execution_count": null,
      "outputs": [
        {
          "output_type": "execute_result",
          "data": {
            "text/plain": [
              "{'max_features': 6, 'n_estimators': 30}"
            ]
          },
          "metadata": {
            "tags": []
          },
          "execution_count": 58
        }
      ]
    },
    {
      "cell_type": "code",
      "metadata": {
        "id": "XElKJxFgbPgJ",
        "colab": {
          "base_uri": "https://localhost:8080/"
        },
        "outputId": "cc821aae-83e8-46cb-f833-c1a698d1d161"
      },
      "source": [
        "grid_search.best_estimator_"
      ],
      "execution_count": null,
      "outputs": [
        {
          "output_type": "execute_result",
          "data": {
            "text/plain": [
              "RandomForestRegressor(bootstrap=True, ccp_alpha=0.0, criterion='mse',\n",
              "                      max_depth=None, max_features=6, max_leaf_nodes=None,\n",
              "                      max_samples=None, min_impurity_decrease=0.0,\n",
              "                      min_impurity_split=None, min_samples_leaf=1,\n",
              "                      min_samples_split=2, min_weight_fraction_leaf=0.0,\n",
              "                      n_estimators=30, n_jobs=None, oob_score=False,\n",
              "                      random_state=42, verbose=0, warm_start=False)"
            ]
          },
          "metadata": {
            "tags": []
          },
          "execution_count": 59
        }
      ]
    },
    {
      "cell_type": "code",
      "metadata": {
        "id": "r6llsxYmbTyN",
        "colab": {
          "base_uri": "https://localhost:8080/"
        },
        "outputId": "7157911b-567e-422f-cf1f-734d037e996f"
      },
      "source": [
        "cvres = grid_search.cv_results_\n",
        "for mean_score, params in zip(cvres[\"mean_test_score\"], cvres[\"params\"]):\n",
        "    print(np.sqrt(-mean_score), params)"
      ],
      "execution_count": null,
      "outputs": [
        {
          "output_type": "stream",
          "text": [
            "63279.21004417338 {'max_features': 2, 'n_estimators': 3}\n",
            "55626.61183186216 {'max_features': 2, 'n_estimators': 10}\n",
            "52846.97332309574 {'max_features': 2, 'n_estimators': 30}\n",
            "61365.52621187182 {'max_features': 4, 'n_estimators': 3}\n",
            "53512.84032141221 {'max_features': 4, 'n_estimators': 10}\n",
            "51161.288297908555 {'max_features': 4, 'n_estimators': 30}\n",
            "60078.485487010286 {'max_features': 6, 'n_estimators': 3}\n",
            "53079.94335819997 {'max_features': 6, 'n_estimators': 10}\n",
            "50834.56561758414 {'max_features': 6, 'n_estimators': 30}\n",
            "60246.83788278487 {'max_features': 8, 'n_estimators': 3}\n",
            "53239.081545188616 {'max_features': 8, 'n_estimators': 10}\n",
            "50985.74939511549 {'max_features': 8, 'n_estimators': 30}\n",
            "62000.923513046044 {'bootstrap': False, 'max_features': 2, 'n_estimators': 3}\n",
            "54468.789419068315 {'bootstrap': False, 'max_features': 2, 'n_estimators': 10}\n",
            "60776.21347034954 {'bootstrap': False, 'max_features': 3, 'n_estimators': 3}\n",
            "52760.46243284048 {'bootstrap': False, 'max_features': 3, 'n_estimators': 10}\n",
            "59955.062773925056 {'bootstrap': False, 'max_features': 4, 'n_estimators': 3}\n",
            "52665.174153310596 {'bootstrap': False, 'max_features': 4, 'n_estimators': 10}\n"
          ],
          "name": "stdout"
        }
      ]
    },
    {
      "cell_type": "code",
      "metadata": {
        "id": "glIMkIplboty",
        "colab": {
          "base_uri": "https://localhost:8080/",
          "height": 1000
        },
        "outputId": "b1144eba-f87d-4e12-fbc9-50a02e681e0a"
      },
      "source": [
        "\n",
        "pd.DataFrame(grid_search.cv_results_)"
      ],
      "execution_count": null,
      "outputs": [
        {
          "output_type": "execute_result",
          "data": {
            "text/html": [
              "<div>\n",
              "<style scoped>\n",
              "    .dataframe tbody tr th:only-of-type {\n",
              "        vertical-align: middle;\n",
              "    }\n",
              "\n",
              "    .dataframe tbody tr th {\n",
              "        vertical-align: top;\n",
              "    }\n",
              "\n",
              "    .dataframe thead th {\n",
              "        text-align: right;\n",
              "    }\n",
              "</style>\n",
              "<table border=\"1\" class=\"dataframe\">\n",
              "  <thead>\n",
              "    <tr style=\"text-align: right;\">\n",
              "      <th></th>\n",
              "      <th>mean_fit_time</th>\n",
              "      <th>std_fit_time</th>\n",
              "      <th>mean_score_time</th>\n",
              "      <th>std_score_time</th>\n",
              "      <th>param_max_features</th>\n",
              "      <th>param_n_estimators</th>\n",
              "      <th>param_bootstrap</th>\n",
              "      <th>params</th>\n",
              "      <th>split0_test_score</th>\n",
              "      <th>split1_test_score</th>\n",
              "      <th>split2_test_score</th>\n",
              "      <th>split3_test_score</th>\n",
              "      <th>split4_test_score</th>\n",
              "      <th>mean_test_score</th>\n",
              "      <th>std_test_score</th>\n",
              "      <th>rank_test_score</th>\n",
              "      <th>split0_train_score</th>\n",
              "      <th>split1_train_score</th>\n",
              "      <th>split2_train_score</th>\n",
              "      <th>split3_train_score</th>\n",
              "      <th>split4_train_score</th>\n",
              "      <th>mean_train_score</th>\n",
              "      <th>std_train_score</th>\n",
              "    </tr>\n",
              "  </thead>\n",
              "  <tbody>\n",
              "    <tr>\n",
              "      <th>0</th>\n",
              "      <td>0.078165</td>\n",
              "      <td>0.010350</td>\n",
              "      <td>0.004258</td>\n",
              "      <td>0.000074</td>\n",
              "      <td>2</td>\n",
              "      <td>3</td>\n",
              "      <td>NaN</td>\n",
              "      <td>{'max_features': 2, 'n_estimators': 3}</td>\n",
              "      <td>-4.069367e+09</td>\n",
              "      <td>-4.211479e+09</td>\n",
              "      <td>-3.776283e+09</td>\n",
              "      <td>-4.184864e+09</td>\n",
              "      <td>-3.779298e+09</td>\n",
              "      <td>-4.004258e+09</td>\n",
              "      <td>1.909858e+08</td>\n",
              "      <td>18</td>\n",
              "      <td>-1.119468e+09</td>\n",
              "      <td>-1.034574e+09</td>\n",
              "      <td>-1.124446e+09</td>\n",
              "      <td>-1.058205e+09</td>\n",
              "      <td>-1.069841e+09</td>\n",
              "      <td>-1.081307e+09</td>\n",
              "      <td>3.511803e+07</td>\n",
              "    </tr>\n",
              "    <tr>\n",
              "      <th>1</th>\n",
              "      <td>0.237238</td>\n",
              "      <td>0.004550</td>\n",
              "      <td>0.011496</td>\n",
              "      <td>0.000191</td>\n",
              "      <td>2</td>\n",
              "      <td>10</td>\n",
              "      <td>NaN</td>\n",
              "      <td>{'max_features': 2, 'n_estimators': 10}</td>\n",
              "      <td>-3.058439e+09</td>\n",
              "      <td>-3.273897e+09</td>\n",
              "      <td>-2.951807e+09</td>\n",
              "      <td>-3.139451e+09</td>\n",
              "      <td>-3.048006e+09</td>\n",
              "      <td>-3.094320e+09</td>\n",
              "      <td>1.077287e+08</td>\n",
              "      <td>11</td>\n",
              "      <td>-5.891101e+08</td>\n",
              "      <td>-5.448554e+08</td>\n",
              "      <td>-5.906103e+08</td>\n",
              "      <td>-5.726506e+08</td>\n",
              "      <td>-5.711243e+08</td>\n",
              "      <td>-5.736701e+08</td>\n",
              "      <td>1.651164e+07</td>\n",
              "    </tr>\n",
              "    <tr>\n",
              "      <th>2</th>\n",
              "      <td>0.692001</td>\n",
              "      <td>0.007421</td>\n",
              "      <td>0.032515</td>\n",
              "      <td>0.001356</td>\n",
              "      <td>2</td>\n",
              "      <td>30</td>\n",
              "      <td>NaN</td>\n",
              "      <td>{'max_features': 2, 'n_estimators': 30}</td>\n",
              "      <td>-2.734837e+09</td>\n",
              "      <td>-2.917816e+09</td>\n",
              "      <td>-2.631201e+09</td>\n",
              "      <td>-2.889374e+09</td>\n",
              "      <td>-2.790785e+09</td>\n",
              "      <td>-2.792803e+09</td>\n",
              "      <td>1.043395e+08</td>\n",
              "      <td>6</td>\n",
              "      <td>-4.364629e+08</td>\n",
              "      <td>-4.167892e+08</td>\n",
              "      <td>-4.361255e+08</td>\n",
              "      <td>-4.185950e+08</td>\n",
              "      <td>-4.245626e+08</td>\n",
              "      <td>-4.265070e+08</td>\n",
              "      <td>8.395864e+06</td>\n",
              "    </tr>\n",
              "    <tr>\n",
              "      <th>3</th>\n",
              "      <td>0.115942</td>\n",
              "      <td>0.002382</td>\n",
              "      <td>0.004309</td>\n",
              "      <td>0.000072</td>\n",
              "      <td>4</td>\n",
              "      <td>3</td>\n",
              "      <td>NaN</td>\n",
              "      <td>{'max_features': 4, 'n_estimators': 3}</td>\n",
              "      <td>-3.717909e+09</td>\n",
              "      <td>-3.897110e+09</td>\n",
              "      <td>-3.715928e+09</td>\n",
              "      <td>-3.784714e+09</td>\n",
              "      <td>-3.712979e+09</td>\n",
              "      <td>-3.765728e+09</td>\n",
              "      <td>7.095192e+07</td>\n",
              "      <td>16</td>\n",
              "      <td>-9.866052e+08</td>\n",
              "      <td>-9.766653e+08</td>\n",
              "      <td>-9.996361e+08</td>\n",
              "      <td>-9.776573e+08</td>\n",
              "      <td>-9.521990e+08</td>\n",
              "      <td>-9.785526e+08</td>\n",
              "      <td>1.554500e+07</td>\n",
              "    </tr>\n",
              "    <tr>\n",
              "      <th>4</th>\n",
              "      <td>0.375128</td>\n",
              "      <td>0.005545</td>\n",
              "      <td>0.011558</td>\n",
              "      <td>0.000234</td>\n",
              "      <td>4</td>\n",
              "      <td>10</td>\n",
              "      <td>NaN</td>\n",
              "      <td>{'max_features': 4, 'n_estimators': 10}</td>\n",
              "      <td>-2.760963e+09</td>\n",
              "      <td>-3.044110e+09</td>\n",
              "      <td>-2.764582e+09</td>\n",
              "      <td>-2.936929e+09</td>\n",
              "      <td>-2.811536e+09</td>\n",
              "      <td>-2.863624e+09</td>\n",
              "      <td>1.104634e+08</td>\n",
              "      <td>9</td>\n",
              "      <td>-5.313619e+08</td>\n",
              "      <td>-5.240504e+08</td>\n",
              "      <td>-5.468060e+08</td>\n",
              "      <td>-5.231201e+08</td>\n",
              "      <td>-5.246040e+08</td>\n",
              "      <td>-5.299885e+08</td>\n",
              "      <td>8.901054e+06</td>\n",
              "    </tr>\n",
              "    <tr>\n",
              "      <th>5</th>\n",
              "      <td>1.112263</td>\n",
              "      <td>0.004723</td>\n",
              "      <td>0.032239</td>\n",
              "      <td>0.001217</td>\n",
              "      <td>4</td>\n",
              "      <td>30</td>\n",
              "      <td>NaN</td>\n",
              "      <td>{'max_features': 4, 'n_estimators': 30}</td>\n",
              "      <td>-2.552236e+09</td>\n",
              "      <td>-2.800669e+09</td>\n",
              "      <td>-2.475203e+09</td>\n",
              "      <td>-2.735994e+09</td>\n",
              "      <td>-2.523285e+09</td>\n",
              "      <td>-2.617477e+09</td>\n",
              "      <td>1.272605e+08</td>\n",
              "      <td>3</td>\n",
              "      <td>-4.017574e+08</td>\n",
              "      <td>-3.986200e+08</td>\n",
              "      <td>-4.096680e+08</td>\n",
              "      <td>-3.913138e+08</td>\n",
              "      <td>-3.963998e+08</td>\n",
              "      <td>-3.995518e+08</td>\n",
              "      <td>6.097065e+06</td>\n",
              "    </tr>\n",
              "    <tr>\n",
              "      <th>6</th>\n",
              "      <td>0.161417</td>\n",
              "      <td>0.002808</td>\n",
              "      <td>0.004257</td>\n",
              "      <td>0.000025</td>\n",
              "      <td>6</td>\n",
              "      <td>3</td>\n",
              "      <td>NaN</td>\n",
              "      <td>{'max_features': 6, 'n_estimators': 3}</td>\n",
              "      <td>-3.465652e+09</td>\n",
              "      <td>-3.927480e+09</td>\n",
              "      <td>-3.348332e+09</td>\n",
              "      <td>-3.680898e+09</td>\n",
              "      <td>-3.624759e+09</td>\n",
              "      <td>-3.609424e+09</td>\n",
              "      <td>1.976577e+08</td>\n",
              "      <td>13</td>\n",
              "      <td>-9.486658e+08</td>\n",
              "      <td>-9.614432e+08</td>\n",
              "      <td>-8.885107e+08</td>\n",
              "      <td>-9.050781e+08</td>\n",
              "      <td>-9.248359e+08</td>\n",
              "      <td>-9.257067e+08</td>\n",
              "      <td>2.688515e+07</td>\n",
              "    </tr>\n",
              "    <tr>\n",
              "      <th>7</th>\n",
              "      <td>0.515987</td>\n",
              "      <td>0.007653</td>\n",
              "      <td>0.012461</td>\n",
              "      <td>0.001241</td>\n",
              "      <td>6</td>\n",
              "      <td>10</td>\n",
              "      <td>NaN</td>\n",
              "      <td>{'max_features': 6, 'n_estimators': 10}</td>\n",
              "      <td>-2.749214e+09</td>\n",
              "      <td>-2.957629e+09</td>\n",
              "      <td>-2.585129e+09</td>\n",
              "      <td>-2.969825e+09</td>\n",
              "      <td>-2.825605e+09</td>\n",
              "      <td>-2.817480e+09</td>\n",
              "      <td>1.425227e+08</td>\n",
              "      <td>7</td>\n",
              "      <td>-5.246476e+08</td>\n",
              "      <td>-5.069609e+08</td>\n",
              "      <td>-4.919051e+08</td>\n",
              "      <td>-4.979121e+08</td>\n",
              "      <td>-5.047606e+08</td>\n",
              "      <td>-5.052372e+08</td>\n",
              "      <td>1.105771e+07</td>\n",
              "    </tr>\n",
              "    <tr>\n",
              "      <th>8</th>\n",
              "      <td>1.530120</td>\n",
              "      <td>0.013011</td>\n",
              "      <td>0.032649</td>\n",
              "      <td>0.000896</td>\n",
              "      <td>6</td>\n",
              "      <td>30</td>\n",
              "      <td>NaN</td>\n",
              "      <td>{'max_features': 6, 'n_estimators': 30}</td>\n",
              "      <td>-2.521209e+09</td>\n",
              "      <td>-2.735282e+09</td>\n",
              "      <td>-2.428112e+09</td>\n",
              "      <td>-2.676561e+09</td>\n",
              "      <td>-2.559601e+09</td>\n",
              "      <td>-2.584153e+09</td>\n",
              "      <td>1.098114e+08</td>\n",
              "      <td>1</td>\n",
              "      <td>-3.931415e+08</td>\n",
              "      <td>-3.836414e+08</td>\n",
              "      <td>-3.897655e+08</td>\n",
              "      <td>-3.862395e+08</td>\n",
              "      <td>-3.985766e+08</td>\n",
              "      <td>-3.902729e+08</td>\n",
              "      <td>5.247526e+06</td>\n",
              "    </tr>\n",
              "    <tr>\n",
              "      <th>9</th>\n",
              "      <td>0.204611</td>\n",
              "      <td>0.002967</td>\n",
              "      <td>0.004444</td>\n",
              "      <td>0.000199</td>\n",
              "      <td>8</td>\n",
              "      <td>3</td>\n",
              "      <td>NaN</td>\n",
              "      <td>{'max_features': 8, 'n_estimators': 3}</td>\n",
              "      <td>-3.570184e+09</td>\n",
              "      <td>-3.871041e+09</td>\n",
              "      <td>-3.515431e+09</td>\n",
              "      <td>-3.736418e+09</td>\n",
              "      <td>-3.455333e+09</td>\n",
              "      <td>-3.629681e+09</td>\n",
              "      <td>1.527337e+08</td>\n",
              "      <td>14</td>\n",
              "      <td>-9.746579e+08</td>\n",
              "      <td>-8.811302e+08</td>\n",
              "      <td>-9.096144e+08</td>\n",
              "      <td>-9.212679e+08</td>\n",
              "      <td>-8.984843e+08</td>\n",
              "      <td>-9.170309e+08</td>\n",
              "      <td>3.170698e+07</td>\n",
              "    </tr>\n",
              "    <tr>\n",
              "      <th>10</th>\n",
              "      <td>0.662153</td>\n",
              "      <td>0.010051</td>\n",
              "      <td>0.011309</td>\n",
              "      <td>0.000073</td>\n",
              "      <td>8</td>\n",
              "      <td>10</td>\n",
              "      <td>NaN</td>\n",
              "      <td>{'max_features': 8, 'n_estimators': 10}</td>\n",
              "      <td>-2.718229e+09</td>\n",
              "      <td>-2.996244e+09</td>\n",
              "      <td>-2.688498e+09</td>\n",
              "      <td>-2.907316e+09</td>\n",
              "      <td>-2.861713e+09</td>\n",
              "      <td>-2.834400e+09</td>\n",
              "      <td>1.157923e+08</td>\n",
              "      <td>8</td>\n",
              "      <td>-5.298388e+08</td>\n",
              "      <td>-4.787790e+08</td>\n",
              "      <td>-5.104516e+08</td>\n",
              "      <td>-4.839090e+08</td>\n",
              "      <td>-5.006230e+08</td>\n",
              "      <td>-5.007203e+08</td>\n",
              "      <td>1.847504e+07</td>\n",
              "    </tr>\n",
              "    <tr>\n",
              "      <th>11</th>\n",
              "      <td>1.960735</td>\n",
              "      <td>0.018512</td>\n",
              "      <td>0.031865</td>\n",
              "      <td>0.000682</td>\n",
              "      <td>8</td>\n",
              "      <td>30</td>\n",
              "      <td>NaN</td>\n",
              "      <td>{'max_features': 8, 'n_estimators': 30}</td>\n",
              "      <td>-2.504455e+09</td>\n",
              "      <td>-2.749024e+09</td>\n",
              "      <td>-2.435287e+09</td>\n",
              "      <td>-2.688773e+09</td>\n",
              "      <td>-2.620194e+09</td>\n",
              "      <td>-2.599547e+09</td>\n",
              "      <td>1.155461e+08</td>\n",
              "      <td>2</td>\n",
              "      <td>-3.999997e+08</td>\n",
              "      <td>-3.763728e+08</td>\n",
              "      <td>-3.970256e+08</td>\n",
              "      <td>-3.790365e+08</td>\n",
              "      <td>-3.879205e+08</td>\n",
              "      <td>-3.880710e+08</td>\n",
              "      <td>9.391201e+06</td>\n",
              "    </tr>\n",
              "    <tr>\n",
              "      <th>12</th>\n",
              "      <td>0.113900</td>\n",
              "      <td>0.001589</td>\n",
              "      <td>0.005081</td>\n",
              "      <td>0.000027</td>\n",
              "      <td>2</td>\n",
              "      <td>3</td>\n",
              "      <td>False</td>\n",
              "      <td>{'bootstrap': False, 'max_features': 2, 'n_est...</td>\n",
              "      <td>-3.751756e+09</td>\n",
              "      <td>-4.034707e+09</td>\n",
              "      <td>-3.693391e+09</td>\n",
              "      <td>-3.793411e+09</td>\n",
              "      <td>-3.947308e+09</td>\n",
              "      <td>-3.844115e+09</td>\n",
              "      <td>1.271163e+08</td>\n",
              "      <td>17</td>\n",
              "      <td>-0.000000e+00</td>\n",
              "      <td>-0.000000e+00</td>\n",
              "      <td>-0.000000e+00</td>\n",
              "      <td>-0.000000e+00</td>\n",
              "      <td>-0.000000e+00</td>\n",
              "      <td>0.000000e+00</td>\n",
              "      <td>0.000000e+00</td>\n",
              "    </tr>\n",
              "    <tr>\n",
              "      <th>13</th>\n",
              "      <td>0.367496</td>\n",
              "      <td>0.003491</td>\n",
              "      <td>0.013993</td>\n",
              "      <td>0.000330</td>\n",
              "      <td>2</td>\n",
              "      <td>10</td>\n",
              "      <td>False</td>\n",
              "      <td>{'bootstrap': False, 'max_features': 2, 'n_est...</td>\n",
              "      <td>-2.959835e+09</td>\n",
              "      <td>-3.072195e+09</td>\n",
              "      <td>-2.710601e+09</td>\n",
              "      <td>-3.090002e+09</td>\n",
              "      <td>-3.001612e+09</td>\n",
              "      <td>-2.966849e+09</td>\n",
              "      <td>1.365173e+08</td>\n",
              "      <td>10</td>\n",
              "      <td>-4.134367e+00</td>\n",
              "      <td>-0.000000e+00</td>\n",
              "      <td>-0.000000e+00</td>\n",
              "      <td>-2.632429e+00</td>\n",
              "      <td>-1.713340e+02</td>\n",
              "      <td>-3.562016e+01</td>\n",
              "      <td>6.787544e+01</td>\n",
              "    </tr>\n",
              "    <tr>\n",
              "      <th>14</th>\n",
              "      <td>0.141171</td>\n",
              "      <td>0.002134</td>\n",
              "      <td>0.005507</td>\n",
              "      <td>0.001040</td>\n",
              "      <td>3</td>\n",
              "      <td>3</td>\n",
              "      <td>False</td>\n",
              "      <td>{'bootstrap': False, 'max_features': 3, 'n_est...</td>\n",
              "      <td>-3.539915e+09</td>\n",
              "      <td>-3.922559e+09</td>\n",
              "      <td>-3.523745e+09</td>\n",
              "      <td>-3.759634e+09</td>\n",
              "      <td>-3.722888e+09</td>\n",
              "      <td>-3.693748e+09</td>\n",
              "      <td>1.483981e+08</td>\n",
              "      <td>15</td>\n",
              "      <td>-0.000000e+00</td>\n",
              "      <td>-1.467772e+04</td>\n",
              "      <td>-0.000000e+00</td>\n",
              "      <td>-0.000000e+00</td>\n",
              "      <td>-0.000000e+00</td>\n",
              "      <td>-2.935544e+03</td>\n",
              "      <td>5.871088e+03</td>\n",
              "    </tr>\n",
              "    <tr>\n",
              "      <th>15</th>\n",
              "      <td>0.479684</td>\n",
              "      <td>0.002741</td>\n",
              "      <td>0.013918</td>\n",
              "      <td>0.000274</td>\n",
              "      <td>3</td>\n",
              "      <td>10</td>\n",
              "      <td>False</td>\n",
              "      <td>{'bootstrap': False, 'max_features': 3, 'n_est...</td>\n",
              "      <td>-2.763700e+09</td>\n",
              "      <td>-2.955257e+09</td>\n",
              "      <td>-2.612515e+09</td>\n",
              "      <td>-2.854365e+09</td>\n",
              "      <td>-2.732495e+09</td>\n",
              "      <td>-2.783666e+09</td>\n",
              "      <td>1.155433e+08</td>\n",
              "      <td>5</td>\n",
              "      <td>-0.000000e+00</td>\n",
              "      <td>-1.320995e+03</td>\n",
              "      <td>-0.000000e+00</td>\n",
              "      <td>-0.000000e+00</td>\n",
              "      <td>-7.913437e-01</td>\n",
              "      <td>-2.643572e+02</td>\n",
              "      <td>5.283189e+02</td>\n",
              "    </tr>\n",
              "    <tr>\n",
              "      <th>16</th>\n",
              "      <td>0.187472</td>\n",
              "      <td>0.007082</td>\n",
              "      <td>0.005045</td>\n",
              "      <td>0.000114</td>\n",
              "      <td>4</td>\n",
              "      <td>3</td>\n",
              "      <td>False</td>\n",
              "      <td>{'bootstrap': False, 'max_features': 4, 'n_est...</td>\n",
              "      <td>-3.546124e+09</td>\n",
              "      <td>-3.825279e+09</td>\n",
              "      <td>-3.371920e+09</td>\n",
              "      <td>-3.607641e+09</td>\n",
              "      <td>-3.622083e+09</td>\n",
              "      <td>-3.594610e+09</td>\n",
              "      <td>1.456531e+08</td>\n",
              "      <td>12</td>\n",
              "      <td>-0.000000e+00</td>\n",
              "      <td>-0.000000e+00</td>\n",
              "      <td>-0.000000e+00</td>\n",
              "      <td>-0.000000e+00</td>\n",
              "      <td>-5.396982e+04</td>\n",
              "      <td>-1.079396e+04</td>\n",
              "      <td>2.158793e+04</td>\n",
              "    </tr>\n",
              "    <tr>\n",
              "      <th>17</th>\n",
              "      <td>0.591980</td>\n",
              "      <td>0.004360</td>\n",
              "      <td>0.014141</td>\n",
              "      <td>0.000336</td>\n",
              "      <td>4</td>\n",
              "      <td>10</td>\n",
              "      <td>False</td>\n",
              "      <td>{'bootstrap': False, 'max_features': 4, 'n_est...</td>\n",
              "      <td>-2.747779e+09</td>\n",
              "      <td>-2.929677e+09</td>\n",
              "      <td>-2.557819e+09</td>\n",
              "      <td>-2.867955e+09</td>\n",
              "      <td>-2.764873e+09</td>\n",
              "      <td>-2.773621e+09</td>\n",
              "      <td>1.269388e+08</td>\n",
              "      <td>4</td>\n",
              "      <td>-0.000000e+00</td>\n",
              "      <td>-0.000000e+00</td>\n",
              "      <td>-0.000000e+00</td>\n",
              "      <td>-0.000000e+00</td>\n",
              "      <td>-4.857284e+03</td>\n",
              "      <td>-9.714567e+02</td>\n",
              "      <td>1.942913e+03</td>\n",
              "    </tr>\n",
              "  </tbody>\n",
              "</table>\n",
              "</div>"
            ],
            "text/plain": [
              "    mean_fit_time  std_fit_time  ...  mean_train_score  std_train_score\n",
              "0        0.078165      0.010350  ...     -1.081307e+09     3.511803e+07\n",
              "1        0.237238      0.004550  ...     -5.736701e+08     1.651164e+07\n",
              "2        0.692001      0.007421  ...     -4.265070e+08     8.395864e+06\n",
              "3        0.115942      0.002382  ...     -9.785526e+08     1.554500e+07\n",
              "4        0.375128      0.005545  ...     -5.299885e+08     8.901054e+06\n",
              "5        1.112263      0.004723  ...     -3.995518e+08     6.097065e+06\n",
              "6        0.161417      0.002808  ...     -9.257067e+08     2.688515e+07\n",
              "7        0.515987      0.007653  ...     -5.052372e+08     1.105771e+07\n",
              "8        1.530120      0.013011  ...     -3.902729e+08     5.247526e+06\n",
              "9        0.204611      0.002967  ...     -9.170309e+08     3.170698e+07\n",
              "10       0.662153      0.010051  ...     -5.007203e+08     1.847504e+07\n",
              "11       1.960735      0.018512  ...     -3.880710e+08     9.391201e+06\n",
              "12       0.113900      0.001589  ...      0.000000e+00     0.000000e+00\n",
              "13       0.367496      0.003491  ...     -3.562016e+01     6.787544e+01\n",
              "14       0.141171      0.002134  ...     -2.935544e+03     5.871088e+03\n",
              "15       0.479684      0.002741  ...     -2.643572e+02     5.283189e+02\n",
              "16       0.187472      0.007082  ...     -1.079396e+04     2.158793e+04\n",
              "17       0.591980      0.004360  ...     -9.714567e+02     1.942913e+03\n",
              "\n",
              "[18 rows x 23 columns]"
            ]
          },
          "metadata": {
            "tags": []
          },
          "execution_count": 61
        }
      ]
    },
    {
      "cell_type": "code",
      "metadata": {
        "id": "1-xQ3hGA2Eug",
        "colab": {
          "base_uri": "https://localhost:8080/"
        },
        "outputId": "6c3c00b0-911a-4146-f90c-0c439f4636bf"
      },
      "source": [
        "final_model = grid_search.best_estimator_\n",
        "\n",
        "X_test = strat_test_set.drop(\"median_house_value\", axis=1)\n",
        "y_test = strat_test_set[\"median_house_value\"].copy()\n",
        "\n",
        "X_test_prepared = full_pipeline.transform(X_test)\n",
        "final_predictions = final_model.predict(X_test_prepared)\n",
        "\n",
        "final_mse = mean_squared_error(y_test, final_predictions)\n",
        "final_rmse = np.sqrt(final_mse)\n",
        "final_rmse"
      ],
      "execution_count": null,
      "outputs": [
        {
          "output_type": "execute_result",
          "data": {
            "text/plain": [
              "51438.47159640764"
            ]
          },
          "metadata": {
            "tags": []
          },
          "execution_count": 62
        }
      ]
    },
    {
      "cell_type": "markdown",
      "metadata": {
        "id": "GEhQAYXQNcM5"
      },
      "source": [
        "## Evaluate System on the Test Set"
      ]
    },
    {
      "cell_type": "markdown",
      "metadata": {
        "id": "J0YBImjeNhuJ"
      },
      "source": [
        "Q14  Evaluate the final model on the test set.  Use the Linear Regression model for the final testing."
      ]
    },
    {
      "cell_type": "code",
      "metadata": {
        "id": "7hPyYHOkwITQ"
      },
      "source": [
        ""
      ],
      "execution_count": null,
      "outputs": []
    },
    {
      "cell_type": "code",
      "metadata": {
        "cellView": "form",
        "id": "V8T7TFrY9eRM",
        "colab": {
          "base_uri": "https://localhost:8080/"
        },
        "outputId": "8812ac1d-f23a-424b-d9bf-5db2c0285352"
      },
      "source": [
        "#@title\n",
        "final_model = lin_reg\n",
        "\n",
        "X_test = strat_test_set.drop(\"median_house_value\", axis=1)\n",
        "y_test = strat_test_set[\"median_house_value\"].copy()\n",
        "\n",
        "X_test_prepared = full_pipeline.transform(X_test)\n",
        "final_predictions = final_model.predict(X_test_prepared)\n",
        "\n",
        "final_mse = mean_squared_error(y_test, final_predictions)\n",
        "final_rmse = np.sqrt(final_mse)\n",
        "final_rmse"
      ],
      "execution_count": null,
      "outputs": [
        {
          "output_type": "execute_result",
          "data": {
            "text/plain": [
              "69581.87135237388"
            ]
          },
          "metadata": {
            "tags": []
          },
          "execution_count": 63
        }
      ]
    }
  ]
}